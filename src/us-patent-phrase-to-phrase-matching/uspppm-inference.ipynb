{
 "cells": [
  {
   "cell_type": "code",
   "execution_count": 1,
   "id": "a8397502",
   "metadata": {
    "_cell_guid": "b1076dfc-b9ad-4769-8c92-a6c4dae69d19",
    "_uuid": "8f2839f25d086af736a60e9eeb907d3b93b6e0e5",
    "execution": {
     "iopub.execute_input": "2022-04-04T04:43:33.897560Z",
     "iopub.status.busy": "2022-04-04T04:43:33.896053Z",
     "iopub.status.idle": "2022-04-04T04:43:33.913082Z",
     "shell.execute_reply": "2022-04-04T04:43:33.912554Z",
     "shell.execute_reply.started": "2022-04-04T04:40:59.029419Z"
    },
    "papermill": {
     "duration": 0.047983,
     "end_time": "2022-04-04T04:43:33.913224",
     "exception": false,
     "start_time": "2022-04-04T04:43:33.865241",
     "status": "completed"
    },
    "tags": []
   },
   "outputs": [],
   "source": [
    "%config IPCompleter.use_jedi=False"
   ]
  },
  {
   "cell_type": "code",
   "execution_count": 2,
   "id": "80f276e1",
   "metadata": {
    "execution": {
     "iopub.execute_input": "2022-04-04T04:43:33.998837Z",
     "iopub.status.busy": "2022-04-04T04:43:33.997990Z",
     "iopub.status.idle": "2022-04-04T04:43:41.432070Z",
     "shell.execute_reply": "2022-04-04T04:43:41.431468Z",
     "shell.execute_reply.started": "2022-04-04T04:40:59.067856Z"
    },
    "papermill": {
     "duration": 7.488749,
     "end_time": "2022-04-04T04:43:41.432214",
     "exception": false,
     "start_time": "2022-04-04T04:43:33.943465",
     "status": "completed"
    },
    "tags": []
   },
   "outputs": [],
   "source": [
    "import numpy as np \n",
    "import pandas as pd \n",
    "from sklearn.model_selection import train_test_split\n",
    "import random\n",
    "import os\n",
    "import torch\n",
    "from torch.utils.data import Dataset, DataLoader\n",
    "from transformers import AutoModel, AutoConfig, AutoTokenizer, get_linear_schedule_with_warmup,TrainingArguments, Trainer\n",
    "from datasets import load_metric\n",
    "from transformers import BertModel\n",
    "import torch.nn as nn\n",
    "from torch.optim import Adam\n",
    "from tqdm import tqdm"
   ]
  },
  {
   "cell_type": "code",
   "execution_count": 3,
   "id": "38ba63f7",
   "metadata": {
    "execution": {
     "iopub.execute_input": "2022-04-04T04:43:41.490101Z",
     "iopub.status.busy": "2022-04-04T04:43:41.489324Z",
     "iopub.status.idle": "2022-04-04T04:43:41.491897Z",
     "shell.execute_reply": "2022-04-04T04:43:41.491484Z",
     "shell.execute_reply.started": "2022-04-04T04:41:06.382599Z"
    },
    "papermill": {
     "duration": 0.033835,
     "end_time": "2022-04-04T04:43:41.492013",
     "exception": false,
     "start_time": "2022-04-04T04:43:41.458178",
     "status": "completed"
    },
    "tags": []
   },
   "outputs": [],
   "source": [
    "class Config:\n",
    "    # data\n",
    "    train_csv = '../input/us-patent-phrase-to-phrase-matching/train.csv'\n",
    "    test_cssv = '../input/us-patent-phrase-to-phrase-matching/test.csv'\n",
    "    sub_csv = '../input/us-patent-phrase-to-phrase-matching/sample_submission.csv'\n",
    "    \n",
    "    # model\n",
    "    model = 'anferico/bert-for-patents'\n",
    "    \n",
    "    max_len = 32\n",
    "    num_epoch = 2\n",
    "    batch_size = 64\n",
    "    epochs = 7\n",
    "    lr = 1e-6\n",
    "    \n",
    "    train = False"
   ]
  },
  {
   "cell_type": "code",
   "execution_count": 4,
   "id": "e849f816",
   "metadata": {
    "execution": {
     "iopub.execute_input": "2022-04-04T04:43:41.556950Z",
     "iopub.status.busy": "2022-04-04T04:43:41.556129Z",
     "iopub.status.idle": "2022-04-04T04:43:41.561888Z",
     "shell.execute_reply": "2022-04-04T04:43:41.561377Z",
     "shell.execute_reply.started": "2022-04-04T04:41:06.391588Z"
    },
    "papermill": {
     "duration": 0.041102,
     "end_time": "2022-04-04T04:43:41.562028",
     "exception": false,
     "start_time": "2022-04-04T04:43:41.520926",
     "status": "completed"
    },
    "tags": []
   },
   "outputs": [],
   "source": [
    "def seed_everything(seed=42):\n",
    "    random.seed(seed)\n",
    "    os.environ['PYTHONHASHSEED'] = str(seed)\n",
    "    np.random.seed(seed)\n",
    "    torch.manual_seed(seed)\n",
    "    torch.cuda.manual_seed(seed)\n",
    "    torch.backends.cudnn.deterministic = True\n",
    "    \n",
    "seed_everything(seed=42)"
   ]
  },
  {
   "cell_type": "code",
   "execution_count": 5,
   "id": "5b363227",
   "metadata": {
    "execution": {
     "iopub.execute_input": "2022-04-04T04:43:41.684002Z",
     "iopub.status.busy": "2022-04-04T04:43:41.683262Z",
     "iopub.status.idle": "2022-04-04T04:43:41.689702Z",
     "shell.execute_reply": "2022-04-04T04:43:41.690744Z",
     "shell.execute_reply.started": "2022-04-04T04:41:06.402572Z"
    },
    "papermill": {
     "duration": 0.101615,
     "end_time": "2022-04-04T04:43:41.690938",
     "exception": false,
     "start_time": "2022-04-04T04:43:41.589323",
     "status": "completed"
    },
    "tags": []
   },
   "outputs": [
    {
     "name": "stdout",
     "output_type": "stream",
     "text": [
      "There are 1 GPU(s) available.\n",
      "We will use the GPU: Tesla P100-PCIE-16GB\n",
      "device set to => cuda\n"
     ]
    }
   ],
   "source": [
    "if torch.cuda.is_available():     \n",
    "    device = torch.device(\"cuda\")\n",
    "    print('There are %d GPU(s) available.' % torch.cuda.device_count())\n",
    "    print('We will use the GPU:', torch.cuda.get_device_name(0))\n",
    "else:\n",
    "    print('No GPU available, using the CPU instead.')\n",
    "    device = torch.device(\"cpu\")\n",
    "print( 'device set to =>', device)"
   ]
  },
  {
   "cell_type": "code",
   "execution_count": 6,
   "id": "275de17f",
   "metadata": {
    "execution": {
     "iopub.execute_input": "2022-04-04T04:43:41.748395Z",
     "iopub.status.busy": "2022-04-04T04:43:41.746714Z",
     "iopub.status.idle": "2022-04-04T04:43:41.848361Z",
     "shell.execute_reply": "2022-04-04T04:43:41.847680Z",
     "shell.execute_reply.started": "2022-04-04T04:41:06.467493Z"
    },
    "papermill": {
     "duration": 0.131343,
     "end_time": "2022-04-04T04:43:41.848500",
     "exception": false,
     "start_time": "2022-04-04T04:43:41.717157",
     "status": "completed"
    },
    "tags": []
   },
   "outputs": [],
   "source": [
    "train_df = pd.read_csv( Config.train_csv )\n",
    "test_df = pd.read_csv( Config.test_cssv )\n",
    "sub_df = pd.read_csv( Config.sub_csv )"
   ]
  },
  {
   "cell_type": "code",
   "execution_count": 7,
   "id": "b7303107",
   "metadata": {
    "execution": {
     "iopub.execute_input": "2022-04-04T04:43:41.910144Z",
     "iopub.status.busy": "2022-04-04T04:43:41.905803Z",
     "iopub.status.idle": "2022-04-04T04:43:41.924554Z",
     "shell.execute_reply": "2022-04-04T04:43:41.925018Z",
     "shell.execute_reply.started": "2022-04-04T04:41:06.569653Z"
    },
    "papermill": {
     "duration": 0.048981,
     "end_time": "2022-04-04T04:43:41.925178",
     "exception": false,
     "start_time": "2022-04-04T04:43:41.876197",
     "status": "completed"
    },
    "tags": []
   },
   "outputs": [
    {
     "data": {
      "text/html": [
       "<div>\n",
       "<style scoped>\n",
       "    .dataframe tbody tr th:only-of-type {\n",
       "        vertical-align: middle;\n",
       "    }\n",
       "\n",
       "    .dataframe tbody tr th {\n",
       "        vertical-align: top;\n",
       "    }\n",
       "\n",
       "    .dataframe thead th {\n",
       "        text-align: right;\n",
       "    }\n",
       "</style>\n",
       "<table border=\"1\" class=\"dataframe\">\n",
       "  <thead>\n",
       "    <tr style=\"text-align: right;\">\n",
       "      <th></th>\n",
       "      <th>id</th>\n",
       "      <th>anchor</th>\n",
       "      <th>target</th>\n",
       "      <th>context</th>\n",
       "      <th>score</th>\n",
       "    </tr>\n",
       "  </thead>\n",
       "  <tbody>\n",
       "    <tr>\n",
       "      <th>0</th>\n",
       "      <td>37d61fd2272659b1</td>\n",
       "      <td>abatement</td>\n",
       "      <td>abatement of pollution</td>\n",
       "      <td>A47</td>\n",
       "      <td>0.50</td>\n",
       "    </tr>\n",
       "    <tr>\n",
       "      <th>1</th>\n",
       "      <td>7b9652b17b68b7a4</td>\n",
       "      <td>abatement</td>\n",
       "      <td>act of abating</td>\n",
       "      <td>A47</td>\n",
       "      <td>0.75</td>\n",
       "    </tr>\n",
       "    <tr>\n",
       "      <th>2</th>\n",
       "      <td>36d72442aefd8232</td>\n",
       "      <td>abatement</td>\n",
       "      <td>active catalyst</td>\n",
       "      <td>A47</td>\n",
       "      <td>0.25</td>\n",
       "    </tr>\n",
       "    <tr>\n",
       "      <th>3</th>\n",
       "      <td>5296b0c19e1ce60e</td>\n",
       "      <td>abatement</td>\n",
       "      <td>eliminating process</td>\n",
       "      <td>A47</td>\n",
       "      <td>0.50</td>\n",
       "    </tr>\n",
       "    <tr>\n",
       "      <th>4</th>\n",
       "      <td>54c1e3b9184cb5b6</td>\n",
       "      <td>abatement</td>\n",
       "      <td>forest region</td>\n",
       "      <td>A47</td>\n",
       "      <td>0.00</td>\n",
       "    </tr>\n",
       "  </tbody>\n",
       "</table>\n",
       "</div>"
      ],
      "text/plain": [
       "                 id     anchor                  target context  score\n",
       "0  37d61fd2272659b1  abatement  abatement of pollution     A47   0.50\n",
       "1  7b9652b17b68b7a4  abatement          act of abating     A47   0.75\n",
       "2  36d72442aefd8232  abatement         active catalyst     A47   0.25\n",
       "3  5296b0c19e1ce60e  abatement     eliminating process     A47   0.50\n",
       "4  54c1e3b9184cb5b6  abatement           forest region     A47   0.00"
      ]
     },
     "execution_count": 7,
     "metadata": {},
     "output_type": "execute_result"
    }
   ],
   "source": [
    "train_df.head()"
   ]
  },
  {
   "cell_type": "code",
   "execution_count": 8,
   "id": "88fdbec1",
   "metadata": {
    "execution": {
     "iopub.execute_input": "2022-04-04T04:43:41.983764Z",
     "iopub.status.busy": "2022-04-04T04:43:41.982815Z",
     "iopub.status.idle": "2022-04-04T04:43:41.984957Z",
     "shell.execute_reply": "2022-04-04T04:43:41.985372Z",
     "shell.execute_reply.started": "2022-04-04T04:41:06.591472Z"
    },
    "papermill": {
     "duration": 0.033914,
     "end_time": "2022-04-04T04:43:41.985508",
     "exception": false,
     "start_time": "2022-04-04T04:43:41.951594",
     "status": "completed"
    },
    "tags": []
   },
   "outputs": [],
   "source": [
    "score_map = dict(zip( range(5), ['0.00', '0.25', '0.50', '0.75', '1.00']))\n",
    "inverse_score_map = dict(zip( [0.00, 0.25, 0.50, 0.75, 1.00],range(5) ))"
   ]
  },
  {
   "cell_type": "code",
   "execution_count": 9,
   "id": "38578ffa",
   "metadata": {
    "execution": {
     "iopub.execute_input": "2022-04-04T04:43:42.042485Z",
     "iopub.status.busy": "2022-04-04T04:43:42.041671Z",
     "iopub.status.idle": "2022-04-04T04:43:42.088188Z",
     "shell.execute_reply": "2022-04-04T04:43:42.088615Z",
     "shell.execute_reply.started": "2022-04-04T04:41:06.598905Z"
    },
    "papermill": {
     "duration": 0.076017,
     "end_time": "2022-04-04T04:43:42.088793",
     "exception": false,
     "start_time": "2022-04-04T04:43:42.012776",
     "status": "completed"
    },
    "tags": []
   },
   "outputs": [
    {
     "data": {
      "text/html": [
       "<div>\n",
       "<style scoped>\n",
       "    .dataframe tbody tr th:only-of-type {\n",
       "        vertical-align: middle;\n",
       "    }\n",
       "\n",
       "    .dataframe tbody tr th {\n",
       "        vertical-align: top;\n",
       "    }\n",
       "\n",
       "    .dataframe thead th {\n",
       "        text-align: right;\n",
       "    }\n",
       "</style>\n",
       "<table border=\"1\" class=\"dataframe\">\n",
       "  <thead>\n",
       "    <tr style=\"text-align: right;\">\n",
       "      <th></th>\n",
       "      <th>text_input</th>\n",
       "      <th>label</th>\n",
       "    </tr>\n",
       "  </thead>\n",
       "  <tbody>\n",
       "    <tr>\n",
       "      <th>0</th>\n",
       "      <td>abatement[sep]abatement of pollution[sep]A47</td>\n",
       "      <td>2</td>\n",
       "    </tr>\n",
       "    <tr>\n",
       "      <th>1</th>\n",
       "      <td>abatement[sep]act of abating[sep]A47</td>\n",
       "      <td>3</td>\n",
       "    </tr>\n",
       "    <tr>\n",
       "      <th>2</th>\n",
       "      <td>abatement[sep]active catalyst[sep]A47</td>\n",
       "      <td>1</td>\n",
       "    </tr>\n",
       "    <tr>\n",
       "      <th>3</th>\n",
       "      <td>abatement[sep]eliminating process[sep]A47</td>\n",
       "      <td>2</td>\n",
       "    </tr>\n",
       "    <tr>\n",
       "      <th>4</th>\n",
       "      <td>abatement[sep]forest region[sep]A47</td>\n",
       "      <td>0</td>\n",
       "    </tr>\n",
       "  </tbody>\n",
       "</table>\n",
       "</div>"
      ],
      "text/plain": [
       "                                     text_input  label\n",
       "0  abatement[sep]abatement of pollution[sep]A47      2\n",
       "1          abatement[sep]act of abating[sep]A47      3\n",
       "2         abatement[sep]active catalyst[sep]A47      1\n",
       "3     abatement[sep]eliminating process[sep]A47      2\n",
       "4           abatement[sep]forest region[sep]A47      0"
      ]
     },
     "execution_count": 9,
     "metadata": {},
     "output_type": "execute_result"
    }
   ],
   "source": [
    "train = pd.DataFrame()\n",
    "train['text_input'] = train_df['anchor']+ '[sep]' + train_df['target'] + '[sep]' + train_df['context']\n",
    "train['label'] = train_df['score'].map( inverse_score_map)\n",
    "train.head()"
   ]
  },
  {
   "cell_type": "code",
   "execution_count": 10,
   "id": "41a8952a",
   "metadata": {
    "execution": {
     "iopub.execute_input": "2022-04-04T04:43:42.152147Z",
     "iopub.status.busy": "2022-04-04T04:43:42.151316Z",
     "iopub.status.idle": "2022-04-04T04:43:42.153311Z",
     "shell.execute_reply": "2022-04-04T04:43:42.153676Z",
     "shell.execute_reply.started": "2022-04-04T04:41:06.650569Z"
    },
    "papermill": {
     "duration": 0.038143,
     "end_time": "2022-04-04T04:43:42.153829",
     "exception": false,
     "start_time": "2022-04-04T04:43:42.115686",
     "status": "completed"
    },
    "tags": []
   },
   "outputs": [],
   "source": [
    "class PatentTrainDataset(Dataset):\n",
    "    def __init__( self, text_input, labels, tokenizer):\n",
    "        self.text_input = text_input\n",
    "        self.labels = labels\n",
    "        self.tokenizer = tokenizer\n",
    "        \n",
    "    def __len__(self):\n",
    "        return len( self.text_input)\n",
    "        \n",
    "    def __getitem__(self, idx):\n",
    "        \n",
    "        text_data = self.tokenizer.encode_plus(\n",
    "            self.text_input[ idx ],\n",
    "            add_special_tokens = True,\n",
    "            pad_to_max_length = True,\n",
    "            return_attention_mask = True,\n",
    "            max_length = Config.max_len,\n",
    "        )\n",
    "        input_ids =text_data[ 'input_ids' ]\n",
    "        masks = text_data['attention_mask']\n",
    "        labels = self.labels[ idx ]\n",
    "        return {\n",
    "            'input_ids': torch.tensor( input_ids, dtype=torch.long),\n",
    "            'labels': torch.tensor( labels, dtype=torch.long),\n",
    "            'masks': torch.tensor( masks, dtype=torch.long )\n",
    "        }"
   ]
  },
  {
   "cell_type": "code",
   "execution_count": 11,
   "id": "0f2fca60",
   "metadata": {
    "execution": {
     "iopub.execute_input": "2022-04-04T04:43:42.212785Z",
     "iopub.status.busy": "2022-04-04T04:43:42.211886Z",
     "iopub.status.idle": "2022-04-04T04:43:42.213487Z",
     "shell.execute_reply": "2022-04-04T04:43:42.214015Z",
     "shell.execute_reply.started": "2022-04-04T04:41:06.660194Z"
    },
    "papermill": {
     "duration": 0.033822,
     "end_time": "2022-04-04T04:43:42.214156",
     "exception": false,
     "start_time": "2022-04-04T04:43:42.180334",
     "status": "completed"
    },
    "tags": []
   },
   "outputs": [],
   "source": [
    "if Config.train:\n",
    "    tokenizer = AutoTokenizer.from_pretrained( Config.model)   "
   ]
  },
  {
   "cell_type": "code",
   "execution_count": 12,
   "id": "bc5dda28",
   "metadata": {
    "execution": {
     "iopub.execute_input": "2022-04-04T04:43:42.271013Z",
     "iopub.status.busy": "2022-04-04T04:43:42.270171Z",
     "iopub.status.idle": "2022-04-04T04:43:42.273300Z",
     "shell.execute_reply": "2022-04-04T04:43:42.273662Z",
     "shell.execute_reply.started": "2022-04-04T04:41:06.671443Z"
    },
    "papermill": {
     "duration": 0.033262,
     "end_time": "2022-04-04T04:43:42.273840",
     "exception": false,
     "start_time": "2022-04-04T04:43:42.240578",
     "status": "completed"
    },
    "tags": []
   },
   "outputs": [],
   "source": [
    "# torch.save({\n",
    "#             'tokeniker': tokenizer,\n",
    "           \n",
    "#             }, './tokenizer.pt')"
   ]
  },
  {
   "cell_type": "code",
   "execution_count": 13,
   "id": "bd49b1a3",
   "metadata": {
    "execution": {
     "iopub.execute_input": "2022-04-04T04:43:42.332874Z",
     "iopub.status.busy": "2022-04-04T04:43:42.332088Z",
     "iopub.status.idle": "2022-04-04T04:43:42.334991Z",
     "shell.execute_reply": "2022-04-04T04:43:42.335696Z",
     "shell.execute_reply.started": "2022-04-04T04:41:06.678940Z"
    },
    "papermill": {
     "duration": 0.035615,
     "end_time": "2022-04-04T04:43:42.335891",
     "exception": false,
     "start_time": "2022-04-04T04:43:42.300276",
     "status": "completed"
    },
    "tags": []
   },
   "outputs": [
    {
     "name": "stdout",
     "output_type": "stream",
     "text": [
      "train samples => 32825\n",
      "validation samples => 3648\n"
     ]
    }
   ],
   "source": [
    "train_samples = int(train.shape[0] * 0.9)\n",
    "train_data = train.iloc[:train_samples,:]\n",
    "val_data = train.iloc[train_samples:, :]\n",
    "print( 'train samples =>', len( train_data))\n",
    "print( 'validation samples =>', len(val_data))"
   ]
  },
  {
   "cell_type": "code",
   "execution_count": 14,
   "id": "a62c2213",
   "metadata": {
    "execution": {
     "iopub.execute_input": "2022-04-04T04:43:42.399128Z",
     "iopub.status.busy": "2022-04-04T04:43:42.398218Z",
     "iopub.status.idle": "2022-04-04T04:43:42.400164Z",
     "shell.execute_reply": "2022-04-04T04:43:42.400563Z",
     "shell.execute_reply.started": "2022-04-04T04:41:06.689061Z"
    },
    "papermill": {
     "duration": 0.036128,
     "end_time": "2022-04-04T04:43:42.400697",
     "exception": false,
     "start_time": "2022-04-04T04:43:42.364569",
     "status": "completed"
    },
    "tags": []
   },
   "outputs": [],
   "source": [
    "class PatentModel(nn.Module):\n",
    "    def __init__( self, dropout):\n",
    "        super(PatentModel, self).__init__()\n",
    "        self.bert = BertModel.from_pretrained( Config.model)\n",
    "        self.dropout = nn.Dropout(dropout)\n",
    "        self.linear = nn.Linear(1024,5)\n",
    "        self.relu = nn.ReLU()\n",
    "        \n",
    "    def forward( self, input_id, mask):\n",
    "        _, pooled_data = self.bert(  input_ids= input_id, attention_mask=mask,return_dict=False )\n",
    "        dropuout_output = self.dropout( pooled_data )\n",
    "        linear_output = self.linear( dropuout_output)\n",
    "        final_layer = self.relu( linear_output )\n",
    "        return final_layer"
   ]
  },
  {
   "cell_type": "code",
   "execution_count": 15,
   "id": "3b3e3852",
   "metadata": {
    "execution": {
     "iopub.execute_input": "2022-04-04T04:43:42.458989Z",
     "iopub.status.busy": "2022-04-04T04:43:42.458151Z",
     "iopub.status.idle": "2022-04-04T04:43:42.466053Z",
     "shell.execute_reply": "2022-04-04T04:43:42.465483Z",
     "shell.execute_reply.started": "2022-04-04T04:41:06.699795Z"
    },
    "papermill": {
     "duration": 0.038365,
     "end_time": "2022-04-04T04:43:42.466174",
     "exception": false,
     "start_time": "2022-04-04T04:43:42.427809",
     "status": "completed"
    },
    "tags": []
   },
   "outputs": [],
   "source": [
    "class PhraseModel(nn.Module):\n",
    "    def __init__(self, model_name):\n",
    "        super().__init__()\n",
    "        self.model_name = model_name\n",
    "\n",
    "        config = AutoConfig.from_pretrained(model_name)\n",
    "        config.update(\n",
    "            {\n",
    "                \"output_hidden_states\": True,\n",
    "                \"add_pooling_layer\": True,\n",
    "                \"num_labels\": 1,\n",
    "            }\n",
    "        )\n",
    "        self.transformer = AutoModel.from_pretrained(model_name, config=config)\n",
    "        self.dropout = nn.Dropout(config.hidden_dropout_prob)\n",
    "        self.output = nn.Linear(config.hidden_size, 1)\n",
    "\n",
    "    def forward(self, ids, mask, token_type_ids):\n",
    "        transformer_out = self.transformer(ids, mask, token_type_ids)\n",
    "        output = transformer_out.pooler_output\n",
    "        output = self.dropout(output)\n",
    "        output = self.output(output)\n",
    "        return output, 0, {}"
   ]
  },
  {
   "cell_type": "code",
   "execution_count": 16,
   "id": "54223726",
   "metadata": {
    "execution": {
     "iopub.execute_input": "2022-04-04T04:43:42.523080Z",
     "iopub.status.busy": "2022-04-04T04:43:42.522254Z",
     "iopub.status.idle": "2022-04-04T04:43:42.535360Z",
     "shell.execute_reply": "2022-04-04T04:43:42.536038Z",
     "shell.execute_reply.started": "2022-04-04T04:41:06.710535Z"
    },
    "papermill": {
     "duration": 0.043326,
     "end_time": "2022-04-04T04:43:42.536228",
     "exception": false,
     "start_time": "2022-04-04T04:43:42.492902",
     "status": "completed"
    },
    "tags": []
   },
   "outputs": [
    {
     "name": "stderr",
     "output_type": "stream",
     "text": [
      "/opt/conda/lib/python3.7/site-packages/pandas/core/frame.py:4913: SettingWithCopyWarning: \n",
      "A value is trying to be set on a copy of a slice from a DataFrame\n",
      "\n",
      "See the caveats in the documentation: https://pandas.pydata.org/pandas-docs/stable/user_guide/indexing.html#returning-a-view-versus-a-copy\n",
      "  errors=errors,\n"
     ]
    }
   ],
   "source": [
    "val_data.reset_index(inplace=True)\n",
    "val_data.drop( ['index'], axis=1,inplace=True) #.head()"
   ]
  },
  {
   "cell_type": "code",
   "execution_count": 17,
   "id": "7aaa70c3",
   "metadata": {
    "execution": {
     "iopub.execute_input": "2022-04-04T04:43:42.606218Z",
     "iopub.status.busy": "2022-04-04T04:43:42.599147Z",
     "iopub.status.idle": "2022-04-04T04:43:42.608762Z",
     "shell.execute_reply": "2022-04-04T04:43:42.608330Z",
     "shell.execute_reply.started": "2022-04-04T04:41:06.729515Z"
    },
    "papermill": {
     "duration": 0.045179,
     "end_time": "2022-04-04T04:43:42.608896",
     "exception": false,
     "start_time": "2022-04-04T04:43:42.563717",
     "status": "completed"
    },
    "tags": []
   },
   "outputs": [],
   "source": [
    "def train( model, train, val, lr=1e-6, epochs=3):\n",
    "    \n",
    "    train_patent_ds= PatentTrainDataset(\n",
    "                        text_input= train.text_input,\n",
    "                        labels = train.label,\n",
    "                        tokenizer = tokenizer\n",
    "    )\n",
    "\n",
    "    val_patent_ds = PatentTrainDataset(\n",
    "                        text_input= val.text_input,\n",
    "                        labels = val.label,\n",
    "                        tokenizer = tokenizer\n",
    "    )\n",
    "    train_dl = DataLoader( train_patent_ds, batch_size=Config.batch_size, shuffle=True)\n",
    "    val_dl = DataLoader( val_patent_ds, batch_size=Config.batch_size, )\n",
    "    \n",
    "    \n",
    "    criterion = nn.CrossEntropyLoss()\n",
    "    optimizer = Adam( model.parameters(), lr = lr)\n",
    "    if torch.cuda.is_available():\n",
    "        model = model.cuda()\n",
    "        criterion = criterion.cuda()\n",
    "        \n",
    "    for epoch_num in range(epochs):\n",
    "        total_acc_train = 0\n",
    "        total_loss_train = 0\n",
    "        for item in tqdm(train_dl):\n",
    "            train_label = item['labels'].to(device)\n",
    "            mask = item['masks'].to(device)\n",
    "            input_id = item['input_ids'].squeeze(1).to(device)\n",
    "            output = model(input_id, mask)\n",
    "            batch_loss = criterion(output, train_label)\n",
    "            total_loss_train += batch_loss.item()\n",
    "                \n",
    "            acc = (output.argmax(dim=1) == train_label).sum().item()\n",
    "            total_acc_train += acc\n",
    "\n",
    "            model.zero_grad()\n",
    "            batch_loss.backward()\n",
    "            optimizer.step()\n",
    "            \n",
    "            total_acc_val = 0\n",
    "            total_loss_val = 0\n",
    "\n",
    "        with torch.no_grad():\n",
    "\n",
    "            for item in val_dl:\n",
    "\n",
    "                val_label = item['labels'].to(device)\n",
    "                mask = item['masks'].to(device)\n",
    "                input_id = item['input_ids'].squeeze(1).to(device)\n",
    "\n",
    "                output = model(input_id, mask)\n",
    "\n",
    "                batch_loss = criterion(output, val_label)\n",
    "                total_loss_val += batch_loss.item()\n",
    "                    \n",
    "                acc = (output.argmax(dim=1) == val_label).sum().item()\n",
    "                total_acc_val += acc\n",
    "        save_path =  'bert.pt'  #f'bert_{epoch_num}.pt'\n",
    "        torch.save({\n",
    "            'epoch': epoch_num,\n",
    "            'model_state_dict': model.state_dict(),\n",
    "            'optimizer_state_dict': optimizer.state_dict(),\n",
    "#             'loss': LOSS,\n",
    "            }, save_path)    \n",
    "        print(\n",
    "                f'Epochs: {epoch_num + 1} | Train Loss: {total_loss_train / len(train_data): .3f} \\\n",
    "                | Train Accuracy: {total_acc_train / len(train_data): .3f} \\\n",
    "                | Val Loss: {total_loss_val / len(val_data): .3f} \\\n",
    "                | Val Accuracy: {total_acc_val / len(val_data): .3f}')\n",
    "        print( 'model saved to =>', save_path)"
   ]
  },
  {
   "cell_type": "code",
   "execution_count": 18,
   "id": "22a2c025",
   "metadata": {
    "execution": {
     "iopub.execute_input": "2022-04-04T04:43:42.668506Z",
     "iopub.status.busy": "2022-04-04T04:43:42.667868Z",
     "iopub.status.idle": "2022-04-04T04:43:42.671289Z",
     "shell.execute_reply": "2022-04-04T04:43:42.670842Z",
     "shell.execute_reply.started": "2022-04-04T04:41:06.746262Z"
    },
    "papermill": {
     "duration": 0.034938,
     "end_time": "2022-04-04T04:43:42.671401",
     "exception": false,
     "start_time": "2022-04-04T04:43:42.636463",
     "status": "completed"
    },
    "tags": []
   },
   "outputs": [],
   "source": [
    "\n",
    "if Config.train:\n",
    "    model = PatentModel(dropout=0.5)\n",
    "    train(model, train_data, val_data, Config.lr, Config.epochs)\n"
   ]
  },
  {
   "cell_type": "code",
   "execution_count": 19,
   "id": "73cacc1f",
   "metadata": {
    "execution": {
     "iopub.execute_input": "2022-04-04T04:43:42.730563Z",
     "iopub.status.busy": "2022-04-04T04:43:42.729774Z",
     "iopub.status.idle": "2022-04-04T04:43:42.732347Z",
     "shell.execute_reply": "2022-04-04T04:43:42.731930Z",
     "shell.execute_reply.started": "2022-04-04T04:41:06.758834Z"
    },
    "papermill": {
     "duration": 0.034132,
     "end_time": "2022-04-04T04:43:42.732461",
     "exception": false,
     "start_time": "2022-04-04T04:43:42.698329",
     "status": "completed"
    },
    "tags": []
   },
   "outputs": [],
   "source": [
    "# !zip usppmbert_v1.zip bert.pt"
   ]
  },
  {
   "cell_type": "code",
   "execution_count": 20,
   "id": "0353bcec",
   "metadata": {
    "execution": {
     "iopub.execute_input": "2022-04-04T04:43:42.792152Z",
     "iopub.status.busy": "2022-04-04T04:43:42.791385Z",
     "iopub.status.idle": "2022-04-04T04:43:42.793846Z",
     "shell.execute_reply": "2022-04-04T04:43:42.793390Z",
     "shell.execute_reply.started": "2022-04-04T04:41:06.765055Z"
    },
    "papermill": {
     "duration": 0.033541,
     "end_time": "2022-04-04T04:43:42.793959",
     "exception": false,
     "start_time": "2022-04-04T04:43:42.760418",
     "status": "completed"
    },
    "tags": []
   },
   "outputs": [],
   "source": [
    "# torch.save(\n",
    "# {\n",
    "#     'model' : model\n",
    "# }, 'USPPPM_v7.pt')"
   ]
  },
  {
   "cell_type": "code",
   "execution_count": 21,
   "id": "32ef3641",
   "metadata": {
    "execution": {
     "iopub.execute_input": "2022-04-04T04:43:42.854102Z",
     "iopub.status.busy": "2022-04-04T04:43:42.853473Z",
     "iopub.status.idle": "2022-04-04T04:43:58.194974Z",
     "shell.execute_reply": "2022-04-04T04:43:58.195982Z",
     "shell.execute_reply.started": "2022-04-04T04:41:06.772832Z"
    },
    "papermill": {
     "duration": 15.375094,
     "end_time": "2022-04-04T04:43:58.196189",
     "exception": false,
     "start_time": "2022-04-04T04:43:42.821095",
     "status": "completed"
    },
    "tags": []
   },
   "outputs": [],
   "source": [
    "model_dict = torch.load( '../input/uppsm-v1/USPPPM_v7.pt')\n",
    "model = model_dict['model']\n",
    "tokenizer_dict = torch.load('../input/uppsm-v1/tokenizer.pt')\n",
    "tokenizer = tokenizer_dict['tokeniker']"
   ]
  },
  {
   "cell_type": "code",
   "execution_count": 22,
   "id": "98eb6899",
   "metadata": {
    "execution": {
     "iopub.execute_input": "2022-04-04T04:43:58.289937Z",
     "iopub.status.busy": "2022-04-04T04:43:58.289136Z",
     "iopub.status.idle": "2022-04-04T04:43:58.291074Z",
     "shell.execute_reply": "2022-04-04T04:43:58.291477Z",
     "shell.execute_reply.started": "2022-04-04T04:41:20.653175Z"
    },
    "papermill": {
     "duration": 0.050483,
     "end_time": "2022-04-04T04:43:58.291605",
     "exception": false,
     "start_time": "2022-04-04T04:43:58.241122",
     "status": "completed"
    },
    "tags": []
   },
   "outputs": [],
   "source": [
    "# saved_model_path = '../input/uppsm-v1/usppmbert_v1/bert.pt'\n",
    "# model_dict = torch.load(saved_model_path)\n",
    "# tokenizer_dict = torch.load('../input/uppsm-v1/tokenizer.pt')\n",
    "# tokenizer = tokenizer_dict['tokeniker']\n",
    "\n",
    "# model = PatentModel(dropout=0.5)\n",
    "# model.load_state_dict(model_dict['model_state_dict']) "
   ]
  },
  {
   "cell_type": "code",
   "execution_count": 23,
   "id": "9cb4b7d1",
   "metadata": {
    "execution": {
     "iopub.execute_input": "2022-04-04T04:43:58.396472Z",
     "iopub.status.busy": "2022-04-04T04:43:58.395632Z",
     "iopub.status.idle": "2022-04-04T04:43:58.399648Z",
     "shell.execute_reply": "2022-04-04T04:43:58.399037Z",
     "shell.execute_reply.started": "2022-04-04T04:41:20.659315Z"
    },
    "papermill": {
     "duration": 0.05868,
     "end_time": "2022-04-04T04:43:58.399823",
     "exception": false,
     "start_time": "2022-04-04T04:43:58.341143",
     "status": "completed"
    },
    "tags": []
   },
   "outputs": [],
   "source": [
    "class PatentTestDataset( Dataset ):\n",
    "    def __init__( self, anchor, target, context, tokenizer, max_len ):\n",
    "        self.anchor = anchor\n",
    "        self.target = target\n",
    "        self.context = context\n",
    "        self.tokenizer = tokenizer\n",
    "        self.max_len = max_len\n",
    "    \n",
    "    def __len__( self ):\n",
    "        return len( self.anchor )\n",
    "    \n",
    "    def __getitem__( self, idx ):\n",
    "        anchor = self.anchor[idx ]\n",
    "        target = self.target[ idx ]\n",
    "        context = self.context[ idx ]\n",
    "        \n",
    "        encoded_data = self.tokenizer.encode_plus(\n",
    "                    context+ ' ' + anchor,\n",
    "                    target,\n",
    "                    padding = 'max_length',\n",
    "                    max_length = self.max_len,\n",
    "                    truncation=True,\n",
    "                    return_attention_mask = True,\n",
    "        )\n",
    "        \n",
    "        input_ids = encoded_data[\"input_ids\"]\n",
    "        attention_mask = encoded_data[\"attention_mask\"]\n",
    "        token_type_ids = encoded_data[\"token_type_ids\"]\n",
    "        \n",
    "        return {\n",
    "            'input_ids' : torch.tensor( input_ids, dtype= torch.long),\n",
    "            'attention_mask': torch.tensor( attention_mask, dtype=torch.long),\n",
    "            'token_type': torch.tensor( token_type_ids, dtype=torch.long),\n",
    "        }"
   ]
  },
  {
   "cell_type": "code",
   "execution_count": 24,
   "id": "a2429695",
   "metadata": {
    "execution": {
     "iopub.execute_input": "2022-04-04T04:43:58.496943Z",
     "iopub.status.busy": "2022-04-04T04:43:58.495249Z",
     "iopub.status.idle": "2022-04-04T04:43:58.497627Z",
     "shell.execute_reply": "2022-04-04T04:43:58.498129Z",
     "shell.execute_reply.started": "2022-04-04T04:41:20.671866Z"
    },
    "papermill": {
     "duration": 0.054932,
     "end_time": "2022-04-04T04:43:58.498282",
     "exception": false,
     "start_time": "2022-04-04T04:43:58.443350",
     "status": "completed"
    },
    "tags": []
   },
   "outputs": [],
   "source": [
    "def predict(model, test_data):\n",
    "\n",
    "    test = PatentTestDataset( \n",
    "                    anchor = test_data.anchor.values,\n",
    "                    target = test_data.target.values,\n",
    "                    context = test_data.context.values,\n",
    "                    tokenizer = tokenizer,\n",
    "                    max_len = Config.max_len\n",
    "    )\n",
    "\n",
    "    test_dataloader = DataLoader(test, batch_size=32)\n",
    "\n",
    "    if torch.cuda.is_available():\n",
    "        model = model.cuda()\n",
    "    score_list = []\n",
    "    with torch.no_grad():\n",
    "\n",
    "        for item in test_dataloader:\n",
    "\n",
    "            mask = item['attention_mask'].to(device)\n",
    "            input_id = item['input_ids'].squeeze(1).to(device)\n",
    "            output = model(input_id, mask)\n",
    "            preds = output.argmax(dim=1)\n",
    "            score_list.append(  preds )\n",
    "\n",
    "    print( 'test generated =>' , len( score_list))\n",
    "    return score_list\n",
    "\n"
   ]
  },
  {
   "cell_type": "code",
   "execution_count": 25,
   "id": "f195cd2c",
   "metadata": {
    "execution": {
     "iopub.execute_input": "2022-04-04T04:43:58.558206Z",
     "iopub.status.busy": "2022-04-04T04:43:58.557630Z",
     "iopub.status.idle": "2022-04-04T04:43:59.417834Z",
     "shell.execute_reply": "2022-04-04T04:43:59.418232Z",
     "shell.execute_reply.started": "2022-04-04T04:41:20.684687Z"
    },
    "papermill": {
     "duration": 0.892853,
     "end_time": "2022-04-04T04:43:59.418386",
     "exception": false,
     "start_time": "2022-04-04T04:43:58.525533",
     "status": "completed"
    },
    "tags": []
   },
   "outputs": [
    {
     "name": "stdout",
     "output_type": "stream",
     "text": [
      "test generated => 2\n"
     ]
    }
   ],
   "source": [
    "scores = predict(model, test_df)"
   ]
  },
  {
   "cell_type": "code",
   "execution_count": 26,
   "id": "6472c28b",
   "metadata": {
    "execution": {
     "iopub.execute_input": "2022-04-04T04:43:59.481403Z",
     "iopub.status.busy": "2022-04-04T04:43:59.480676Z",
     "iopub.status.idle": "2022-04-04T04:43:59.484084Z",
     "shell.execute_reply": "2022-04-04T04:43:59.483596Z",
     "shell.execute_reply.started": "2022-04-04T04:41:21.624110Z"
    },
    "papermill": {
     "duration": 0.036568,
     "end_time": "2022-04-04T04:43:59.484202",
     "exception": false,
     "start_time": "2022-04-04T04:43:59.447634",
     "status": "completed"
    },
    "tags": []
   },
   "outputs": [],
   "source": [
    "scorelist =[]\n",
    "for item in scores:\n",
    "    scorelist.append(item.cpu().numpy())\n",
    "preds = np.hstack(scorelist)\n",
    "sub_df['preds'] =preds"
   ]
  },
  {
   "cell_type": "code",
   "execution_count": 27,
   "id": "40da1ff9",
   "metadata": {
    "execution": {
     "iopub.execute_input": "2022-04-04T04:43:59.546563Z",
     "iopub.status.busy": "2022-04-04T04:43:59.545863Z",
     "iopub.status.idle": "2022-04-04T04:43:59.548699Z",
     "shell.execute_reply": "2022-04-04T04:43:59.549196Z",
     "shell.execute_reply.started": "2022-04-04T04:41:21.632753Z"
    },
    "papermill": {
     "duration": 0.037874,
     "end_time": "2022-04-04T04:43:59.549329",
     "exception": false,
     "start_time": "2022-04-04T04:43:59.511455",
     "status": "completed"
    },
    "tags": []
   },
   "outputs": [
    {
     "data": {
      "text/html": [
       "<div>\n",
       "<style scoped>\n",
       "    .dataframe tbody tr th:only-of-type {\n",
       "        vertical-align: middle;\n",
       "    }\n",
       "\n",
       "    .dataframe tbody tr th {\n",
       "        vertical-align: top;\n",
       "    }\n",
       "\n",
       "    .dataframe thead th {\n",
       "        text-align: right;\n",
       "    }\n",
       "</style>\n",
       "<table border=\"1\" class=\"dataframe\">\n",
       "  <thead>\n",
       "    <tr style=\"text-align: right;\">\n",
       "      <th></th>\n",
       "      <th>id</th>\n",
       "      <th>score</th>\n",
       "      <th>preds</th>\n",
       "    </tr>\n",
       "  </thead>\n",
       "  <tbody>\n",
       "    <tr>\n",
       "      <th>0</th>\n",
       "      <td>4112d61851461f60</td>\n",
       "      <td>0</td>\n",
       "      <td>2</td>\n",
       "    </tr>\n",
       "    <tr>\n",
       "      <th>1</th>\n",
       "      <td>09e418c93a776564</td>\n",
       "      <td>0</td>\n",
       "      <td>2</td>\n",
       "    </tr>\n",
       "    <tr>\n",
       "      <th>2</th>\n",
       "      <td>36baf228038e314b</td>\n",
       "      <td>0</td>\n",
       "      <td>2</td>\n",
       "    </tr>\n",
       "    <tr>\n",
       "      <th>3</th>\n",
       "      <td>1f37ead645e7f0c8</td>\n",
       "      <td>0</td>\n",
       "      <td>2</td>\n",
       "    </tr>\n",
       "    <tr>\n",
       "      <th>4</th>\n",
       "      <td>71a5b6ad068d531f</td>\n",
       "      <td>0</td>\n",
       "      <td>1</td>\n",
       "    </tr>\n",
       "  </tbody>\n",
       "</table>\n",
       "</div>"
      ],
      "text/plain": [
       "                 id  score  preds\n",
       "0  4112d61851461f60      0      2\n",
       "1  09e418c93a776564      0      2\n",
       "2  36baf228038e314b      0      2\n",
       "3  1f37ead645e7f0c8      0      2\n",
       "4  71a5b6ad068d531f      0      1"
      ]
     },
     "execution_count": 27,
     "metadata": {},
     "output_type": "execute_result"
    }
   ],
   "source": [
    "sub_df.head()"
   ]
  },
  {
   "cell_type": "code",
   "execution_count": 28,
   "id": "354b349a",
   "metadata": {
    "execution": {
     "iopub.execute_input": "2022-04-04T04:43:59.609906Z",
     "iopub.status.busy": "2022-04-04T04:43:59.609192Z",
     "iopub.status.idle": "2022-04-04T04:43:59.611355Z",
     "shell.execute_reply": "2022-04-04T04:43:59.611737Z",
     "shell.execute_reply.started": "2022-04-04T04:41:21.649271Z"
    },
    "papermill": {
     "duration": 0.03515,
     "end_time": "2022-04-04T04:43:59.611902",
     "exception": false,
     "start_time": "2022-04-04T04:43:59.576752",
     "status": "completed"
    },
    "tags": []
   },
   "outputs": [],
   "source": [
    "sub_df['score']= sub_df.preds.astype(float).map(score_map)"
   ]
  },
  {
   "cell_type": "code",
   "execution_count": 29,
   "id": "389e77c3",
   "metadata": {
    "execution": {
     "iopub.execute_input": "2022-04-04T04:43:59.673802Z",
     "iopub.status.busy": "2022-04-04T04:43:59.672948Z",
     "iopub.status.idle": "2022-04-04T04:43:59.678164Z",
     "shell.execute_reply": "2022-04-04T04:43:59.677683Z",
     "shell.execute_reply.started": "2022-04-04T04:41:21.657786Z"
    },
    "papermill": {
     "duration": 0.03838,
     "end_time": "2022-04-04T04:43:59.678287",
     "exception": false,
     "start_time": "2022-04-04T04:43:59.639907",
     "status": "completed"
    },
    "tags": []
   },
   "outputs": [],
   "source": [
    "sub_df[['id', 'score']].to_csv('submission.csv', index=False)"
   ]
  }
 ],
 "metadata": {
  "kernelspec": {
   "display_name": "Python 3",
   "language": "python",
   "name": "python3"
  },
  "language_info": {
   "codemirror_mode": {
    "name": "ipython",
    "version": 3
   },
   "file_extension": ".py",
   "mimetype": "text/x-python",
   "name": "python",
   "nbconvert_exporter": "python",
   "pygments_lexer": "ipython3",
   "version": "3.7.12"
  },
  "papermill": {
   "default_parameters": {},
   "duration": 37.375258,
   "end_time": "2022-04-04T04:44:02.766852",
   "environment_variables": {},
   "exception": null,
   "input_path": "__notebook__.ipynb",
   "output_path": "__notebook__.ipynb",
   "parameters": {},
   "start_time": "2022-04-04T04:43:25.391594",
   "version": "2.3.3"
  }
 },
 "nbformat": 4,
 "nbformat_minor": 5
}

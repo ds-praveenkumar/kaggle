{
 "cells": [
  {
   "cell_type": "code",
   "execution_count": 1,
   "id": "cef89807",
   "metadata": {
    "_cell_guid": "b1076dfc-b9ad-4769-8c92-a6c4dae69d19",
    "_uuid": "8f2839f25d086af736a60e9eeb907d3b93b6e0e5",
    "execution": {
     "iopub.execute_input": "2022-03-27T16:48:00.637531Z",
     "iopub.status.busy": "2022-03-27T16:48:00.635862Z",
     "iopub.status.idle": "2022-03-27T16:48:00.654846Z",
     "shell.execute_reply": "2022-03-27T16:48:00.654271Z",
     "shell.execute_reply.started": "2022-03-27T16:21:15.106220Z"
    },
    "papermill": {
     "duration": 0.04299,
     "end_time": "2022-03-27T16:48:00.654999",
     "exception": false,
     "start_time": "2022-03-27T16:48:00.612009",
     "status": "completed"
    },
    "tags": []
   },
   "outputs": [],
   "source": [
    "%config IPCompleter.use_jedi=False"
   ]
  },
  {
   "cell_type": "code",
   "execution_count": 2,
   "id": "6d4cd9d6",
   "metadata": {
    "execution": {
     "iopub.execute_input": "2022-03-27T16:48:00.697298Z",
     "iopub.status.busy": "2022-03-27T16:48:00.696776Z",
     "iopub.status.idle": "2022-03-27T16:48:07.432000Z",
     "shell.execute_reply": "2022-03-27T16:48:07.431356Z",
     "shell.execute_reply.started": "2022-03-27T16:21:15.170542Z"
    },
    "papermill": {
     "duration": 6.758525,
     "end_time": "2022-03-27T16:48:07.432131",
     "exception": false,
     "start_time": "2022-03-27T16:48:00.673606",
     "status": "completed"
    },
    "tags": []
   },
   "outputs": [],
   "source": [
    "import numpy as np \n",
    "import pandas as pd \n",
    "from sklearn.model_selection import train_test_split\n",
    "import random\n",
    "import os\n",
    "import torch\n",
    "from torch.utils.data import Dataset, DataLoader\n",
    "from transformers import AutoModel, AutoConfig, AutoTokenizer, get_linear_schedule_with_warmup,TrainingArguments, Trainer\n",
    "from datasets import load_metric\n",
    "from transformers import BertModel\n",
    "import torch.nn as nn\n",
    "from torch.optim import Adam\n",
    "from tqdm import tqdm"
   ]
  },
  {
   "cell_type": "code",
   "execution_count": 3,
   "id": "56ba758b",
   "metadata": {
    "execution": {
     "iopub.execute_input": "2022-03-27T16:48:07.470725Z",
     "iopub.status.busy": "2022-03-27T16:48:07.469937Z",
     "iopub.status.idle": "2022-03-27T16:48:07.472294Z",
     "shell.execute_reply": "2022-03-27T16:48:07.471907Z",
     "shell.execute_reply.started": "2022-03-27T16:21:22.233697Z"
    },
    "papermill": {
     "duration": 0.023923,
     "end_time": "2022-03-27T16:48:07.472430",
     "exception": false,
     "start_time": "2022-03-27T16:48:07.448507",
     "status": "completed"
    },
    "tags": []
   },
   "outputs": [],
   "source": [
    "class Config:\n",
    "    # data\n",
    "    train_csv = '../input/us-patent-phrase-to-phrase-matching/train.csv'\n",
    "    test_cssv = '../input/us-patent-phrase-to-phrase-matching/test.csv'\n",
    "    sub_csv = '../input/us-patent-phrase-to-phrase-matching/sample_submission.csv'\n",
    "    \n",
    "    # model\n",
    "    model = 'anferico/bert-for-patents'\n",
    "    \n",
    "    max_len = 32\n",
    "    num_epoch = 2\n",
    "    batch_size = 64\n",
    "    epochs = 3\n",
    "    lr = 1e-6"
   ]
  },
  {
   "cell_type": "code",
   "execution_count": 4,
   "id": "702d320b",
   "metadata": {
    "execution": {
     "iopub.execute_input": "2022-03-27T16:48:07.510815Z",
     "iopub.status.busy": "2022-03-27T16:48:07.510213Z",
     "iopub.status.idle": "2022-03-27T16:48:07.516304Z",
     "shell.execute_reply": "2022-03-27T16:48:07.515811Z",
     "shell.execute_reply.started": "2022-03-27T16:21:22.240576Z"
    },
    "papermill": {
     "duration": 0.027809,
     "end_time": "2022-03-27T16:48:07.516442",
     "exception": false,
     "start_time": "2022-03-27T16:48:07.488633",
     "status": "completed"
    },
    "tags": []
   },
   "outputs": [],
   "source": [
    "def seed_everything(seed=42):\n",
    "    random.seed(seed)\n",
    "    os.environ['PYTHONHASHSEED'] = str(seed)\n",
    "    np.random.seed(seed)\n",
    "    torch.manual_seed(seed)\n",
    "    torch.cuda.manual_seed(seed)\n",
    "    torch.backends.cudnn.deterministic = True\n",
    "    \n",
    "seed_everything(seed=42)"
   ]
  },
  {
   "cell_type": "code",
   "execution_count": 5,
   "id": "2438b520",
   "metadata": {
    "execution": {
     "iopub.execute_input": "2022-03-27T16:48:07.600657Z",
     "iopub.status.busy": "2022-03-27T16:48:07.599739Z",
     "iopub.status.idle": "2022-03-27T16:48:07.603440Z",
     "shell.execute_reply": "2022-03-27T16:48:07.604129Z",
     "shell.execute_reply.started": "2022-03-27T16:21:22.252585Z"
    },
    "papermill": {
     "duration": 0.070999,
     "end_time": "2022-03-27T16:48:07.604319",
     "exception": false,
     "start_time": "2022-03-27T16:48:07.533320",
     "status": "completed"
    },
    "tags": []
   },
   "outputs": [
    {
     "name": "stdout",
     "output_type": "stream",
     "text": [
      "There are 1 GPU(s) available.\n",
      "We will use the GPU: Tesla P100-PCIE-16GB\n",
      "device set to => cuda\n"
     ]
    }
   ],
   "source": [
    "if torch.cuda.is_available():     \n",
    "    device = torch.device(\"cuda\")\n",
    "    print('There are %d GPU(s) available.' % torch.cuda.device_count())\n",
    "    print('We will use the GPU:', torch.cuda.get_device_name(0))\n",
    "else:\n",
    "    print('No GPU available, using the CPU instead.')\n",
    "    device = torch.device(\"cpu\")\n",
    "print( 'device set to =>', device)"
   ]
  },
  {
   "cell_type": "code",
   "execution_count": 6,
   "id": "ff23d463",
   "metadata": {
    "execution": {
     "iopub.execute_input": "2022-03-27T16:48:07.646395Z",
     "iopub.status.busy": "2022-03-27T16:48:07.645688Z",
     "iopub.status.idle": "2022-03-27T16:48:07.740332Z",
     "shell.execute_reply": "2022-03-27T16:48:07.739870Z",
     "shell.execute_reply.started": "2022-03-27T16:21:22.314446Z"
    },
    "papermill": {
     "duration": 0.116891,
     "end_time": "2022-03-27T16:48:07.740497",
     "exception": false,
     "start_time": "2022-03-27T16:48:07.623606",
     "status": "completed"
    },
    "tags": []
   },
   "outputs": [],
   "source": [
    "train_df = pd.read_csv( Config.train_csv )\n",
    "test_df = pd.read_csv( Config.test_cssv )\n",
    "sub_df = pd.read_csv( Config.sub_csv )"
   ]
  },
  {
   "cell_type": "code",
   "execution_count": 7,
   "id": "b20db0fe",
   "metadata": {
    "execution": {
     "iopub.execute_input": "2022-03-27T16:48:07.782718Z",
     "iopub.status.busy": "2022-03-27T16:48:07.781980Z",
     "iopub.status.idle": "2022-03-27T16:48:07.795458Z",
     "shell.execute_reply": "2022-03-27T16:48:07.795887Z",
     "shell.execute_reply.started": "2022-03-27T16:21:22.412487Z"
    },
    "papermill": {
     "duration": 0.037599,
     "end_time": "2022-03-27T16:48:07.796019",
     "exception": false,
     "start_time": "2022-03-27T16:48:07.758420",
     "status": "completed"
    },
    "tags": []
   },
   "outputs": [
    {
     "data": {
      "text/html": [
       "<div>\n",
       "<style scoped>\n",
       "    .dataframe tbody tr th:only-of-type {\n",
       "        vertical-align: middle;\n",
       "    }\n",
       "\n",
       "    .dataframe tbody tr th {\n",
       "        vertical-align: top;\n",
       "    }\n",
       "\n",
       "    .dataframe thead th {\n",
       "        text-align: right;\n",
       "    }\n",
       "</style>\n",
       "<table border=\"1\" class=\"dataframe\">\n",
       "  <thead>\n",
       "    <tr style=\"text-align: right;\">\n",
       "      <th></th>\n",
       "      <th>id</th>\n",
       "      <th>anchor</th>\n",
       "      <th>target</th>\n",
       "      <th>context</th>\n",
       "      <th>score</th>\n",
       "    </tr>\n",
       "  </thead>\n",
       "  <tbody>\n",
       "    <tr>\n",
       "      <th>0</th>\n",
       "      <td>37d61fd2272659b1</td>\n",
       "      <td>abatement</td>\n",
       "      <td>abatement of pollution</td>\n",
       "      <td>A47</td>\n",
       "      <td>0.50</td>\n",
       "    </tr>\n",
       "    <tr>\n",
       "      <th>1</th>\n",
       "      <td>7b9652b17b68b7a4</td>\n",
       "      <td>abatement</td>\n",
       "      <td>act of abating</td>\n",
       "      <td>A47</td>\n",
       "      <td>0.75</td>\n",
       "    </tr>\n",
       "    <tr>\n",
       "      <th>2</th>\n",
       "      <td>36d72442aefd8232</td>\n",
       "      <td>abatement</td>\n",
       "      <td>active catalyst</td>\n",
       "      <td>A47</td>\n",
       "      <td>0.25</td>\n",
       "    </tr>\n",
       "    <tr>\n",
       "      <th>3</th>\n",
       "      <td>5296b0c19e1ce60e</td>\n",
       "      <td>abatement</td>\n",
       "      <td>eliminating process</td>\n",
       "      <td>A47</td>\n",
       "      <td>0.50</td>\n",
       "    </tr>\n",
       "    <tr>\n",
       "      <th>4</th>\n",
       "      <td>54c1e3b9184cb5b6</td>\n",
       "      <td>abatement</td>\n",
       "      <td>forest region</td>\n",
       "      <td>A47</td>\n",
       "      <td>0.00</td>\n",
       "    </tr>\n",
       "  </tbody>\n",
       "</table>\n",
       "</div>"
      ],
      "text/plain": [
       "                 id     anchor                  target context  score\n",
       "0  37d61fd2272659b1  abatement  abatement of pollution     A47   0.50\n",
       "1  7b9652b17b68b7a4  abatement          act of abating     A47   0.75\n",
       "2  36d72442aefd8232  abatement         active catalyst     A47   0.25\n",
       "3  5296b0c19e1ce60e  abatement     eliminating process     A47   0.50\n",
       "4  54c1e3b9184cb5b6  abatement           forest region     A47   0.00"
      ]
     },
     "execution_count": 7,
     "metadata": {},
     "output_type": "execute_result"
    }
   ],
   "source": [
    "train_df.head()"
   ]
  },
  {
   "cell_type": "code",
   "execution_count": 8,
   "id": "c4c42cf3",
   "metadata": {
    "execution": {
     "iopub.execute_input": "2022-03-27T16:48:07.837384Z",
     "iopub.status.busy": "2022-03-27T16:48:07.836546Z",
     "iopub.status.idle": "2022-03-27T16:48:07.844679Z",
     "shell.execute_reply": "2022-03-27T16:48:07.844222Z",
     "shell.execute_reply.started": "2022-03-27T16:21:22.436316Z"
    },
    "papermill": {
     "duration": 0.030371,
     "end_time": "2022-03-27T16:48:07.844796",
     "exception": false,
     "start_time": "2022-03-27T16:48:07.814425",
     "status": "completed"
    },
    "tags": []
   },
   "outputs": [
    {
     "data": {
      "text/html": [
       "<div>\n",
       "<style scoped>\n",
       "    .dataframe tbody tr th:only-of-type {\n",
       "        vertical-align: middle;\n",
       "    }\n",
       "\n",
       "    .dataframe tbody tr th {\n",
       "        vertical-align: top;\n",
       "    }\n",
       "\n",
       "    .dataframe thead th {\n",
       "        text-align: right;\n",
       "    }\n",
       "</style>\n",
       "<table border=\"1\" class=\"dataframe\">\n",
       "  <thead>\n",
       "    <tr style=\"text-align: right;\">\n",
       "      <th></th>\n",
       "      <th>id</th>\n",
       "      <th>anchor</th>\n",
       "      <th>target</th>\n",
       "      <th>context</th>\n",
       "    </tr>\n",
       "  </thead>\n",
       "  <tbody>\n",
       "    <tr>\n",
       "      <th>0</th>\n",
       "      <td>4112d61851461f60</td>\n",
       "      <td>opc drum</td>\n",
       "      <td>inorganic photoconductor drum</td>\n",
       "      <td>G02</td>\n",
       "    </tr>\n",
       "    <tr>\n",
       "      <th>1</th>\n",
       "      <td>09e418c93a776564</td>\n",
       "      <td>adjust gas flow</td>\n",
       "      <td>altering gas flow</td>\n",
       "      <td>F23</td>\n",
       "    </tr>\n",
       "    <tr>\n",
       "      <th>2</th>\n",
       "      <td>36baf228038e314b</td>\n",
       "      <td>lower trunnion</td>\n",
       "      <td>lower locating</td>\n",
       "      <td>B60</td>\n",
       "    </tr>\n",
       "    <tr>\n",
       "      <th>3</th>\n",
       "      <td>1f37ead645e7f0c8</td>\n",
       "      <td>cap component</td>\n",
       "      <td>upper portion</td>\n",
       "      <td>D06</td>\n",
       "    </tr>\n",
       "    <tr>\n",
       "      <th>4</th>\n",
       "      <td>71a5b6ad068d531f</td>\n",
       "      <td>neural stimulation</td>\n",
       "      <td>artificial neural network</td>\n",
       "      <td>H04</td>\n",
       "    </tr>\n",
       "  </tbody>\n",
       "</table>\n",
       "</div>"
      ],
      "text/plain": [
       "                 id              anchor                         target context\n",
       "0  4112d61851461f60            opc drum  inorganic photoconductor drum     G02\n",
       "1  09e418c93a776564     adjust gas flow              altering gas flow     F23\n",
       "2  36baf228038e314b      lower trunnion                 lower locating     B60\n",
       "3  1f37ead645e7f0c8       cap component                  upper portion     D06\n",
       "4  71a5b6ad068d531f  neural stimulation      artificial neural network     H04"
      ]
     },
     "execution_count": 8,
     "metadata": {},
     "output_type": "execute_result"
    }
   ],
   "source": [
    "test_df.head()"
   ]
  },
  {
   "cell_type": "code",
   "execution_count": 9,
   "id": "4f96da0c",
   "metadata": {
    "execution": {
     "iopub.execute_input": "2022-03-27T16:48:07.886905Z",
     "iopub.status.busy": "2022-03-27T16:48:07.886068Z",
     "iopub.status.idle": "2022-03-27T16:48:07.892616Z",
     "shell.execute_reply": "2022-03-27T16:48:07.892140Z",
     "shell.execute_reply.started": "2022-03-27T16:21:22.448308Z"
    },
    "papermill": {
     "duration": 0.028401,
     "end_time": "2022-03-27T16:48:07.892739",
     "exception": false,
     "start_time": "2022-03-27T16:48:07.864338",
     "status": "completed"
    },
    "tags": []
   },
   "outputs": [
    {
     "data": {
      "text/html": [
       "<div>\n",
       "<style scoped>\n",
       "    .dataframe tbody tr th:only-of-type {\n",
       "        vertical-align: middle;\n",
       "    }\n",
       "\n",
       "    .dataframe tbody tr th {\n",
       "        vertical-align: top;\n",
       "    }\n",
       "\n",
       "    .dataframe thead th {\n",
       "        text-align: right;\n",
       "    }\n",
       "</style>\n",
       "<table border=\"1\" class=\"dataframe\">\n",
       "  <thead>\n",
       "    <tr style=\"text-align: right;\">\n",
       "      <th></th>\n",
       "      <th>id</th>\n",
       "      <th>score</th>\n",
       "    </tr>\n",
       "  </thead>\n",
       "  <tbody>\n",
       "    <tr>\n",
       "      <th>0</th>\n",
       "      <td>4112d61851461f60</td>\n",
       "      <td>0</td>\n",
       "    </tr>\n",
       "    <tr>\n",
       "      <th>1</th>\n",
       "      <td>09e418c93a776564</td>\n",
       "      <td>0</td>\n",
       "    </tr>\n",
       "    <tr>\n",
       "      <th>2</th>\n",
       "      <td>36baf228038e314b</td>\n",
       "      <td>0</td>\n",
       "    </tr>\n",
       "    <tr>\n",
       "      <th>3</th>\n",
       "      <td>1f37ead645e7f0c8</td>\n",
       "      <td>0</td>\n",
       "    </tr>\n",
       "    <tr>\n",
       "      <th>4</th>\n",
       "      <td>71a5b6ad068d531f</td>\n",
       "      <td>0</td>\n",
       "    </tr>\n",
       "  </tbody>\n",
       "</table>\n",
       "</div>"
      ],
      "text/plain": [
       "                 id  score\n",
       "0  4112d61851461f60      0\n",
       "1  09e418c93a776564      0\n",
       "2  36baf228038e314b      0\n",
       "3  1f37ead645e7f0c8      0\n",
       "4  71a5b6ad068d531f      0"
      ]
     },
     "execution_count": 9,
     "metadata": {},
     "output_type": "execute_result"
    }
   ],
   "source": [
    "sub_df.head()"
   ]
  },
  {
   "cell_type": "code",
   "execution_count": 10,
   "id": "8ed6ff80",
   "metadata": {
    "execution": {
     "iopub.execute_input": "2022-03-27T16:48:07.935769Z",
     "iopub.status.busy": "2022-03-27T16:48:07.935124Z",
     "iopub.status.idle": "2022-03-27T16:48:07.943632Z",
     "shell.execute_reply": "2022-03-27T16:48:07.944299Z",
     "shell.execute_reply.started": "2022-03-27T16:21:22.460411Z"
    },
    "papermill": {
     "duration": 0.033119,
     "end_time": "2022-03-27T16:48:07.944480",
     "exception": false,
     "start_time": "2022-03-27T16:48:07.911361",
     "status": "completed"
    },
    "tags": []
   },
   "outputs": [
    {
     "name": "stdout",
     "output_type": "stream",
     "text": [
      "train_size: 32825\n",
      "val_size: 3648\n"
     ]
    }
   ],
   "source": [
    "train_examples = int(len(train_df) * 0.9)\n",
    "train_data = train_df.iloc[ :train_examples, 1:]\n",
    "val_data = train_df.iloc[ train_examples:, 1:]\n",
    "print( 'train_size:', train_data.shape[0] )\n",
    "print( 'val_size:', val_data.shape[0] )"
   ]
  },
  {
   "cell_type": "code",
   "execution_count": 11,
   "id": "4d584e56",
   "metadata": {
    "execution": {
     "iopub.execute_input": "2022-03-27T16:48:07.984865Z",
     "iopub.status.busy": "2022-03-27T16:48:07.984053Z",
     "iopub.status.idle": "2022-03-27T16:48:07.993525Z",
     "shell.execute_reply": "2022-03-27T16:48:07.993088Z",
     "shell.execute_reply.started": "2022-03-27T16:21:22.476043Z"
    },
    "papermill": {
     "duration": 0.030202,
     "end_time": "2022-03-27T16:48:07.993636",
     "exception": false,
     "start_time": "2022-03-27T16:48:07.963434",
     "status": "completed"
    },
    "tags": []
   },
   "outputs": [],
   "source": [
    "class PatentDataset( torch.utils.data.Dataset ):\n",
    "    def __init__( self, anchor, target, context, score, tokenizer, max_len ):\n",
    "        self.anchor = anchor\n",
    "        self.target = target\n",
    "        self.context = context\n",
    "        self.score = score\n",
    "        self.tokenizer = tokenizer\n",
    "        self.max_len = max_len\n",
    "    \n",
    "    def __len__( self ):\n",
    "        return len( self.anchor )\n",
    "    \n",
    "    def __getitem__( self, idx ):\n",
    "        anchor = self.anchor[idx ]\n",
    "        target = self.target[ idx ]\n",
    "        context = self.context[ idx ]\n",
    "        score = self.score[ idx ]\n",
    "        \n",
    "        encoded_data = self.tokenizer.encode_plus(\n",
    "                    context+ ' ' + anchor,\n",
    "                    target,\n",
    "                    padding = 'max_length',\n",
    "                    max_length = self.max_len,\n",
    "                    truncation=True,\n",
    "                    return_attention_mask = True,\n",
    "        )\n",
    "        \n",
    "        input_ids = encoded_data[\"input_ids\"]\n",
    "        attention_mask = encoded_data[\"attention_mask\"]\n",
    "        token_type_ids = encoded_data[\"token_type_ids\"]\n",
    "        \n",
    "        return {\n",
    "            'input_ids' : torch.tensor( input_ids, dtype= torch.long),\n",
    "            'attention_mask': torch.tensor( attention_mask, dtype=torch.long),\n",
    "            'token_type': torch.tensor( token_type_ids, dtype=torch.long),\n",
    "            'label': torch.tensor( score, dtype=torch.long)\n",
    "        }\n",
    "        \n",
    "        "
   ]
  },
  {
   "cell_type": "code",
   "execution_count": 12,
   "id": "ecae340f",
   "metadata": {
    "execution": {
     "iopub.execute_input": "2022-03-27T16:48:08.039608Z",
     "iopub.status.busy": "2022-03-27T16:48:08.038770Z",
     "iopub.status.idle": "2022-03-27T16:48:08.041164Z",
     "shell.execute_reply": "2022-03-27T16:48:08.040776Z",
     "shell.execute_reply.started": "2022-03-27T16:21:22.490320Z"
    },
    "papermill": {
     "duration": 0.029073,
     "end_time": "2022-03-27T16:48:08.041268",
     "exception": false,
     "start_time": "2022-03-27T16:48:08.012195",
     "status": "completed"
    },
    "tags": []
   },
   "outputs": [],
   "source": [
    "class PatentTestDataset( torch.utils.data.Dataset ):\n",
    "    def __init__( self, anchor, target, context, tokenizer, max_len ):\n",
    "        self.anchor = anchor\n",
    "        self.target = target\n",
    "        self.context = context\n",
    "        self.tokenizer = tokenizer\n",
    "        self.max_len = max_len\n",
    "    \n",
    "    def __len__( self ):\n",
    "        return len( self.anchor )\n",
    "    \n",
    "    def __getitem__( self, idx ):\n",
    "        anchor = self.anchor[idx ]\n",
    "        target = self.target[ idx ]\n",
    "        context = self.context[ idx ]\n",
    "        \n",
    "        encoded_data = self.tokenizer.encode_plus(\n",
    "                    context+ ' ' + anchor,\n",
    "                    target,\n",
    "                    padding = 'max_length',\n",
    "                    max_length = self.max_len,\n",
    "                    truncation=True,\n",
    "                    return_attention_mask = True,\n",
    "        )\n",
    "        \n",
    "        input_ids = encoded_data[\"input_ids\"]\n",
    "        attention_mask = encoded_data[\"attention_mask\"]\n",
    "        token_type_ids = encoded_data[\"token_type_ids\"]\n",
    "        \n",
    "        return {\n",
    "            'input_ids' : torch.tensor( input_ids, dtype= torch.long),\n",
    "            'attention_mask': torch.tensor( attention_mask, dtype=torch.long),\n",
    "            'token_type': torch.tensor( token_type_ids, dtype=torch.long),\n",
    "        }\n",
    "        \n",
    "        "
   ]
  },
  {
   "cell_type": "code",
   "execution_count": 13,
   "id": "23fcd7e7",
   "metadata": {
    "execution": {
     "iopub.execute_input": "2022-03-27T16:48:08.084718Z",
     "iopub.status.busy": "2022-03-27T16:48:08.083928Z",
     "iopub.status.idle": "2022-03-27T16:48:08.086107Z",
     "shell.execute_reply": "2022-03-27T16:48:08.086577Z",
     "shell.execute_reply.started": "2022-03-27T16:21:22.508466Z"
    },
    "papermill": {
     "duration": 0.027293,
     "end_time": "2022-03-27T16:48:08.086712",
     "exception": false,
     "start_time": "2022-03-27T16:48:08.059419",
     "status": "completed"
    },
    "tags": []
   },
   "outputs": [],
   "source": [
    "class BertClassifier(nn.Module):\n",
    "    def __init__( self, dropout ):\n",
    "        super( BertClassifier, self).__init__()\n",
    "        self.bert = BertModel.from_pretrained(Config.model)\n",
    "        self.dropout = nn.Dropout( dropout )\n",
    "        self.linear = nn.Linear( 1024, 5 )\n",
    "        self.relu = nn.ReLU()\n",
    "        \n",
    "    def forward( self,  input_id, mask ):\n",
    "        _, pooled_output = self.bert( input_ids= input_id, attention_mask=mask,return_dict=False)\n",
    "        dropout_output = self.dropout( pooled_output )\n",
    "        linear_output = self.linear( dropout_output )\n",
    "        final_layer = self.relu( linear_output )\n",
    "        return final_layer"
   ]
  },
  {
   "cell_type": "code",
   "execution_count": 14,
   "id": "e0626046",
   "metadata": {
    "execution": {
     "iopub.execute_input": "2022-03-27T16:48:08.131117Z",
     "iopub.status.busy": "2022-03-27T16:48:08.130604Z",
     "iopub.status.idle": "2022-03-27T16:48:08.137575Z",
     "shell.execute_reply": "2022-03-27T16:48:08.137978Z",
     "shell.execute_reply.started": "2022-03-27T16:21:22.524644Z"
    },
    "papermill": {
     "duration": 0.031083,
     "end_time": "2022-03-27T16:48:08.138107",
     "exception": false,
     "start_time": "2022-03-27T16:48:08.107024",
     "status": "completed"
    },
    "tags": []
   },
   "outputs": [
    {
     "name": "stdout",
     "output_type": "stream",
     "text": [
      "train_size: 32825\n",
      "val_size: 3648\n"
     ]
    }
   ],
   "source": [
    "train_examples = int(len(train_df) * 0.9)\n",
    "train = train_df.iloc[ :train_examples, 1:]\n",
    "val = train_df.iloc[ train_examples:, 1:]\n",
    "print( 'train_size:', train.shape[0] )\n",
    "print( 'val_size:', val.shape[0] )"
   ]
  },
  {
   "cell_type": "code",
   "execution_count": 15,
   "id": "06a54b20",
   "metadata": {
    "execution": {
     "iopub.execute_input": "2022-03-27T16:48:08.180345Z",
     "iopub.status.busy": "2022-03-27T16:48:08.179809Z",
     "iopub.status.idle": "2022-03-27T16:48:14.331072Z",
     "shell.execute_reply": "2022-03-27T16:48:14.331607Z",
     "shell.execute_reply.started": "2022-03-27T16:21:22.540374Z"
    },
    "papermill": {
     "duration": 6.174892,
     "end_time": "2022-03-27T16:48:14.331800",
     "exception": false,
     "start_time": "2022-03-27T16:48:08.156908",
     "status": "completed"
    },
    "tags": []
   },
   "outputs": [
    {
     "data": {
      "application/vnd.jupyter.widget-view+json": {
       "model_id": "a68c2b4991f14559b45e6434df9e5619",
       "version_major": 2,
       "version_minor": 0
      },
      "text/plain": [
       "Downloading:   0%|          | 0.00/327 [00:00<?, ?B/s]"
      ]
     },
     "metadata": {},
     "output_type": "display_data"
    },
    {
     "data": {
      "application/vnd.jupyter.widget-view+json": {
       "model_id": "b5d208c7258c47e9bb1b86d53b9a84b2",
       "version_major": 2,
       "version_minor": 0
      },
      "text/plain": [
       "Downloading:   0%|          | 0.00/322k [00:00<?, ?B/s]"
      ]
     },
     "metadata": {},
     "output_type": "display_data"
    }
   ],
   "source": [
    "tokenizer = AutoTokenizer.from_pretrained( Config.model , \n",
    "                                            padding='max_length',\n",
    "                                          pad_to_max_length = True,\n",
    "                                            max_length = Config.max_len,\n",
    "                                            truncation=True)   "
   ]
  },
  {
   "cell_type": "code",
   "execution_count": 16,
   "id": "00212a86",
   "metadata": {
    "execution": {
     "iopub.execute_input": "2022-03-27T16:48:14.417678Z",
     "iopub.status.busy": "2022-03-27T16:48:14.416784Z",
     "iopub.status.idle": "2022-03-27T17:10:06.844689Z",
     "shell.execute_reply": "2022-03-27T17:10:06.845442Z",
     "shell.execute_reply.started": "2022-03-27T16:21:28.609242Z"
    },
    "papermill": {
     "duration": 1312.477916,
     "end_time": "2022-03-27T17:10:06.845667",
     "exception": false,
     "start_time": "2022-03-27T16:48:14.367751",
     "status": "completed"
    },
    "tags": []
   },
   "outputs": [
    {
     "data": {
      "application/vnd.jupyter.widget-view+json": {
       "model_id": "d9a44f77a061408f97d5eb42135fc937",
       "version_major": 2,
       "version_minor": 0
      },
      "text/plain": [
       "Downloading:   0%|          | 0.00/1.29G [00:00<?, ?B/s]"
      ]
     },
     "metadata": {},
     "output_type": "display_data"
    },
    {
     "name": "stderr",
     "output_type": "stream",
     "text": [
      "Some weights of the model checkpoint at anferico/bert-for-patents were not used when initializing BertModel: ['cls.seq_relationship.weight', 'cls.predictions.bias', 'cls.predictions.transform.dense.weight', 'cls.predictions.transform.LayerNorm.bias', 'cls.predictions.decoder.bias', 'cls.seq_relationship.bias', 'cls.predictions.decoder.weight', 'cls.predictions.transform.LayerNorm.weight', 'cls.predictions.transform.dense.bias']\n",
      "- This IS expected if you are initializing BertModel from the checkpoint of a model trained on another task or with another architecture (e.g. initializing a BertForSequenceClassification model from a BertForPreTraining model).\n",
      "- This IS NOT expected if you are initializing BertModel from the checkpoint of a model that you expect to be exactly identical (initializing a BertForSequenceClassification model from a BertForSequenceClassification model).\n",
      "100%|██████████| 1026/1026 [06:34<00:00,  2.60it/s]\n"
     ]
    },
    {
     "name": "stdout",
     "output_type": "stream",
     "text": [
      "Epochs: 1 | Train Loss:  0.006                 | Train Accuracy:  0.964                 | Val Loss:  0.002                 | Val Accuracy:  0.979\n",
      "model saved to => bert_0.pt\n"
     ]
    },
    {
     "name": "stderr",
     "output_type": "stream",
     "text": [
      "100%|██████████| 1026/1026 [06:33<00:00,  2.60it/s]\n"
     ]
    },
    {
     "name": "stdout",
     "output_type": "stream",
     "text": [
      "Epochs: 2 | Train Loss:  0.001                 | Train Accuracy:  0.989                 | Val Loss:  0.002                 | Val Accuracy:  0.986\n",
      "model saved to => bert_1.pt\n"
     ]
    },
    {
     "name": "stderr",
     "output_type": "stream",
     "text": [
      "100%|██████████| 1026/1026 [06:34<00:00,  2.60it/s]\n"
     ]
    },
    {
     "name": "stdout",
     "output_type": "stream",
     "text": [
      "Epochs: 3 | Train Loss:  0.001                 | Train Accuracy:  0.993                 | Val Loss:  0.002                 | Val Accuracy:  0.984\n",
      "model saved to => bert_2.pt\n"
     ]
    }
   ],
   "source": [
    "def train(model, train, val, learning_rate=.01, epochs=2):\n",
    "    train_dataset = PatentDataset(\n",
    "                    anchor = train.anchor.values,\n",
    "                    target = train.target.values,\n",
    "                    context = train.context.values,\n",
    "                    score = train.score.values,\n",
    "                    tokenizer = tokenizer,\n",
    "                    max_len = Config.max_len\n",
    "    )\n",
    "\n",
    "    val_dataset = PatentDataset(\n",
    "                        anchor = val.anchor.values,\n",
    "                        target = val.target.values,\n",
    "                        context = val.context.values,\n",
    "                        score = val.score.values,\n",
    "                        tokenizer = tokenizer,\n",
    "                        max_len = Config.max_len\n",
    "    )\n",
    "    train_dataloader = DataLoader(train_dataset, batch_size=32, shuffle=True)\n",
    "    val_dataloader =DataLoader(val_dataset, batch_size=32)\n",
    "    \n",
    "    criterion = nn.CrossEntropyLoss()\n",
    "    optimizer = Adam(model.parameters(), lr= learning_rate)\n",
    "    \n",
    "    if torch.cuda.is_available():\n",
    "        model = model.cuda()\n",
    "        criterion = criterion.cuda()\n",
    "        \n",
    "    for epoch_num in range(epochs):\n",
    "        total_acc_train = 0\n",
    "        total_loss_train = 0\n",
    "        \n",
    "        for item in tqdm(train_dataloader):\n",
    "            train_label = item['label'].to(device)\n",
    "            mask = item['attention_mask'].to(device)\n",
    "            input_id = item['input_ids'].squeeze(1).to(device)\n",
    "\n",
    "\n",
    "            output = model(input_id, mask)\n",
    "            batch_loss = criterion(output, train_label)\n",
    "            total_loss_train += batch_loss.item()\n",
    "                \n",
    "            acc = (output.argmax(dim=1) == train_label).sum().item()\n",
    "            total_acc_train += acc\n",
    "\n",
    "            model.zero_grad()\n",
    "            batch_loss.backward()\n",
    "            optimizer.step()\n",
    "            \n",
    "            total_acc_val = 0\n",
    "            total_loss_val = 0\n",
    "\n",
    "        with torch.no_grad():\n",
    "\n",
    "            for item in val_dataloader:\n",
    "\n",
    "                val_label = item['label'].to(device)\n",
    "                mask = item['attention_mask'].to(device)\n",
    "                input_id = item['input_ids'].squeeze(1).to(device)\n",
    "\n",
    "                output = model(input_id, mask)\n",
    "\n",
    "                batch_loss = criterion(output, val_label)\n",
    "                total_loss_val += batch_loss.item()\n",
    "                    \n",
    "                acc = (output.argmax(dim=1) == val_label).sum().item()\n",
    "                total_acc_val += acc\n",
    "        save_path = f'bert_{epoch_num}.pt'\n",
    "        torch.save({\n",
    "            'epoch': epoch_num,\n",
    "            'model_state_dict': model.state_dict(),\n",
    "            'optimizer_state_dict': optimizer.state_dict(),\n",
    "#             'loss': LOSS,\n",
    "            }, save_path)    \n",
    "        print(\n",
    "                f'Epochs: {epoch_num + 1} | Train Loss: {total_loss_train / len(train_data): .3f} \\\n",
    "                | Train Accuracy: {total_acc_train / len(train_data): .3f} \\\n",
    "                | Val Loss: {total_loss_val / len(val_data): .3f} \\\n",
    "                | Val Accuracy: {total_acc_val / len(val_data): .3f}')\n",
    "        print( 'model saved to =>', save_path)\n",
    "\n",
    "model = BertClassifier(dropout=0.5)\n",
    "           \n",
    "train(model, train_data, val_data, Config.lr, Config.epochs)"
   ]
  },
  {
   "cell_type": "code",
   "execution_count": 17,
   "id": "bdb3909a",
   "metadata": {
    "execution": {
     "iopub.execute_input": "2022-03-27T17:10:09.860783Z",
     "iopub.status.busy": "2022-03-27T17:10:09.859793Z",
     "iopub.status.idle": "2022-03-27T17:10:09.861504Z",
     "shell.execute_reply": "2022-03-27T17:10:09.862013Z",
     "shell.execute_reply.started": "2022-03-27T16:43:16.775964Z"
    },
    "papermill": {
     "duration": 1.100297,
     "end_time": "2022-03-27T17:10:09.862164",
     "exception": false,
     "start_time": "2022-03-27T17:10:08.761867",
     "status": "completed"
    },
    "tags": []
   },
   "outputs": [],
   "source": [
    "# !zip bert_usp_v1.zip './bert_2.pt'"
   ]
  },
  {
   "cell_type": "code",
   "execution_count": 18,
   "id": "11b0e7eb",
   "metadata": {
    "execution": {
     "iopub.execute_input": "2022-03-27T17:10:13.579671Z",
     "iopub.status.busy": "2022-03-27T17:10:13.574877Z",
     "iopub.status.idle": "2022-03-27T17:10:27.172628Z",
     "shell.execute_reply": "2022-03-27T17:10:27.173063Z",
     "shell.execute_reply.started": "2022-03-27T16:46:37.861095Z"
    },
    "papermill": {
     "duration": 14.940967,
     "end_time": "2022-03-27T17:10:27.173227",
     "exception": false,
     "start_time": "2022-03-27T17:10:12.232260",
     "status": "completed"
    },
    "tags": []
   },
   "outputs": [
    {
     "name": "stderr",
     "output_type": "stream",
     "text": [
      "Some weights of the model checkpoint at anferico/bert-for-patents were not used when initializing BertModel: ['cls.seq_relationship.weight', 'cls.predictions.bias', 'cls.predictions.transform.dense.weight', 'cls.predictions.transform.LayerNorm.bias', 'cls.predictions.decoder.bias', 'cls.seq_relationship.bias', 'cls.predictions.decoder.weight', 'cls.predictions.transform.LayerNorm.weight', 'cls.predictions.transform.dense.bias']\n",
      "- This IS expected if you are initializing BertModel from the checkpoint of a model trained on another task or with another architecture (e.g. initializing a BertForSequenceClassification model from a BertForPreTraining model).\n",
      "- This IS NOT expected if you are initializing BertModel from the checkpoint of a model that you expect to be exactly identical (initializing a BertForSequenceClassification model from a BertForSequenceClassification model).\n"
     ]
    },
    {
     "name": "stdout",
     "output_type": "stream",
     "text": [
      "[tensor([0, 0, 0, 0, 0, 0, 0, 0, 0, 1, 0, 0, 0, 0, 0, 0, 0, 0, 0, 0, 0, 0, 0, 0,\n",
      "        0, 0, 0, 0, 0, 0, 0, 0], device='cuda:0'), tensor([0, 0, 0, 0], device='cuda:0')]\n",
      "test generated => 2\n"
     ]
    }
   ],
   "source": [
    "def predict(model, test_data):\n",
    "\n",
    "    test = PatentTestDataset( \n",
    "                    anchor = test_data.anchor.values,\n",
    "                    target = test_data.target.values,\n",
    "                    context = test_data.context.values,\n",
    "                    tokenizer = tokenizer,\n",
    "                    max_len = Config.max_len\n",
    "    )\n",
    "\n",
    "    test_dataloader = DataLoader(test, batch_size=32)\n",
    "\n",
    "    if torch.cuda.is_available():\n",
    "        model = model.cuda()\n",
    "    score_list = []\n",
    "    with torch.no_grad():\n",
    "\n",
    "        for item in test_dataloader:\n",
    "\n",
    "            mask = item['attention_mask'].to(device)\n",
    "            input_id = item['input_ids'].squeeze(1).to(device)\n",
    "            output = model(input_id, mask)\n",
    "            preds = output.argmax(dim=1)\n",
    "            score_list.append(  preds )\n",
    "\n",
    "    print( score_list)\n",
    "    print( 'test generated =>' , len( score_list))\n",
    "saved_model_path = './bert_2.pt'\n",
    "model_dict = torch.load(saved_model_path)\n",
    "model = BertClassifier(dropout=0.5)\n",
    "model.load_state_dict(model_dict['model_state_dict']) \n",
    "predict(model, test_df)"
   ]
  }
 ],
 "metadata": {
  "kernelspec": {
   "display_name": "Python 3",
   "language": "python",
   "name": "python3"
  },
  "language_info": {
   "codemirror_mode": {
    "name": "ipython",
    "version": 3
   },
   "file_extension": ".py",
   "mimetype": "text/x-python",
   "name": "python",
   "nbconvert_exporter": "python",
   "pygments_lexer": "ipython3",
   "version": "3.7.12"
  },
  "papermill": {
   "default_parameters": {},
   "duration": 1359.316012,
   "end_time": "2022-03-27T17:10:31.797085",
   "environment_variables": {},
   "exception": null,
   "input_path": "__notebook__.ipynb",
   "output_path": "__notebook__.ipynb",
   "parameters": {},
   "start_time": "2022-03-27T16:47:52.481073",
   "version": "2.3.3"
  },
  "widgets": {
   "application/vnd.jupyter.widget-state+json": {
    "state": {
     "02fe83ef952f4a5faad9c32a60fc45bd": {
      "model_module": "@jupyter-widgets/base",
      "model_module_version": "1.2.0",
      "model_name": "LayoutModel",
      "state": {
       "_model_module": "@jupyter-widgets/base",
       "_model_module_version": "1.2.0",
       "_model_name": "LayoutModel",
       "_view_count": null,
       "_view_module": "@jupyter-widgets/base",
       "_view_module_version": "1.2.0",
       "_view_name": "LayoutView",
       "align_content": null,
       "align_items": null,
       "align_self": null,
       "border": null,
       "bottom": null,
       "display": null,
       "flex": null,
       "flex_flow": null,
       "grid_area": null,
       "grid_auto_columns": null,
       "grid_auto_flow": null,
       "grid_auto_rows": null,
       "grid_column": null,
       "grid_gap": null,
       "grid_row": null,
       "grid_template_areas": null,
       "grid_template_columns": null,
       "grid_template_rows": null,
       "height": null,
       "justify_content": null,
       "justify_items": null,
       "left": null,
       "margin": null,
       "max_height": null,
       "max_width": null,
       "min_height": null,
       "min_width": null,
       "object_fit": null,
       "object_position": null,
       "order": null,
       "overflow": null,
       "overflow_x": null,
       "overflow_y": null,
       "padding": null,
       "right": null,
       "top": null,
       "visibility": null,
       "width": null
      }
     },
     "0e5201e0840e487ba2ad133c78d03650": {
      "model_module": "@jupyter-widgets/controls",
      "model_module_version": "1.5.0",
      "model_name": "FloatProgressModel",
      "state": {
       "_dom_classes": [],
       "_model_module": "@jupyter-widgets/controls",
       "_model_module_version": "1.5.0",
       "_model_name": "FloatProgressModel",
       "_view_count": null,
       "_view_module": "@jupyter-widgets/controls",
       "_view_module_version": "1.5.0",
       "_view_name": "ProgressView",
       "bar_style": "success",
       "description": "",
       "description_tooltip": null,
       "layout": "IPY_MODEL_6f012e791e6f4eee8d9d8656418931d3",
       "max": 329241.0,
       "min": 0.0,
       "orientation": "horizontal",
       "style": "IPY_MODEL_a5984626ce704432826e43c3145ffbde",
       "value": 329241.0
      }
     },
     "28cb9ce1cc05463285dcda06f6f78ffd": {
      "model_module": "@jupyter-widgets/base",
      "model_module_version": "1.2.0",
      "model_name": "LayoutModel",
      "state": {
       "_model_module": "@jupyter-widgets/base",
       "_model_module_version": "1.2.0",
       "_model_name": "LayoutModel",
       "_view_count": null,
       "_view_module": "@jupyter-widgets/base",
       "_view_module_version": "1.2.0",
       "_view_name": "LayoutView",
       "align_content": null,
       "align_items": null,
       "align_self": null,
       "border": null,
       "bottom": null,
       "display": null,
       "flex": null,
       "flex_flow": null,
       "grid_area": null,
       "grid_auto_columns": null,
       "grid_auto_flow": null,
       "grid_auto_rows": null,
       "grid_column": null,
       "grid_gap": null,
       "grid_row": null,
       "grid_template_areas": null,
       "grid_template_columns": null,
       "grid_template_rows": null,
       "height": null,
       "justify_content": null,
       "justify_items": null,
       "left": null,
       "margin": null,
       "max_height": null,
       "max_width": null,
       "min_height": null,
       "min_width": null,
       "object_fit": null,
       "object_position": null,
       "order": null,
       "overflow": null,
       "overflow_x": null,
       "overflow_y": null,
       "padding": null,
       "right": null,
       "top": null,
       "visibility": null,
       "width": null
      }
     },
     "2ad1948ff1d64f7492e59fcc5fb30023": {
      "model_module": "@jupyter-widgets/controls",
      "model_module_version": "1.5.0",
      "model_name": "DescriptionStyleModel",
      "state": {
       "_model_module": "@jupyter-widgets/controls",
       "_model_module_version": "1.5.0",
       "_model_name": "DescriptionStyleModel",
       "_view_count": null,
       "_view_module": "@jupyter-widgets/base",
       "_view_module_version": "1.2.0",
       "_view_name": "StyleView",
       "description_width": ""
      }
     },
     "3807f579cbe74a3b8d8f46c12ac02077": {
      "model_module": "@jupyter-widgets/controls",
      "model_module_version": "1.5.0",
      "model_name": "HTMLModel",
      "state": {
       "_dom_classes": [],
       "_model_module": "@jupyter-widgets/controls",
       "_model_module_version": "1.5.0",
       "_model_name": "HTMLModel",
       "_view_count": null,
       "_view_module": "@jupyter-widgets/controls",
       "_view_module_version": "1.5.0",
       "_view_name": "HTMLView",
       "description": "",
       "description_tooltip": null,
       "layout": "IPY_MODEL_7613eba4f0714ecfab3d5c1bba889efc",
       "placeholder": "​",
       "style": "IPY_MODEL_9d297eaa13be4a5a8de48b79c95a2957",
       "value": " 327/327 [00:00&lt;00:00, 12.6kB/s]"
      }
     },
     "38d7c9852e1347f1b585a30c2bfb2f69": {
      "model_module": "@jupyter-widgets/controls",
      "model_module_version": "1.5.0",
      "model_name": "FloatProgressModel",
      "state": {
       "_dom_classes": [],
       "_model_module": "@jupyter-widgets/controls",
       "_model_module_version": "1.5.0",
       "_model_name": "FloatProgressModel",
       "_view_count": null,
       "_view_module": "@jupyter-widgets/controls",
       "_view_module_version": "1.5.0",
       "_view_name": "ProgressView",
       "bar_style": "success",
       "description": "",
       "description_tooltip": null,
       "layout": "IPY_MODEL_e702edb6ee954b98bb88d9a8176671e0",
       "max": 1383349812.0,
       "min": 0.0,
       "orientation": "horizontal",
       "style": "IPY_MODEL_3ca4c0152db34612bd6fcd8325a603b3",
       "value": 1383349812.0
      }
     },
     "3ca4c0152db34612bd6fcd8325a603b3": {
      "model_module": "@jupyter-widgets/controls",
      "model_module_version": "1.5.0",
      "model_name": "ProgressStyleModel",
      "state": {
       "_model_module": "@jupyter-widgets/controls",
       "_model_module_version": "1.5.0",
       "_model_name": "ProgressStyleModel",
       "_view_count": null,
       "_view_module": "@jupyter-widgets/base",
       "_view_module_version": "1.2.0",
       "_view_name": "StyleView",
       "bar_color": null,
       "description_width": ""
      }
     },
     "43a10fb50274471d83be8cd40f8ebbc0": {
      "model_module": "@jupyter-widgets/controls",
      "model_module_version": "1.5.0",
      "model_name": "FloatProgressModel",
      "state": {
       "_dom_classes": [],
       "_model_module": "@jupyter-widgets/controls",
       "_model_module_version": "1.5.0",
       "_model_name": "FloatProgressModel",
       "_view_count": null,
       "_view_module": "@jupyter-widgets/controls",
       "_view_module_version": "1.5.0",
       "_view_name": "ProgressView",
       "bar_style": "success",
       "description": "",
       "description_tooltip": null,
       "layout": "IPY_MODEL_02fe83ef952f4a5faad9c32a60fc45bd",
       "max": 327.0,
       "min": 0.0,
       "orientation": "horizontal",
       "style": "IPY_MODEL_79ee3e30ec2d457382d875dc9d14a4bf",
       "value": 327.0
      }
     },
     "45ee3145bc22443286a7b18726a1890c": {
      "model_module": "@jupyter-widgets/controls",
      "model_module_version": "1.5.0",
      "model_name": "DescriptionStyleModel",
      "state": {
       "_model_module": "@jupyter-widgets/controls",
       "_model_module_version": "1.5.0",
       "_model_name": "DescriptionStyleModel",
       "_view_count": null,
       "_view_module": "@jupyter-widgets/base",
       "_view_module_version": "1.2.0",
       "_view_name": "StyleView",
       "description_width": ""
      }
     },
     "52d98b8f8c9b427db6cf528a171155c2": {
      "model_module": "@jupyter-widgets/controls",
      "model_module_version": "1.5.0",
      "model_name": "DescriptionStyleModel",
      "state": {
       "_model_module": "@jupyter-widgets/controls",
       "_model_module_version": "1.5.0",
       "_model_name": "DescriptionStyleModel",
       "_view_count": null,
       "_view_module": "@jupyter-widgets/base",
       "_view_module_version": "1.2.0",
       "_view_name": "StyleView",
       "description_width": ""
      }
     },
     "5bf4d96ce3f34fa4a49cd26f2721b414": {
      "model_module": "@jupyter-widgets/controls",
      "model_module_version": "1.5.0",
      "model_name": "HTMLModel",
      "state": {
       "_dom_classes": [],
       "_model_module": "@jupyter-widgets/controls",
       "_model_module_version": "1.5.0",
       "_model_name": "HTMLModel",
       "_view_count": null,
       "_view_module": "@jupyter-widgets/controls",
       "_view_module_version": "1.5.0",
       "_view_name": "HTMLView",
       "description": "",
       "description_tooltip": null,
       "layout": "IPY_MODEL_28cb9ce1cc05463285dcda06f6f78ffd",
       "placeholder": "​",
       "style": "IPY_MODEL_2ad1948ff1d64f7492e59fcc5fb30023",
       "value": " 322k/322k [00:00&lt;00:00, 706kB/s]"
      }
     },
     "6da0ad30485d4035a7f36de7ce49bda0": {
      "model_module": "@jupyter-widgets/base",
      "model_module_version": "1.2.0",
      "model_name": "LayoutModel",
      "state": {
       "_model_module": "@jupyter-widgets/base",
       "_model_module_version": "1.2.0",
       "_model_name": "LayoutModel",
       "_view_count": null,
       "_view_module": "@jupyter-widgets/base",
       "_view_module_version": "1.2.0",
       "_view_name": "LayoutView",
       "align_content": null,
       "align_items": null,
       "align_self": null,
       "border": null,
       "bottom": null,
       "display": null,
       "flex": null,
       "flex_flow": null,
       "grid_area": null,
       "grid_auto_columns": null,
       "grid_auto_flow": null,
       "grid_auto_rows": null,
       "grid_column": null,
       "grid_gap": null,
       "grid_row": null,
       "grid_template_areas": null,
       "grid_template_columns": null,
       "grid_template_rows": null,
       "height": null,
       "justify_content": null,
       "justify_items": null,
       "left": null,
       "margin": null,
       "max_height": null,
       "max_width": null,
       "min_height": null,
       "min_width": null,
       "object_fit": null,
       "object_position": null,
       "order": null,
       "overflow": null,
       "overflow_x": null,
       "overflow_y": null,
       "padding": null,
       "right": null,
       "top": null,
       "visibility": null,
       "width": null
      }
     },
     "6f012e791e6f4eee8d9d8656418931d3": {
      "model_module": "@jupyter-widgets/base",
      "model_module_version": "1.2.0",
      "model_name": "LayoutModel",
      "state": {
       "_model_module": "@jupyter-widgets/base",
       "_model_module_version": "1.2.0",
       "_model_name": "LayoutModel",
       "_view_count": null,
       "_view_module": "@jupyter-widgets/base",
       "_view_module_version": "1.2.0",
       "_view_name": "LayoutView",
       "align_content": null,
       "align_items": null,
       "align_self": null,
       "border": null,
       "bottom": null,
       "display": null,
       "flex": null,
       "flex_flow": null,
       "grid_area": null,
       "grid_auto_columns": null,
       "grid_auto_flow": null,
       "grid_auto_rows": null,
       "grid_column": null,
       "grid_gap": null,
       "grid_row": null,
       "grid_template_areas": null,
       "grid_template_columns": null,
       "grid_template_rows": null,
       "height": null,
       "justify_content": null,
       "justify_items": null,
       "left": null,
       "margin": null,
       "max_height": null,
       "max_width": null,
       "min_height": null,
       "min_width": null,
       "object_fit": null,
       "object_position": null,
       "order": null,
       "overflow": null,
       "overflow_x": null,
       "overflow_y": null,
       "padding": null,
       "right": null,
       "top": null,
       "visibility": null,
       "width": null
      }
     },
     "721e1cb40b90420b94256a03f3873b7b": {
      "model_module": "@jupyter-widgets/base",
      "model_module_version": "1.2.0",
      "model_name": "LayoutModel",
      "state": {
       "_model_module": "@jupyter-widgets/base",
       "_model_module_version": "1.2.0",
       "_model_name": "LayoutModel",
       "_view_count": null,
       "_view_module": "@jupyter-widgets/base",
       "_view_module_version": "1.2.0",
       "_view_name": "LayoutView",
       "align_content": null,
       "align_items": null,
       "align_self": null,
       "border": null,
       "bottom": null,
       "display": null,
       "flex": null,
       "flex_flow": null,
       "grid_area": null,
       "grid_auto_columns": null,
       "grid_auto_flow": null,
       "grid_auto_rows": null,
       "grid_column": null,
       "grid_gap": null,
       "grid_row": null,
       "grid_template_areas": null,
       "grid_template_columns": null,
       "grid_template_rows": null,
       "height": null,
       "justify_content": null,
       "justify_items": null,
       "left": null,
       "margin": null,
       "max_height": null,
       "max_width": null,
       "min_height": null,
       "min_width": null,
       "object_fit": null,
       "object_position": null,
       "order": null,
       "overflow": null,
       "overflow_x": null,
       "overflow_y": null,
       "padding": null,
       "right": null,
       "top": null,
       "visibility": null,
       "width": null
      }
     },
     "7613eba4f0714ecfab3d5c1bba889efc": {
      "model_module": "@jupyter-widgets/base",
      "model_module_version": "1.2.0",
      "model_name": "LayoutModel",
      "state": {
       "_model_module": "@jupyter-widgets/base",
       "_model_module_version": "1.2.0",
       "_model_name": "LayoutModel",
       "_view_count": null,
       "_view_module": "@jupyter-widgets/base",
       "_view_module_version": "1.2.0",
       "_view_name": "LayoutView",
       "align_content": null,
       "align_items": null,
       "align_self": null,
       "border": null,
       "bottom": null,
       "display": null,
       "flex": null,
       "flex_flow": null,
       "grid_area": null,
       "grid_auto_columns": null,
       "grid_auto_flow": null,
       "grid_auto_rows": null,
       "grid_column": null,
       "grid_gap": null,
       "grid_row": null,
       "grid_template_areas": null,
       "grid_template_columns": null,
       "grid_template_rows": null,
       "height": null,
       "justify_content": null,
       "justify_items": null,
       "left": null,
       "margin": null,
       "max_height": null,
       "max_width": null,
       "min_height": null,
       "min_width": null,
       "object_fit": null,
       "object_position": null,
       "order": null,
       "overflow": null,
       "overflow_x": null,
       "overflow_y": null,
       "padding": null,
       "right": null,
       "top": null,
       "visibility": null,
       "width": null
      }
     },
     "787477a13c794dd5bcb905cc9eb1928d": {
      "model_module": "@jupyter-widgets/base",
      "model_module_version": "1.2.0",
      "model_name": "LayoutModel",
      "state": {
       "_model_module": "@jupyter-widgets/base",
       "_model_module_version": "1.2.0",
       "_model_name": "LayoutModel",
       "_view_count": null,
       "_view_module": "@jupyter-widgets/base",
       "_view_module_version": "1.2.0",
       "_view_name": "LayoutView",
       "align_content": null,
       "align_items": null,
       "align_self": null,
       "border": null,
       "bottom": null,
       "display": null,
       "flex": null,
       "flex_flow": null,
       "grid_area": null,
       "grid_auto_columns": null,
       "grid_auto_flow": null,
       "grid_auto_rows": null,
       "grid_column": null,
       "grid_gap": null,
       "grid_row": null,
       "grid_template_areas": null,
       "grid_template_columns": null,
       "grid_template_rows": null,
       "height": null,
       "justify_content": null,
       "justify_items": null,
       "left": null,
       "margin": null,
       "max_height": null,
       "max_width": null,
       "min_height": null,
       "min_width": null,
       "object_fit": null,
       "object_position": null,
       "order": null,
       "overflow": null,
       "overflow_x": null,
       "overflow_y": null,
       "padding": null,
       "right": null,
       "top": null,
       "visibility": null,
       "width": null
      }
     },
     "79ee3e30ec2d457382d875dc9d14a4bf": {
      "model_module": "@jupyter-widgets/controls",
      "model_module_version": "1.5.0",
      "model_name": "ProgressStyleModel",
      "state": {
       "_model_module": "@jupyter-widgets/controls",
       "_model_module_version": "1.5.0",
       "_model_name": "ProgressStyleModel",
       "_view_count": null,
       "_view_module": "@jupyter-widgets/base",
       "_view_module_version": "1.2.0",
       "_view_name": "StyleView",
       "bar_color": null,
       "description_width": ""
      }
     },
     "8d3a9f5c240e45f1b646f6e4d393b8c1": {
      "model_module": "@jupyter-widgets/controls",
      "model_module_version": "1.5.0",
      "model_name": "HTMLModel",
      "state": {
       "_dom_classes": [],
       "_model_module": "@jupyter-widgets/controls",
       "_model_module_version": "1.5.0",
       "_model_name": "HTMLModel",
       "_view_count": null,
       "_view_module": "@jupyter-widgets/controls",
       "_view_module_version": "1.5.0",
       "_view_name": "HTMLView",
       "description": "",
       "description_tooltip": null,
       "layout": "IPY_MODEL_e438c70d5a444a51ae20df047d1f951e",
       "placeholder": "​",
       "style": "IPY_MODEL_52d98b8f8c9b427db6cf528a171155c2",
       "value": "Downloading: 100%"
      }
     },
     "9d297eaa13be4a5a8de48b79c95a2957": {
      "model_module": "@jupyter-widgets/controls",
      "model_module_version": "1.5.0",
      "model_name": "DescriptionStyleModel",
      "state": {
       "_model_module": "@jupyter-widgets/controls",
       "_model_module_version": "1.5.0",
       "_model_name": "DescriptionStyleModel",
       "_view_count": null,
       "_view_module": "@jupyter-widgets/base",
       "_view_module_version": "1.2.0",
       "_view_name": "StyleView",
       "description_width": ""
      }
     },
     "a0962c3cd7b2452c810bac3b55865f08": {
      "model_module": "@jupyter-widgets/controls",
      "model_module_version": "1.5.0",
      "model_name": "HTMLModel",
      "state": {
       "_dom_classes": [],
       "_model_module": "@jupyter-widgets/controls",
       "_model_module_version": "1.5.0",
       "_model_name": "HTMLModel",
       "_view_count": null,
       "_view_module": "@jupyter-widgets/controls",
       "_view_module_version": "1.5.0",
       "_view_name": "HTMLView",
       "description": "",
       "description_tooltip": null,
       "layout": "IPY_MODEL_721e1cb40b90420b94256a03f3873b7b",
       "placeholder": "​",
       "style": "IPY_MODEL_beafd4a44a0d45c293fb15e739d2b2a0",
       "value": "Downloading: 100%"
      }
     },
     "a5984626ce704432826e43c3145ffbde": {
      "model_module": "@jupyter-widgets/controls",
      "model_module_version": "1.5.0",
      "model_name": "ProgressStyleModel",
      "state": {
       "_model_module": "@jupyter-widgets/controls",
       "_model_module_version": "1.5.0",
       "_model_name": "ProgressStyleModel",
       "_view_count": null,
       "_view_module": "@jupyter-widgets/base",
       "_view_module_version": "1.2.0",
       "_view_name": "StyleView",
       "bar_color": null,
       "description_width": ""
      }
     },
     "a68c2b4991f14559b45e6434df9e5619": {
      "model_module": "@jupyter-widgets/controls",
      "model_module_version": "1.5.0",
      "model_name": "HBoxModel",
      "state": {
       "_dom_classes": [],
       "_model_module": "@jupyter-widgets/controls",
       "_model_module_version": "1.5.0",
       "_model_name": "HBoxModel",
       "_view_count": null,
       "_view_module": "@jupyter-widgets/controls",
       "_view_module_version": "1.5.0",
       "_view_name": "HBoxView",
       "box_style": "",
       "children": [
        "IPY_MODEL_e3b17d313e084f8f8ab7178050af122a",
        "IPY_MODEL_43a10fb50274471d83be8cd40f8ebbc0",
        "IPY_MODEL_3807f579cbe74a3b8d8f46c12ac02077"
       ],
       "layout": "IPY_MODEL_787477a13c794dd5bcb905cc9eb1928d"
      }
     },
     "a9052f5b844b4113b63ac1e76c2248c2": {
      "model_module": "@jupyter-widgets/controls",
      "model_module_version": "1.5.0",
      "model_name": "DescriptionStyleModel",
      "state": {
       "_model_module": "@jupyter-widgets/controls",
       "_model_module_version": "1.5.0",
       "_model_name": "DescriptionStyleModel",
       "_view_count": null,
       "_view_module": "@jupyter-widgets/base",
       "_view_module_version": "1.2.0",
       "_view_name": "StyleView",
       "description_width": ""
      }
     },
     "ab52c15987d74d75aafad765ae0cbeec": {
      "model_module": "@jupyter-widgets/controls",
      "model_module_version": "1.5.0",
      "model_name": "HTMLModel",
      "state": {
       "_dom_classes": [],
       "_model_module": "@jupyter-widgets/controls",
       "_model_module_version": "1.5.0",
       "_model_name": "HTMLModel",
       "_view_count": null,
       "_view_module": "@jupyter-widgets/controls",
       "_view_module_version": "1.5.0",
       "_view_name": "HTMLView",
       "description": "",
       "description_tooltip": null,
       "layout": "IPY_MODEL_ba71960795804282b4da479dff8c1e9b",
       "placeholder": "​",
       "style": "IPY_MODEL_a9052f5b844b4113b63ac1e76c2248c2",
       "value": " 1.29G/1.29G [00:46&lt;00:00, 30.2MB/s]"
      }
     },
     "ae31b034e64b42099ffdfc6deb6ad856": {
      "model_module": "@jupyter-widgets/base",
      "model_module_version": "1.2.0",
      "model_name": "LayoutModel",
      "state": {
       "_model_module": "@jupyter-widgets/base",
       "_model_module_version": "1.2.0",
       "_model_name": "LayoutModel",
       "_view_count": null,
       "_view_module": "@jupyter-widgets/base",
       "_view_module_version": "1.2.0",
       "_view_name": "LayoutView",
       "align_content": null,
       "align_items": null,
       "align_self": null,
       "border": null,
       "bottom": null,
       "display": null,
       "flex": null,
       "flex_flow": null,
       "grid_area": null,
       "grid_auto_columns": null,
       "grid_auto_flow": null,
       "grid_auto_rows": null,
       "grid_column": null,
       "grid_gap": null,
       "grid_row": null,
       "grid_template_areas": null,
       "grid_template_columns": null,
       "grid_template_rows": null,
       "height": null,
       "justify_content": null,
       "justify_items": null,
       "left": null,
       "margin": null,
       "max_height": null,
       "max_width": null,
       "min_height": null,
       "min_width": null,
       "object_fit": null,
       "object_position": null,
       "order": null,
       "overflow": null,
       "overflow_x": null,
       "overflow_y": null,
       "padding": null,
       "right": null,
       "top": null,
       "visibility": null,
       "width": null
      }
     },
     "b5d208c7258c47e9bb1b86d53b9a84b2": {
      "model_module": "@jupyter-widgets/controls",
      "model_module_version": "1.5.0",
      "model_name": "HBoxModel",
      "state": {
       "_dom_classes": [],
       "_model_module": "@jupyter-widgets/controls",
       "_model_module_version": "1.5.0",
       "_model_name": "HBoxModel",
       "_view_count": null,
       "_view_module": "@jupyter-widgets/controls",
       "_view_module_version": "1.5.0",
       "_view_name": "HBoxView",
       "box_style": "",
       "children": [
        "IPY_MODEL_8d3a9f5c240e45f1b646f6e4d393b8c1",
        "IPY_MODEL_0e5201e0840e487ba2ad133c78d03650",
        "IPY_MODEL_5bf4d96ce3f34fa4a49cd26f2721b414"
       ],
       "layout": "IPY_MODEL_c555620b6e114b62a92c7f90a1fd6f4b"
      }
     },
     "ba71960795804282b4da479dff8c1e9b": {
      "model_module": "@jupyter-widgets/base",
      "model_module_version": "1.2.0",
      "model_name": "LayoutModel",
      "state": {
       "_model_module": "@jupyter-widgets/base",
       "_model_module_version": "1.2.0",
       "_model_name": "LayoutModel",
       "_view_count": null,
       "_view_module": "@jupyter-widgets/base",
       "_view_module_version": "1.2.0",
       "_view_name": "LayoutView",
       "align_content": null,
       "align_items": null,
       "align_self": null,
       "border": null,
       "bottom": null,
       "display": null,
       "flex": null,
       "flex_flow": null,
       "grid_area": null,
       "grid_auto_columns": null,
       "grid_auto_flow": null,
       "grid_auto_rows": null,
       "grid_column": null,
       "grid_gap": null,
       "grid_row": null,
       "grid_template_areas": null,
       "grid_template_columns": null,
       "grid_template_rows": null,
       "height": null,
       "justify_content": null,
       "justify_items": null,
       "left": null,
       "margin": null,
       "max_height": null,
       "max_width": null,
       "min_height": null,
       "min_width": null,
       "object_fit": null,
       "object_position": null,
       "order": null,
       "overflow": null,
       "overflow_x": null,
       "overflow_y": null,
       "padding": null,
       "right": null,
       "top": null,
       "visibility": null,
       "width": null
      }
     },
     "beafd4a44a0d45c293fb15e739d2b2a0": {
      "model_module": "@jupyter-widgets/controls",
      "model_module_version": "1.5.0",
      "model_name": "DescriptionStyleModel",
      "state": {
       "_model_module": "@jupyter-widgets/controls",
       "_model_module_version": "1.5.0",
       "_model_name": "DescriptionStyleModel",
       "_view_count": null,
       "_view_module": "@jupyter-widgets/base",
       "_view_module_version": "1.2.0",
       "_view_name": "StyleView",
       "description_width": ""
      }
     },
     "c555620b6e114b62a92c7f90a1fd6f4b": {
      "model_module": "@jupyter-widgets/base",
      "model_module_version": "1.2.0",
      "model_name": "LayoutModel",
      "state": {
       "_model_module": "@jupyter-widgets/base",
       "_model_module_version": "1.2.0",
       "_model_name": "LayoutModel",
       "_view_count": null,
       "_view_module": "@jupyter-widgets/base",
       "_view_module_version": "1.2.0",
       "_view_name": "LayoutView",
       "align_content": null,
       "align_items": null,
       "align_self": null,
       "border": null,
       "bottom": null,
       "display": null,
       "flex": null,
       "flex_flow": null,
       "grid_area": null,
       "grid_auto_columns": null,
       "grid_auto_flow": null,
       "grid_auto_rows": null,
       "grid_column": null,
       "grid_gap": null,
       "grid_row": null,
       "grid_template_areas": null,
       "grid_template_columns": null,
       "grid_template_rows": null,
       "height": null,
       "justify_content": null,
       "justify_items": null,
       "left": null,
       "margin": null,
       "max_height": null,
       "max_width": null,
       "min_height": null,
       "min_width": null,
       "object_fit": null,
       "object_position": null,
       "order": null,
       "overflow": null,
       "overflow_x": null,
       "overflow_y": null,
       "padding": null,
       "right": null,
       "top": null,
       "visibility": null,
       "width": null
      }
     },
     "d9a44f77a061408f97d5eb42135fc937": {
      "model_module": "@jupyter-widgets/controls",
      "model_module_version": "1.5.0",
      "model_name": "HBoxModel",
      "state": {
       "_dom_classes": [],
       "_model_module": "@jupyter-widgets/controls",
       "_model_module_version": "1.5.0",
       "_model_name": "HBoxModel",
       "_view_count": null,
       "_view_module": "@jupyter-widgets/controls",
       "_view_module_version": "1.5.0",
       "_view_name": "HBoxView",
       "box_style": "",
       "children": [
        "IPY_MODEL_a0962c3cd7b2452c810bac3b55865f08",
        "IPY_MODEL_38d7c9852e1347f1b585a30c2bfb2f69",
        "IPY_MODEL_ab52c15987d74d75aafad765ae0cbeec"
       ],
       "layout": "IPY_MODEL_6da0ad30485d4035a7f36de7ce49bda0"
      }
     },
     "e3b17d313e084f8f8ab7178050af122a": {
      "model_module": "@jupyter-widgets/controls",
      "model_module_version": "1.5.0",
      "model_name": "HTMLModel",
      "state": {
       "_dom_classes": [],
       "_model_module": "@jupyter-widgets/controls",
       "_model_module_version": "1.5.0",
       "_model_name": "HTMLModel",
       "_view_count": null,
       "_view_module": "@jupyter-widgets/controls",
       "_view_module_version": "1.5.0",
       "_view_name": "HTMLView",
       "description": "",
       "description_tooltip": null,
       "layout": "IPY_MODEL_ae31b034e64b42099ffdfc6deb6ad856",
       "placeholder": "​",
       "style": "IPY_MODEL_45ee3145bc22443286a7b18726a1890c",
       "value": "Downloading: 100%"
      }
     },
     "e438c70d5a444a51ae20df047d1f951e": {
      "model_module": "@jupyter-widgets/base",
      "model_module_version": "1.2.0",
      "model_name": "LayoutModel",
      "state": {
       "_model_module": "@jupyter-widgets/base",
       "_model_module_version": "1.2.0",
       "_model_name": "LayoutModel",
       "_view_count": null,
       "_view_module": "@jupyter-widgets/base",
       "_view_module_version": "1.2.0",
       "_view_name": "LayoutView",
       "align_content": null,
       "align_items": null,
       "align_self": null,
       "border": null,
       "bottom": null,
       "display": null,
       "flex": null,
       "flex_flow": null,
       "grid_area": null,
       "grid_auto_columns": null,
       "grid_auto_flow": null,
       "grid_auto_rows": null,
       "grid_column": null,
       "grid_gap": null,
       "grid_row": null,
       "grid_template_areas": null,
       "grid_template_columns": null,
       "grid_template_rows": null,
       "height": null,
       "justify_content": null,
       "justify_items": null,
       "left": null,
       "margin": null,
       "max_height": null,
       "max_width": null,
       "min_height": null,
       "min_width": null,
       "object_fit": null,
       "object_position": null,
       "order": null,
       "overflow": null,
       "overflow_x": null,
       "overflow_y": null,
       "padding": null,
       "right": null,
       "top": null,
       "visibility": null,
       "width": null
      }
     },
     "e702edb6ee954b98bb88d9a8176671e0": {
      "model_module": "@jupyter-widgets/base",
      "model_module_version": "1.2.0",
      "model_name": "LayoutModel",
      "state": {
       "_model_module": "@jupyter-widgets/base",
       "_model_module_version": "1.2.0",
       "_model_name": "LayoutModel",
       "_view_count": null,
       "_view_module": "@jupyter-widgets/base",
       "_view_module_version": "1.2.0",
       "_view_name": "LayoutView",
       "align_content": null,
       "align_items": null,
       "align_self": null,
       "border": null,
       "bottom": null,
       "display": null,
       "flex": null,
       "flex_flow": null,
       "grid_area": null,
       "grid_auto_columns": null,
       "grid_auto_flow": null,
       "grid_auto_rows": null,
       "grid_column": null,
       "grid_gap": null,
       "grid_row": null,
       "grid_template_areas": null,
       "grid_template_columns": null,
       "grid_template_rows": null,
       "height": null,
       "justify_content": null,
       "justify_items": null,
       "left": null,
       "margin": null,
       "max_height": null,
       "max_width": null,
       "min_height": null,
       "min_width": null,
       "object_fit": null,
       "object_position": null,
       "order": null,
       "overflow": null,
       "overflow_x": null,
       "overflow_y": null,
       "padding": null,
       "right": null,
       "top": null,
       "visibility": null,
       "width": null
      }
     }
    },
    "version_major": 2,
    "version_minor": 0
   }
  }
 },
 "nbformat": 4,
 "nbformat_minor": 5
}

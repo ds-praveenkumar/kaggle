{
 "cells": [
  {
   "cell_type": "markdown",
   "id": "e1abfea9",
   "metadata": {
    "papermill": {
     "duration": 0.026771,
     "end_time": "2022-05-12T10:47:26.372885",
     "exception": false,
     "start_time": "2022-05-12T10:47:26.346114",
     "status": "completed"
    },
    "tags": []
   },
   "source": [
    "<h1 align=\"center\"  style=\"background-color:yellow;\" style=\"font-family:verdana;\"> ⬆️⬆️⬆️ If you find this note book helpful. <b>please upvote!</b> ⬆️⬆️⬆️ </h1>"
   ]
  },
  {
   "cell_type": "markdown",
   "id": "6fd32e9d",
   "metadata": {
    "papermill": {
     "duration": 0.024844,
     "end_time": "2022-05-12T10:47:26.421685",
     "exception": false,
     "start_time": "2022-05-12T10:47:26.396841",
     "status": "completed"
    },
    "tags": []
   },
   "source": [
    "\n",
    "<h1 align=\"center\" style=\"background-color:powderblue;\" style=\"font-size:300%;\"> Google AI4Code – Understand Code in Python Notebooks   </h1>"
   ]
  },
  {
   "cell_type": "markdown",
   "id": "45c18ee9",
   "metadata": {
    "papermill": {
     "duration": 0.018324,
     "end_time": "2022-05-12T10:47:26.458739",
     "exception": false,
     "start_time": "2022-05-12T10:47:26.440415",
     "status": "completed"
    },
    "tags": []
   },
   "source": [
    "<img src=\"https://tinyurl.com/4kjrs77t\" align=\"center\"> </img>\n"
   ]
  },
  {
   "cell_type": "markdown",
   "id": "08bbc6c5",
   "metadata": {
    "papermill": {
     "duration": 0.0186,
     "end_time": "2022-05-12T10:47:26.496043",
     "exception": false,
     "start_time": "2022-05-12T10:47:26.477443",
     "status": "completed"
    },
    "tags": []
   },
   "source": [
    "<h2 align=\"center\" style=\"background-color:yellow;\"  style=\"font-size:200%;\"> import libraries </h2>\n"
   ]
  },
  {
   "cell_type": "code",
   "execution_count": 1,
   "id": "6dbbedc7",
   "metadata": {
    "execution": {
     "iopub.execute_input": "2022-05-12T10:47:26.535309Z",
     "iopub.status.busy": "2022-05-12T10:47:26.534809Z",
     "iopub.status.idle": "2022-05-12T10:47:26.798591Z",
     "shell.execute_reply": "2022-05-12T10:47:26.797368Z"
    },
    "papermill": {
     "duration": 0.286317,
     "end_time": "2022-05-12T10:47:26.801365",
     "exception": false,
     "start_time": "2022-05-12T10:47:26.515048",
     "status": "completed"
    },
    "tags": []
   },
   "outputs": [],
   "source": [
    "import pandas as pd\n",
    "import numpy as np\n",
    "import os\n",
    "from pathlib import Path\n",
    "import json\n",
    "from tqdm.notebook import tqdm\n",
    "from joblib import Parallel, delayed"
   ]
  },
  {
   "cell_type": "code",
   "execution_count": 2,
   "id": "3c1cda26",
   "metadata": {
    "execution": {
     "iopub.execute_input": "2022-05-12T10:47:26.842599Z",
     "iopub.status.busy": "2022-05-12T10:47:26.842326Z",
     "iopub.status.idle": "2022-05-12T10:47:26.846340Z",
     "shell.execute_reply": "2022-05-12T10:47:26.845822Z"
    },
    "papermill": {
     "duration": 0.026643,
     "end_time": "2022-05-12T10:47:26.847952",
     "exception": false,
     "start_time": "2022-05-12T10:47:26.821309",
     "status": "completed"
    },
    "tags": []
   },
   "outputs": [],
   "source": [
    "class Config:\n",
    "    train_dir = '../input/AI4Code/train'\n",
    "    test_dir = '../input/AI4Code/test'\n",
    "    order_csv = '../input/AI4Code/train_orders.csv'\n",
    "    ancestor_csv = '../input/AI4Code/train_ancestors.csv'\n",
    "    sub_csv = '../input/AI4Code/sample_submission.csv'"
   ]
  },
  {
   "cell_type": "markdown",
   "id": "1e10725e",
   "metadata": {
    "papermill": {
     "duration": 0.018422,
     "end_time": "2022-05-12T10:47:26.885978",
     "exception": false,
     "start_time": "2022-05-12T10:47:26.867556",
     "status": "completed"
    },
    "tags": []
   },
   "source": [
    "<h2 align=\"center\" style=\"background-color:yellow;\"  style=\"font-size:200%;\"> load data </h2>\n"
   ]
  },
  {
   "cell_type": "code",
   "execution_count": 3,
   "id": "f916917b",
   "metadata": {
    "execution": {
     "iopub.execute_input": "2022-05-12T10:47:26.926138Z",
     "iopub.status.busy": "2022-05-12T10:47:26.925569Z",
     "iopub.status.idle": "2022-05-12T10:47:28.671144Z",
     "shell.execute_reply": "2022-05-12T10:47:28.670429Z"
    },
    "papermill": {
     "duration": 1.768675,
     "end_time": "2022-05-12T10:47:28.673546",
     "exception": false,
     "start_time": "2022-05-12T10:47:26.904871",
     "status": "completed"
    },
    "tags": []
   },
   "outputs": [],
   "source": [
    "ancestor_df = pd.read_csv( Config.ancestor_csv)\n",
    "sub_df = pd.read_csv( Config.sub_csv)\n",
    "order_df = pd.read_csv( Config.order_csv)"
   ]
  },
  {
   "cell_type": "code",
   "execution_count": 4,
   "id": "73e2d408",
   "metadata": {
    "execution": {
     "iopub.execute_input": "2022-05-12T10:47:28.712793Z",
     "iopub.status.busy": "2022-05-12T10:47:28.712506Z",
     "iopub.status.idle": "2022-05-12T10:47:28.729608Z",
     "shell.execute_reply": "2022-05-12T10:47:28.729034Z"
    },
    "papermill": {
     "duration": 0.039401,
     "end_time": "2022-05-12T10:47:28.732150",
     "exception": false,
     "start_time": "2022-05-12T10:47:28.692749",
     "status": "completed"
    },
    "tags": []
   },
   "outputs": [
    {
     "data": {
      "text/html": [
       "<div>\n",
       "<style scoped>\n",
       "    .dataframe tbody tr th:only-of-type {\n",
       "        vertical-align: middle;\n",
       "    }\n",
       "\n",
       "    .dataframe tbody tr th {\n",
       "        vertical-align: top;\n",
       "    }\n",
       "\n",
       "    .dataframe thead th {\n",
       "        text-align: right;\n",
       "    }\n",
       "</style>\n",
       "<table border=\"1\" class=\"dataframe\">\n",
       "  <thead>\n",
       "    <tr style=\"text-align: right;\">\n",
       "      <th></th>\n",
       "      <th>id</th>\n",
       "      <th>ancestor_id</th>\n",
       "      <th>parent_id</th>\n",
       "    </tr>\n",
       "  </thead>\n",
       "  <tbody>\n",
       "    <tr>\n",
       "      <th>0</th>\n",
       "      <td>00001756c60be8</td>\n",
       "      <td>945aea18</td>\n",
       "      <td>NaN</td>\n",
       "    </tr>\n",
       "    <tr>\n",
       "      <th>1</th>\n",
       "      <td>00015c83e2717b</td>\n",
       "      <td>aa2da37e</td>\n",
       "      <td>317b65d12af9df</td>\n",
       "    </tr>\n",
       "    <tr>\n",
       "      <th>2</th>\n",
       "      <td>0001bdd4021779</td>\n",
       "      <td>a7711fde</td>\n",
       "      <td>NaN</td>\n",
       "    </tr>\n",
       "    <tr>\n",
       "      <th>3</th>\n",
       "      <td>0001daf4c2c76d</td>\n",
       "      <td>090152ca</td>\n",
       "      <td>NaN</td>\n",
       "    </tr>\n",
       "    <tr>\n",
       "      <th>4</th>\n",
       "      <td>0002115f48f982</td>\n",
       "      <td>272b483a</td>\n",
       "      <td>NaN</td>\n",
       "    </tr>\n",
       "  </tbody>\n",
       "</table>\n",
       "</div>"
      ],
      "text/plain": [
       "               id ancestor_id       parent_id\n",
       "0  00001756c60be8    945aea18             NaN\n",
       "1  00015c83e2717b    aa2da37e  317b65d12af9df\n",
       "2  0001bdd4021779    a7711fde             NaN\n",
       "3  0001daf4c2c76d    090152ca             NaN\n",
       "4  0002115f48f982    272b483a             NaN"
      ]
     },
     "execution_count": 4,
     "metadata": {},
     "output_type": "execute_result"
    }
   ],
   "source": [
    "ancestor_df.head()"
   ]
  },
  {
   "cell_type": "code",
   "execution_count": 5,
   "id": "8517b04d",
   "metadata": {
    "execution": {
     "iopub.execute_input": "2022-05-12T10:47:28.773218Z",
     "iopub.status.busy": "2022-05-12T10:47:28.772442Z",
     "iopub.status.idle": "2022-05-12T10:47:28.781256Z",
     "shell.execute_reply": "2022-05-12T10:47:28.780451Z"
    },
    "papermill": {
     "duration": 0.031607,
     "end_time": "2022-05-12T10:47:28.783215",
     "exception": false,
     "start_time": "2022-05-12T10:47:28.751608",
     "status": "completed"
    },
    "tags": []
   },
   "outputs": [
    {
     "data": {
      "text/html": [
       "<div>\n",
       "<style scoped>\n",
       "    .dataframe tbody tr th:only-of-type {\n",
       "        vertical-align: middle;\n",
       "    }\n",
       "\n",
       "    .dataframe tbody tr th {\n",
       "        vertical-align: top;\n",
       "    }\n",
       "\n",
       "    .dataframe thead th {\n",
       "        text-align: right;\n",
       "    }\n",
       "</style>\n",
       "<table border=\"1\" class=\"dataframe\">\n",
       "  <thead>\n",
       "    <tr style=\"text-align: right;\">\n",
       "      <th></th>\n",
       "      <th>id</th>\n",
       "      <th>cell_order</th>\n",
       "    </tr>\n",
       "  </thead>\n",
       "  <tbody>\n",
       "    <tr>\n",
       "      <th>0</th>\n",
       "      <td>0009d135ece78d</td>\n",
       "      <td>ddfd239c c6cd22db 1372ae9b 90ed07ab 7f388a41 2...</td>\n",
       "    </tr>\n",
       "    <tr>\n",
       "      <th>1</th>\n",
       "      <td>0010483c12ba9b</td>\n",
       "      <td>54c7cab3 fe66203e 7844d5f8 5ce8863c 4a0777c4 4...</td>\n",
       "    </tr>\n",
       "    <tr>\n",
       "      <th>2</th>\n",
       "      <td>0010a919d60e4f</td>\n",
       "      <td>aafc3d23 80e077ec b190ebb4 ed415c3c 322850af c...</td>\n",
       "    </tr>\n",
       "    <tr>\n",
       "      <th>3</th>\n",
       "      <td>0028856e09c5b7</td>\n",
       "      <td>012c9d02 d22526d1 3ae7ece3 eb293dfc</td>\n",
       "    </tr>\n",
       "  </tbody>\n",
       "</table>\n",
       "</div>"
      ],
      "text/plain": [
       "               id                                         cell_order\n",
       "0  0009d135ece78d  ddfd239c c6cd22db 1372ae9b 90ed07ab 7f388a41 2...\n",
       "1  0010483c12ba9b  54c7cab3 fe66203e 7844d5f8 5ce8863c 4a0777c4 4...\n",
       "2  0010a919d60e4f  aafc3d23 80e077ec b190ebb4 ed415c3c 322850af c...\n",
       "3  0028856e09c5b7                012c9d02 d22526d1 3ae7ece3 eb293dfc"
      ]
     },
     "execution_count": 5,
     "metadata": {},
     "output_type": "execute_result"
    }
   ],
   "source": [
    "sub_df.head()"
   ]
  },
  {
   "cell_type": "code",
   "execution_count": 6,
   "id": "6587fd4b",
   "metadata": {
    "execution": {
     "iopub.execute_input": "2022-05-12T10:47:28.825206Z",
     "iopub.status.busy": "2022-05-12T10:47:28.824673Z",
     "iopub.status.idle": "2022-05-12T10:47:28.833384Z",
     "shell.execute_reply": "2022-05-12T10:47:28.832823Z"
    },
    "papermill": {
     "duration": 0.031339,
     "end_time": "2022-05-12T10:47:28.834969",
     "exception": false,
     "start_time": "2022-05-12T10:47:28.803630",
     "status": "completed"
    },
    "tags": []
   },
   "outputs": [
    {
     "data": {
      "text/html": [
       "<div>\n",
       "<style scoped>\n",
       "    .dataframe tbody tr th:only-of-type {\n",
       "        vertical-align: middle;\n",
       "    }\n",
       "\n",
       "    .dataframe tbody tr th {\n",
       "        vertical-align: top;\n",
       "    }\n",
       "\n",
       "    .dataframe thead th {\n",
       "        text-align: right;\n",
       "    }\n",
       "</style>\n",
       "<table border=\"1\" class=\"dataframe\">\n",
       "  <thead>\n",
       "    <tr style=\"text-align: right;\">\n",
       "      <th></th>\n",
       "      <th>id</th>\n",
       "      <th>cell_order</th>\n",
       "    </tr>\n",
       "  </thead>\n",
       "  <tbody>\n",
       "    <tr>\n",
       "      <th>0</th>\n",
       "      <td>00001756c60be8</td>\n",
       "      <td>1862f0a6 448eb224 2a9e43d6 7e2f170a 038b763d 7...</td>\n",
       "    </tr>\n",
       "    <tr>\n",
       "      <th>1</th>\n",
       "      <td>00015c83e2717b</td>\n",
       "      <td>2e94bd7a 3e99dee9 b5e286ea da4f7550 c417225b 5...</td>\n",
       "    </tr>\n",
       "    <tr>\n",
       "      <th>2</th>\n",
       "      <td>0001bdd4021779</td>\n",
       "      <td>3fdc37be 073782ca 8ea7263c 80543cd8 38310c80 0...</td>\n",
       "    </tr>\n",
       "    <tr>\n",
       "      <th>3</th>\n",
       "      <td>0001daf4c2c76d</td>\n",
       "      <td>97266564 a898e555 86605076 76cc2642 ef279279 d...</td>\n",
       "    </tr>\n",
       "    <tr>\n",
       "      <th>4</th>\n",
       "      <td>0002115f48f982</td>\n",
       "      <td>9ec225f0 18281c6c e3b6b115 4a044c54 365fe576 a...</td>\n",
       "    </tr>\n",
       "  </tbody>\n",
       "</table>\n",
       "</div>"
      ],
      "text/plain": [
       "               id                                         cell_order\n",
       "0  00001756c60be8  1862f0a6 448eb224 2a9e43d6 7e2f170a 038b763d 7...\n",
       "1  00015c83e2717b  2e94bd7a 3e99dee9 b5e286ea da4f7550 c417225b 5...\n",
       "2  0001bdd4021779  3fdc37be 073782ca 8ea7263c 80543cd8 38310c80 0...\n",
       "3  0001daf4c2c76d  97266564 a898e555 86605076 76cc2642 ef279279 d...\n",
       "4  0002115f48f982  9ec225f0 18281c6c e3b6b115 4a044c54 365fe576 a..."
      ]
     },
     "execution_count": 6,
     "metadata": {},
     "output_type": "execute_result"
    }
   ],
   "source": [
    "order_df.head()"
   ]
  },
  {
   "cell_type": "code",
   "execution_count": 7,
   "id": "def4e62c",
   "metadata": {
    "execution": {
     "iopub.execute_input": "2022-05-12T10:47:28.876184Z",
     "iopub.status.busy": "2022-05-12T10:47:28.875677Z",
     "iopub.status.idle": "2022-05-12T10:47:29.016829Z",
     "shell.execute_reply": "2022-05-12T10:47:29.015975Z"
    },
    "papermill": {
     "duration": 0.164726,
     "end_time": "2022-05-12T10:47:29.019610",
     "exception": false,
     "start_time": "2022-05-12T10:47:28.854884",
     "status": "completed"
    },
    "tags": []
   },
   "outputs": [],
   "source": [
    "merged_df = order_df.merge( ancestor_df , on='id' )"
   ]
  },
  {
   "cell_type": "code",
   "execution_count": 8,
   "id": "fc0ddd20",
   "metadata": {
    "execution": {
     "iopub.execute_input": "2022-05-12T10:47:29.063233Z",
     "iopub.status.busy": "2022-05-12T10:47:29.062914Z",
     "iopub.status.idle": "2022-05-12T10:47:29.074381Z",
     "shell.execute_reply": "2022-05-12T10:47:29.073542Z"
    },
    "papermill": {
     "duration": 0.034386,
     "end_time": "2022-05-12T10:47:29.076263",
     "exception": false,
     "start_time": "2022-05-12T10:47:29.041877",
     "status": "completed"
    },
    "tags": []
   },
   "outputs": [
    {
     "data": {
      "text/html": [
       "<div>\n",
       "<style scoped>\n",
       "    .dataframe tbody tr th:only-of-type {\n",
       "        vertical-align: middle;\n",
       "    }\n",
       "\n",
       "    .dataframe tbody tr th {\n",
       "        vertical-align: top;\n",
       "    }\n",
       "\n",
       "    .dataframe thead th {\n",
       "        text-align: right;\n",
       "    }\n",
       "</style>\n",
       "<table border=\"1\" class=\"dataframe\">\n",
       "  <thead>\n",
       "    <tr style=\"text-align: right;\">\n",
       "      <th></th>\n",
       "      <th>id</th>\n",
       "      <th>cell_order</th>\n",
       "      <th>ancestor_id</th>\n",
       "      <th>parent_id</th>\n",
       "    </tr>\n",
       "  </thead>\n",
       "  <tbody>\n",
       "    <tr>\n",
       "      <th>0</th>\n",
       "      <td>00001756c60be8</td>\n",
       "      <td>1862f0a6 448eb224 2a9e43d6 7e2f170a 038b763d 7...</td>\n",
       "      <td>945aea18</td>\n",
       "      <td>NaN</td>\n",
       "    </tr>\n",
       "    <tr>\n",
       "      <th>1</th>\n",
       "      <td>00015c83e2717b</td>\n",
       "      <td>2e94bd7a 3e99dee9 b5e286ea da4f7550 c417225b 5...</td>\n",
       "      <td>aa2da37e</td>\n",
       "      <td>317b65d12af9df</td>\n",
       "    </tr>\n",
       "    <tr>\n",
       "      <th>2</th>\n",
       "      <td>0001bdd4021779</td>\n",
       "      <td>3fdc37be 073782ca 8ea7263c 80543cd8 38310c80 0...</td>\n",
       "      <td>a7711fde</td>\n",
       "      <td>NaN</td>\n",
       "    </tr>\n",
       "    <tr>\n",
       "      <th>3</th>\n",
       "      <td>0001daf4c2c76d</td>\n",
       "      <td>97266564 a898e555 86605076 76cc2642 ef279279 d...</td>\n",
       "      <td>090152ca</td>\n",
       "      <td>NaN</td>\n",
       "    </tr>\n",
       "    <tr>\n",
       "      <th>4</th>\n",
       "      <td>0002115f48f982</td>\n",
       "      <td>9ec225f0 18281c6c e3b6b115 4a044c54 365fe576 a...</td>\n",
       "      <td>272b483a</td>\n",
       "      <td>NaN</td>\n",
       "    </tr>\n",
       "  </tbody>\n",
       "</table>\n",
       "</div>"
      ],
      "text/plain": [
       "               id                                         cell_order  \\\n",
       "0  00001756c60be8  1862f0a6 448eb224 2a9e43d6 7e2f170a 038b763d 7...   \n",
       "1  00015c83e2717b  2e94bd7a 3e99dee9 b5e286ea da4f7550 c417225b 5...   \n",
       "2  0001bdd4021779  3fdc37be 073782ca 8ea7263c 80543cd8 38310c80 0...   \n",
       "3  0001daf4c2c76d  97266564 a898e555 86605076 76cc2642 ef279279 d...   \n",
       "4  0002115f48f982  9ec225f0 18281c6c e3b6b115 4a044c54 365fe576 a...   \n",
       "\n",
       "  ancestor_id       parent_id  \n",
       "0    945aea18             NaN  \n",
       "1    aa2da37e  317b65d12af9df  \n",
       "2    a7711fde             NaN  \n",
       "3    090152ca             NaN  \n",
       "4    272b483a             NaN  "
      ]
     },
     "execution_count": 8,
     "metadata": {},
     "output_type": "execute_result"
    }
   ],
   "source": [
    "merged_df.head()"
   ]
  },
  {
   "cell_type": "code",
   "execution_count": 9,
   "id": "87472996",
   "metadata": {
    "execution": {
     "iopub.execute_input": "2022-05-12T10:47:29.119923Z",
     "iopub.status.busy": "2022-05-12T10:47:29.119647Z",
     "iopub.status.idle": "2022-05-12T10:47:29.161354Z",
     "shell.execute_reply": "2022-05-12T10:47:29.160189Z"
    },
    "papermill": {
     "duration": 0.06651,
     "end_time": "2022-05-12T10:47:29.163842",
     "exception": false,
     "start_time": "2022-05-12T10:47:29.097332",
     "status": "completed"
    },
    "tags": []
   },
   "outputs": [
    {
     "name": "stdout",
     "output_type": "stream",
     "text": [
      "unique ids:  139256\n"
     ]
    }
   ],
   "source": [
    "print( 'unique ids: ', merged_df.id.nunique())"
   ]
  },
  {
   "cell_type": "code",
   "execution_count": 10,
   "id": "2bec79df",
   "metadata": {
    "execution": {
     "iopub.execute_input": "2022-05-12T10:47:29.207275Z",
     "iopub.status.busy": "2022-05-12T10:47:29.206821Z",
     "iopub.status.idle": "2022-05-12T10:54:58.718743Z",
     "shell.execute_reply": "2022-05-12T10:54:58.717918Z"
    },
    "papermill": {
     "duration": 449.536192,
     "end_time": "2022-05-12T10:54:58.721561",
     "exception": false,
     "start_time": "2022-05-12T10:47:29.185369",
     "status": "completed"
    },
    "tags": []
   },
   "outputs": [
    {
     "data": {
      "application/vnd.jupyter.widget-view+json": {
       "model_id": "05d5510381454ec2bf6b3c99db703cd8",
       "version_major": 2,
       "version_minor": 0
      },
      "text/plain": [
       "0it [00:00, ?it/s]"
      ]
     },
     "metadata": {},
     "output_type": "display_data"
    }
   ],
   "source": [
    "df_list =[]\n",
    "def read_json( file ):\n",
    "    file_name =  file.name.split('.')[0]\n",
    "    try:\n",
    "        df_ = pd.read_json( str( file )).reset_index().rename( {'index': 'cell_id'}, axis=1)\n",
    "        df_['id'] = file_name\n",
    "        df_list.append(df_)\n",
    "    except:\n",
    "        pass\n",
    "    return df_list\n",
    "files = Path( Config.train_dir ).glob('*.json')\n",
    "results = Parallel(n_jobs=8)(delayed(read_json)(i) for i in tqdm(files))"
   ]
  },
  {
   "cell_type": "code",
   "execution_count": 11,
   "id": "7bbf2379",
   "metadata": {
    "execution": {
     "iopub.execute_input": "2022-05-12T10:54:58.770202Z",
     "iopub.status.busy": "2022-05-12T10:54:58.769758Z",
     "iopub.status.idle": "2022-05-12T10:55:22.760679Z",
     "shell.execute_reply": "2022-05-12T10:55:22.759799Z"
    },
    "papermill": {
     "duration": 24.016801,
     "end_time": "2022-05-12T10:55:22.763135",
     "exception": false,
     "start_time": "2022-05-12T10:54:58.746334",
     "status": "completed"
    },
    "tags": []
   },
   "outputs": [],
   "source": [
    "df_list = []\n",
    "for i in range(len(results)):\n",
    "    df_ = results[i][0]\n",
    "    df_list.append(df_)\n",
    "df_raw = pd.concat( df_list, ignore_index=True)"
   ]
  },
  {
   "cell_type": "code",
   "execution_count": 12,
   "id": "e3ded130",
   "metadata": {
    "execution": {
     "iopub.execute_input": "2022-05-12T10:55:22.808811Z",
     "iopub.status.busy": "2022-05-12T10:55:22.808396Z",
     "iopub.status.idle": "2022-05-12T10:55:26.247156Z",
     "shell.execute_reply": "2022-05-12T10:55:26.246464Z"
    },
    "papermill": {
     "duration": 3.464405,
     "end_time": "2022-05-12T10:55:26.249442",
     "exception": false,
     "start_time": "2022-05-12T10:55:22.785037",
     "status": "completed"
    },
    "tags": []
   },
   "outputs": [],
   "source": [
    "df = merged_df.merge( df_raw , on='id')"
   ]
  },
  {
   "cell_type": "code",
   "execution_count": 13,
   "id": "86b0ef01",
   "metadata": {
    "execution": {
     "iopub.execute_input": "2022-05-12T10:55:26.295872Z",
     "iopub.status.busy": "2022-05-12T10:55:26.295200Z",
     "iopub.status.idle": "2022-05-12T10:55:26.307971Z",
     "shell.execute_reply": "2022-05-12T10:55:26.307178Z"
    },
    "papermill": {
     "duration": 0.037982,
     "end_time": "2022-05-12T10:55:26.309970",
     "exception": false,
     "start_time": "2022-05-12T10:55:26.271988",
     "status": "completed"
    },
    "tags": []
   },
   "outputs": [
    {
     "data": {
      "text/html": [
       "<div>\n",
       "<style scoped>\n",
       "    .dataframe tbody tr th:only-of-type {\n",
       "        vertical-align: middle;\n",
       "    }\n",
       "\n",
       "    .dataframe tbody tr th {\n",
       "        vertical-align: top;\n",
       "    }\n",
       "\n",
       "    .dataframe thead th {\n",
       "        text-align: right;\n",
       "    }\n",
       "</style>\n",
       "<table border=\"1\" class=\"dataframe\">\n",
       "  <thead>\n",
       "    <tr style=\"text-align: right;\">\n",
       "      <th></th>\n",
       "      <th>id</th>\n",
       "      <th>cell_order</th>\n",
       "      <th>ancestor_id</th>\n",
       "      <th>parent_id</th>\n",
       "      <th>cell_id</th>\n",
       "      <th>cell_type</th>\n",
       "      <th>source</th>\n",
       "    </tr>\n",
       "  </thead>\n",
       "  <tbody>\n",
       "    <tr>\n",
       "      <th>0</th>\n",
       "      <td>00015c83e2717b</td>\n",
       "      <td>2e94bd7a 3e99dee9 b5e286ea da4f7550 c417225b 5...</td>\n",
       "      <td>aa2da37e</td>\n",
       "      <td>317b65d12af9df</td>\n",
       "      <td>c417225b</td>\n",
       "      <td>code</td>\n",
       "      <td>import numpy as np # linear algebra\\nimport pa...</td>\n",
       "    </tr>\n",
       "    <tr>\n",
       "      <th>1</th>\n",
       "      <td>00015c83e2717b</td>\n",
       "      <td>2e94bd7a 3e99dee9 b5e286ea da4f7550 c417225b 5...</td>\n",
       "      <td>aa2da37e</td>\n",
       "      <td>317b65d12af9df</td>\n",
       "      <td>51e3cd89</td>\n",
       "      <td>code</td>\n",
       "      <td>input_dir = \"../input/\"</td>\n",
       "    </tr>\n",
       "    <tr>\n",
       "      <th>2</th>\n",
       "      <td>00015c83e2717b</td>\n",
       "      <td>2e94bd7a 3e99dee9 b5e286ea da4f7550 c417225b 5...</td>\n",
       "      <td>aa2da37e</td>\n",
       "      <td>317b65d12af9df</td>\n",
       "      <td>2600b4eb</td>\n",
       "      <td>code</td>\n",
       "      <td>train_df = pd.read_csv(\"../input/train.csv\")\\n...</td>\n",
       "    </tr>\n",
       "    <tr>\n",
       "      <th>3</th>\n",
       "      <td>00015c83e2717b</td>\n",
       "      <td>2e94bd7a 3e99dee9 b5e286ea da4f7550 c417225b 5...</td>\n",
       "      <td>aa2da37e</td>\n",
       "      <td>317b65d12af9df</td>\n",
       "      <td>75b65993</td>\n",
       "      <td>code</td>\n",
       "      <td>class_dict = defaultdict(int)\\n\\nkind_class_di...</td>\n",
       "    </tr>\n",
       "    <tr>\n",
       "      <th>4</th>\n",
       "      <td>00015c83e2717b</td>\n",
       "      <td>2e94bd7a 3e99dee9 b5e286ea da4f7550 c417225b 5...</td>\n",
       "      <td>aa2da37e</td>\n",
       "      <td>317b65d12af9df</td>\n",
       "      <td>cf195f8b</td>\n",
       "      <td>code</td>\n",
       "      <td>print(\"the number of images with no defects: {...</td>\n",
       "    </tr>\n",
       "  </tbody>\n",
       "</table>\n",
       "</div>"
      ],
      "text/plain": [
       "               id                                         cell_order  \\\n",
       "0  00015c83e2717b  2e94bd7a 3e99dee9 b5e286ea da4f7550 c417225b 5...   \n",
       "1  00015c83e2717b  2e94bd7a 3e99dee9 b5e286ea da4f7550 c417225b 5...   \n",
       "2  00015c83e2717b  2e94bd7a 3e99dee9 b5e286ea da4f7550 c417225b 5...   \n",
       "3  00015c83e2717b  2e94bd7a 3e99dee9 b5e286ea da4f7550 c417225b 5...   \n",
       "4  00015c83e2717b  2e94bd7a 3e99dee9 b5e286ea da4f7550 c417225b 5...   \n",
       "\n",
       "  ancestor_id       parent_id   cell_id cell_type  \\\n",
       "0    aa2da37e  317b65d12af9df  c417225b      code   \n",
       "1    aa2da37e  317b65d12af9df  51e3cd89      code   \n",
       "2    aa2da37e  317b65d12af9df  2600b4eb      code   \n",
       "3    aa2da37e  317b65d12af9df  75b65993      code   \n",
       "4    aa2da37e  317b65d12af9df  cf195f8b      code   \n",
       "\n",
       "                                              source  \n",
       "0  import numpy as np # linear algebra\\nimport pa...  \n",
       "1                            input_dir = \"../input/\"  \n",
       "2  train_df = pd.read_csv(\"../input/train.csv\")\\n...  \n",
       "3  class_dict = defaultdict(int)\\n\\nkind_class_di...  \n",
       "4  print(\"the number of images with no defects: {...  "
      ]
     },
     "execution_count": 13,
     "metadata": {},
     "output_type": "execute_result"
    }
   ],
   "source": [
    "df.head()"
   ]
  },
  {
   "cell_type": "code",
   "execution_count": 14,
   "id": "b5b3578c",
   "metadata": {
    "execution": {
     "iopub.execute_input": "2022-05-12T10:55:26.355932Z",
     "iopub.status.busy": "2022-05-12T10:55:26.355518Z",
     "iopub.status.idle": "2022-05-12T11:00:04.637516Z",
     "shell.execute_reply": "2022-05-12T11:00:04.633776Z"
    },
    "papermill": {
     "duration": 278.331065,
     "end_time": "2022-05-12T11:00:04.663382",
     "exception": false,
     "start_time": "2022-05-12T10:55:26.332317",
     "status": "completed"
    },
    "tags": []
   },
   "outputs": [
    {
     "name": "stdout",
     "output_type": "stream",
     "text": [
      "CPU times: user 4min 29s, sys: 8.68 s, total: 4min 38s\n",
      "Wall time: 4min 38s\n"
     ]
    }
   ],
   "source": [
    "%%time\n",
    "df.to_csv( \"AI4code_alldata_merged_raw.csv\", index=False)"
   ]
  },
  {
   "cell_type": "code",
   "execution_count": 15,
   "id": "dc545c0b",
   "metadata": {
    "execution": {
     "iopub.execute_input": "2022-05-12T11:00:04.712632Z",
     "iopub.status.busy": "2022-05-12T11:00:04.712359Z",
     "iopub.status.idle": "2022-05-12T11:01:46.983398Z",
     "shell.execute_reply": "2022-05-12T11:01:46.982575Z"
    },
    "papermill": {
     "duration": 102.298417,
     "end_time": "2022-05-12T11:01:46.986079",
     "exception": false,
     "start_time": "2022-05-12T11:00:04.687662",
     "status": "completed"
    },
    "tags": []
   },
   "outputs": [
    {
     "name": "stdout",
     "output_type": "stream",
     "text": [
      "  adding: AI4code_alldata_merged_raw.csv (deflated 92%)\r\n"
     ]
    }
   ],
   "source": [
    "!zip AI4code_alldata_merged_raw.zip AI4code_alldata_merged_raw.csv"
   ]
  },
  {
   "cell_type": "markdown",
   "id": "d5f5cf0a",
   "metadata": {
    "papermill": {
     "duration": 0.023525,
     "end_time": "2022-05-12T11:01:47.034468",
     "exception": false,
     "start_time": "2022-05-12T11:01:47.010943",
     "status": "completed"
    },
    "tags": []
   },
   "source": [
    "<div  class=\"alert alert-block alert-info\">\n",
    "    <h1 align='center'> <b>END of NOTEBOOK</b> </h1>\n",
    "</div>"
   ]
  }
 ],
 "metadata": {
  "kernelspec": {
   "display_name": "Python 3",
   "language": "python",
   "name": "python3"
  },
  "language_info": {
   "codemirror_mode": {
    "name": "ipython",
    "version": 3
   },
   "file_extension": ".py",
   "mimetype": "text/x-python",
   "name": "python",
   "nbconvert_exporter": "python",
   "pygments_lexer": "ipython3",
   "version": "3.7.12"
  },
  "papermill": {
   "default_parameters": {},
   "duration": 872.58565,
   "end_time": "2022-05-12T11:01:49.880779",
   "environment_variables": {},
   "exception": null,
   "input_path": "__notebook__.ipynb",
   "output_path": "__notebook__.ipynb",
   "parameters": {},
   "start_time": "2022-05-12T10:47:17.295129",
   "version": "2.3.4"
  },
  "widgets": {
   "application/vnd.jupyter.widget-state+json": {
    "state": {
     "0009d628a3194401aa9bd0e8dee8032d": {
      "model_module": "@jupyter-widgets/controls",
      "model_module_version": "1.5.0",
      "model_name": "FloatProgressModel",
      "state": {
       "_dom_classes": [],
       "_model_module": "@jupyter-widgets/controls",
       "_model_module_version": "1.5.0",
       "_model_name": "FloatProgressModel",
       "_view_count": null,
       "_view_module": "@jupyter-widgets/controls",
       "_view_module_version": "1.5.0",
       "_view_name": "ProgressView",
       "bar_style": "success",
       "description": "",
       "description_tooltip": null,
       "layout": "IPY_MODEL_b5a4d13cd0eb432280f5a532937a8572",
       "max": 1.0,
       "min": 0.0,
       "orientation": "horizontal",
       "style": "IPY_MODEL_f50fb630cbd84fb29ada285428a1b633",
       "value": 1.0
      }
     },
     "01d8240ba8344a7eba26216934e9d2d5": {
      "model_module": "@jupyter-widgets/controls",
      "model_module_version": "1.5.0",
      "model_name": "DescriptionStyleModel",
      "state": {
       "_model_module": "@jupyter-widgets/controls",
       "_model_module_version": "1.5.0",
       "_model_name": "DescriptionStyleModel",
       "_view_count": null,
       "_view_module": "@jupyter-widgets/base",
       "_view_module_version": "1.2.0",
       "_view_name": "StyleView",
       "description_width": ""
      }
     },
     "05d5510381454ec2bf6b3c99db703cd8": {
      "model_module": "@jupyter-widgets/controls",
      "model_module_version": "1.5.0",
      "model_name": "HBoxModel",
      "state": {
       "_dom_classes": [],
       "_model_module": "@jupyter-widgets/controls",
       "_model_module_version": "1.5.0",
       "_model_name": "HBoxModel",
       "_view_count": null,
       "_view_module": "@jupyter-widgets/controls",
       "_view_module_version": "1.5.0",
       "_view_name": "HBoxView",
       "box_style": "",
       "children": [
        "IPY_MODEL_ec23052809224f129d89fe8f9daa4080",
        "IPY_MODEL_0009d628a3194401aa9bd0e8dee8032d",
        "IPY_MODEL_382923b1d28a48cea36d41fec09d8158"
       ],
       "layout": "IPY_MODEL_d7694a1427394aa1803ed400730a7576"
      }
     },
     "382923b1d28a48cea36d41fec09d8158": {
      "model_module": "@jupyter-widgets/controls",
      "model_module_version": "1.5.0",
      "model_name": "HTMLModel",
      "state": {
       "_dom_classes": [],
       "_model_module": "@jupyter-widgets/controls",
       "_model_module_version": "1.5.0",
       "_model_name": "HTMLModel",
       "_view_count": null,
       "_view_module": "@jupyter-widgets/controls",
       "_view_module_version": "1.5.0",
       "_view_name": "HTMLView",
       "description": "",
       "description_tooltip": null,
       "layout": "IPY_MODEL_6203ddfc039d4c30941593abc7377eba",
       "placeholder": "​",
       "style": "IPY_MODEL_01d8240ba8344a7eba26216934e9d2d5",
       "value": " 139256/? [07:29&lt;00:00, 315.23it/s]"
      }
     },
     "6203ddfc039d4c30941593abc7377eba": {
      "model_module": "@jupyter-widgets/base",
      "model_module_version": "1.2.0",
      "model_name": "LayoutModel",
      "state": {
       "_model_module": "@jupyter-widgets/base",
       "_model_module_version": "1.2.0",
       "_model_name": "LayoutModel",
       "_view_count": null,
       "_view_module": "@jupyter-widgets/base",
       "_view_module_version": "1.2.0",
       "_view_name": "LayoutView",
       "align_content": null,
       "align_items": null,
       "align_self": null,
       "border": null,
       "bottom": null,
       "display": null,
       "flex": null,
       "flex_flow": null,
       "grid_area": null,
       "grid_auto_columns": null,
       "grid_auto_flow": null,
       "grid_auto_rows": null,
       "grid_column": null,
       "grid_gap": null,
       "grid_row": null,
       "grid_template_areas": null,
       "grid_template_columns": null,
       "grid_template_rows": null,
       "height": null,
       "justify_content": null,
       "justify_items": null,
       "left": null,
       "margin": null,
       "max_height": null,
       "max_width": null,
       "min_height": null,
       "min_width": null,
       "object_fit": null,
       "object_position": null,
       "order": null,
       "overflow": null,
       "overflow_x": null,
       "overflow_y": null,
       "padding": null,
       "right": null,
       "top": null,
       "visibility": null,
       "width": null
      }
     },
     "6bd2b0134fb54c719d3a8c1bdcd76cdc": {
      "model_module": "@jupyter-widgets/base",
      "model_module_version": "1.2.0",
      "model_name": "LayoutModel",
      "state": {
       "_model_module": "@jupyter-widgets/base",
       "_model_module_version": "1.2.0",
       "_model_name": "LayoutModel",
       "_view_count": null,
       "_view_module": "@jupyter-widgets/base",
       "_view_module_version": "1.2.0",
       "_view_name": "LayoutView",
       "align_content": null,
       "align_items": null,
       "align_self": null,
       "border": null,
       "bottom": null,
       "display": null,
       "flex": null,
       "flex_flow": null,
       "grid_area": null,
       "grid_auto_columns": null,
       "grid_auto_flow": null,
       "grid_auto_rows": null,
       "grid_column": null,
       "grid_gap": null,
       "grid_row": null,
       "grid_template_areas": null,
       "grid_template_columns": null,
       "grid_template_rows": null,
       "height": null,
       "justify_content": null,
       "justify_items": null,
       "left": null,
       "margin": null,
       "max_height": null,
       "max_width": null,
       "min_height": null,
       "min_width": null,
       "object_fit": null,
       "object_position": null,
       "order": null,
       "overflow": null,
       "overflow_x": null,
       "overflow_y": null,
       "padding": null,
       "right": null,
       "top": null,
       "visibility": null,
       "width": null
      }
     },
     "8b852dd536604894a9eeaed7051adf54": {
      "model_module": "@jupyter-widgets/controls",
      "model_module_version": "1.5.0",
      "model_name": "DescriptionStyleModel",
      "state": {
       "_model_module": "@jupyter-widgets/controls",
       "_model_module_version": "1.5.0",
       "_model_name": "DescriptionStyleModel",
       "_view_count": null,
       "_view_module": "@jupyter-widgets/base",
       "_view_module_version": "1.2.0",
       "_view_name": "StyleView",
       "description_width": ""
      }
     },
     "b5a4d13cd0eb432280f5a532937a8572": {
      "model_module": "@jupyter-widgets/base",
      "model_module_version": "1.2.0",
      "model_name": "LayoutModel",
      "state": {
       "_model_module": "@jupyter-widgets/base",
       "_model_module_version": "1.2.0",
       "_model_name": "LayoutModel",
       "_view_count": null,
       "_view_module": "@jupyter-widgets/base",
       "_view_module_version": "1.2.0",
       "_view_name": "LayoutView",
       "align_content": null,
       "align_items": null,
       "align_self": null,
       "border": null,
       "bottom": null,
       "display": null,
       "flex": null,
       "flex_flow": null,
       "grid_area": null,
       "grid_auto_columns": null,
       "grid_auto_flow": null,
       "grid_auto_rows": null,
       "grid_column": null,
       "grid_gap": null,
       "grid_row": null,
       "grid_template_areas": null,
       "grid_template_columns": null,
       "grid_template_rows": null,
       "height": null,
       "justify_content": null,
       "justify_items": null,
       "left": null,
       "margin": null,
       "max_height": null,
       "max_width": null,
       "min_height": null,
       "min_width": null,
       "object_fit": null,
       "object_position": null,
       "order": null,
       "overflow": null,
       "overflow_x": null,
       "overflow_y": null,
       "padding": null,
       "right": null,
       "top": null,
       "visibility": null,
       "width": "20px"
      }
     },
     "d7694a1427394aa1803ed400730a7576": {
      "model_module": "@jupyter-widgets/base",
      "model_module_version": "1.2.0",
      "model_name": "LayoutModel",
      "state": {
       "_model_module": "@jupyter-widgets/base",
       "_model_module_version": "1.2.0",
       "_model_name": "LayoutModel",
       "_view_count": null,
       "_view_module": "@jupyter-widgets/base",
       "_view_module_version": "1.2.0",
       "_view_name": "LayoutView",
       "align_content": null,
       "align_items": null,
       "align_self": null,
       "border": null,
       "bottom": null,
       "display": null,
       "flex": null,
       "flex_flow": null,
       "grid_area": null,
       "grid_auto_columns": null,
       "grid_auto_flow": null,
       "grid_auto_rows": null,
       "grid_column": null,
       "grid_gap": null,
       "grid_row": null,
       "grid_template_areas": null,
       "grid_template_columns": null,
       "grid_template_rows": null,
       "height": null,
       "justify_content": null,
       "justify_items": null,
       "left": null,
       "margin": null,
       "max_height": null,
       "max_width": null,
       "min_height": null,
       "min_width": null,
       "object_fit": null,
       "object_position": null,
       "order": null,
       "overflow": null,
       "overflow_x": null,
       "overflow_y": null,
       "padding": null,
       "right": null,
       "top": null,
       "visibility": null,
       "width": null
      }
     },
     "ec23052809224f129d89fe8f9daa4080": {
      "model_module": "@jupyter-widgets/controls",
      "model_module_version": "1.5.0",
      "model_name": "HTMLModel",
      "state": {
       "_dom_classes": [],
       "_model_module": "@jupyter-widgets/controls",
       "_model_module_version": "1.5.0",
       "_model_name": "HTMLModel",
       "_view_count": null,
       "_view_module": "@jupyter-widgets/controls",
       "_view_module_version": "1.5.0",
       "_view_name": "HTMLView",
       "description": "",
       "description_tooltip": null,
       "layout": "IPY_MODEL_6bd2b0134fb54c719d3a8c1bdcd76cdc",
       "placeholder": "​",
       "style": "IPY_MODEL_8b852dd536604894a9eeaed7051adf54",
       "value": ""
      }
     },
     "f50fb630cbd84fb29ada285428a1b633": {
      "model_module": "@jupyter-widgets/controls",
      "model_module_version": "1.5.0",
      "model_name": "ProgressStyleModel",
      "state": {
       "_model_module": "@jupyter-widgets/controls",
       "_model_module_version": "1.5.0",
       "_model_name": "ProgressStyleModel",
       "_view_count": null,
       "_view_module": "@jupyter-widgets/base",
       "_view_module_version": "1.2.0",
       "_view_name": "StyleView",
       "bar_color": null,
       "description_width": ""
      }
     }
    },
    "version_major": 2,
    "version_minor": 0
   }
  }
 },
 "nbformat": 4,
 "nbformat_minor": 5
}

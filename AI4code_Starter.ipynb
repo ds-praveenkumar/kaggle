{
 "cells": [
  {
   "cell_type": "code",
   "execution_count": 1,
   "id": "042fab51",
   "metadata": {
    "_cell_guid": "b1076dfc-b9ad-4769-8c92-a6c4dae69d19",
    "_uuid": "8f2839f25d086af736a60e9eeb907d3b93b6e0e5",
    "execution": {
     "iopub.execute_input": "2022-05-12T10:17:56.283524Z",
     "iopub.status.busy": "2022-05-12T10:17:56.282479Z",
     "iopub.status.idle": "2022-05-12T10:17:56.589934Z",
     "shell.execute_reply": "2022-05-12T10:17:56.589130Z"
    },
    "papermill": {
     "duration": 0.329526,
     "end_time": "2022-05-12T10:17:56.592451",
     "exception": false,
     "start_time": "2022-05-12T10:17:56.262925",
     "status": "completed"
    },
    "tags": []
   },
   "outputs": [],
   "source": [
    "import pandas as pd\n",
    "import numpy as np\n",
    "import os\n",
    "from pathlib import Path\n",
    "import json\n",
    "from tqdm.notebook import tqdm\n",
    "from joblib import Parallel, delayed"
   ]
  },
  {
   "cell_type": "code",
   "execution_count": 2,
   "id": "fd239f39",
   "metadata": {
    "execution": {
     "iopub.execute_input": "2022-05-12T10:17:56.628088Z",
     "iopub.status.busy": "2022-05-12T10:17:56.627297Z",
     "iopub.status.idle": "2022-05-12T10:17:56.632302Z",
     "shell.execute_reply": "2022-05-12T10:17:56.631384Z"
    },
    "papermill": {
     "duration": 0.025216,
     "end_time": "2022-05-12T10:17:56.634316",
     "exception": false,
     "start_time": "2022-05-12T10:17:56.609100",
     "status": "completed"
    },
    "tags": []
   },
   "outputs": [],
   "source": [
    "class Config:\n",
    "    train_dir = '../input/AI4Code/train'\n",
    "    test_dir = '../input/AI4Code/test'\n",
    "    order_csv = '../input/AI4Code/train_orders.csv'\n",
    "    ancestor_csv = '../input/AI4Code/train_ancestors.csv'\n",
    "    sub_csv = '../input/AI4Code/sample_submission.csv'"
   ]
  },
  {
   "cell_type": "code",
   "execution_count": 3,
   "id": "ad13c4f0",
   "metadata": {
    "execution": {
     "iopub.execute_input": "2022-05-12T10:17:56.669610Z",
     "iopub.status.busy": "2022-05-12T10:17:56.668919Z",
     "iopub.status.idle": "2022-05-12T10:17:58.544125Z",
     "shell.execute_reply": "2022-05-12T10:17:58.543312Z"
    },
    "papermill": {
     "duration": 1.895749,
     "end_time": "2022-05-12T10:17:58.546403",
     "exception": false,
     "start_time": "2022-05-12T10:17:56.650654",
     "status": "completed"
    },
    "tags": []
   },
   "outputs": [],
   "source": [
    "ancestor_df = pd.read_csv( Config.ancestor_csv)\n",
    "sub_df = pd.read_csv( Config.sub_csv)\n",
    "order_df = pd.read_csv( Config.order_csv)"
   ]
  },
  {
   "cell_type": "code",
   "execution_count": 4,
   "id": "27081a1a",
   "metadata": {
    "execution": {
     "iopub.execute_input": "2022-05-12T10:17:58.580479Z",
     "iopub.status.busy": "2022-05-12T10:17:58.580211Z",
     "iopub.status.idle": "2022-05-12T10:17:58.598324Z",
     "shell.execute_reply": "2022-05-12T10:17:58.597570Z"
    },
    "papermill": {
     "duration": 0.038755,
     "end_time": "2022-05-12T10:17:58.601257",
     "exception": false,
     "start_time": "2022-05-12T10:17:58.562502",
     "status": "completed"
    },
    "tags": []
   },
   "outputs": [
    {
     "data": {
      "text/html": [
       "<div>\n",
       "<style scoped>\n",
       "    .dataframe tbody tr th:only-of-type {\n",
       "        vertical-align: middle;\n",
       "    }\n",
       "\n",
       "    .dataframe tbody tr th {\n",
       "        vertical-align: top;\n",
       "    }\n",
       "\n",
       "    .dataframe thead th {\n",
       "        text-align: right;\n",
       "    }\n",
       "</style>\n",
       "<table border=\"1\" class=\"dataframe\">\n",
       "  <thead>\n",
       "    <tr style=\"text-align: right;\">\n",
       "      <th></th>\n",
       "      <th>id</th>\n",
       "      <th>ancestor_id</th>\n",
       "      <th>parent_id</th>\n",
       "    </tr>\n",
       "  </thead>\n",
       "  <tbody>\n",
       "    <tr>\n",
       "      <th>0</th>\n",
       "      <td>00001756c60be8</td>\n",
       "      <td>945aea18</td>\n",
       "      <td>NaN</td>\n",
       "    </tr>\n",
       "    <tr>\n",
       "      <th>1</th>\n",
       "      <td>00015c83e2717b</td>\n",
       "      <td>aa2da37e</td>\n",
       "      <td>317b65d12af9df</td>\n",
       "    </tr>\n",
       "    <tr>\n",
       "      <th>2</th>\n",
       "      <td>0001bdd4021779</td>\n",
       "      <td>a7711fde</td>\n",
       "      <td>NaN</td>\n",
       "    </tr>\n",
       "    <tr>\n",
       "      <th>3</th>\n",
       "      <td>0001daf4c2c76d</td>\n",
       "      <td>090152ca</td>\n",
       "      <td>NaN</td>\n",
       "    </tr>\n",
       "    <tr>\n",
       "      <th>4</th>\n",
       "      <td>0002115f48f982</td>\n",
       "      <td>272b483a</td>\n",
       "      <td>NaN</td>\n",
       "    </tr>\n",
       "  </tbody>\n",
       "</table>\n",
       "</div>"
      ],
      "text/plain": [
       "               id ancestor_id       parent_id\n",
       "0  00001756c60be8    945aea18             NaN\n",
       "1  00015c83e2717b    aa2da37e  317b65d12af9df\n",
       "2  0001bdd4021779    a7711fde             NaN\n",
       "3  0001daf4c2c76d    090152ca             NaN\n",
       "4  0002115f48f982    272b483a             NaN"
      ]
     },
     "execution_count": 4,
     "metadata": {},
     "output_type": "execute_result"
    }
   ],
   "source": [
    "ancestor_df.head()"
   ]
  },
  {
   "cell_type": "code",
   "execution_count": 5,
   "id": "c00a3731",
   "metadata": {
    "execution": {
     "iopub.execute_input": "2022-05-12T10:17:58.636068Z",
     "iopub.status.busy": "2022-05-12T10:17:58.635521Z",
     "iopub.status.idle": "2022-05-12T10:17:58.643450Z",
     "shell.execute_reply": "2022-05-12T10:17:58.642875Z"
    },
    "papermill": {
     "duration": 0.027243,
     "end_time": "2022-05-12T10:17:58.645196",
     "exception": false,
     "start_time": "2022-05-12T10:17:58.617953",
     "status": "completed"
    },
    "tags": []
   },
   "outputs": [
    {
     "data": {
      "text/html": [
       "<div>\n",
       "<style scoped>\n",
       "    .dataframe tbody tr th:only-of-type {\n",
       "        vertical-align: middle;\n",
       "    }\n",
       "\n",
       "    .dataframe tbody tr th {\n",
       "        vertical-align: top;\n",
       "    }\n",
       "\n",
       "    .dataframe thead th {\n",
       "        text-align: right;\n",
       "    }\n",
       "</style>\n",
       "<table border=\"1\" class=\"dataframe\">\n",
       "  <thead>\n",
       "    <tr style=\"text-align: right;\">\n",
       "      <th></th>\n",
       "      <th>id</th>\n",
       "      <th>cell_order</th>\n",
       "    </tr>\n",
       "  </thead>\n",
       "  <tbody>\n",
       "    <tr>\n",
       "      <th>0</th>\n",
       "      <td>0009d135ece78d</td>\n",
       "      <td>ddfd239c c6cd22db 1372ae9b 90ed07ab 7f388a41 2...</td>\n",
       "    </tr>\n",
       "    <tr>\n",
       "      <th>1</th>\n",
       "      <td>0010483c12ba9b</td>\n",
       "      <td>54c7cab3 fe66203e 7844d5f8 5ce8863c 4a0777c4 4...</td>\n",
       "    </tr>\n",
       "    <tr>\n",
       "      <th>2</th>\n",
       "      <td>0010a919d60e4f</td>\n",
       "      <td>aafc3d23 80e077ec b190ebb4 ed415c3c 322850af c...</td>\n",
       "    </tr>\n",
       "    <tr>\n",
       "      <th>3</th>\n",
       "      <td>0028856e09c5b7</td>\n",
       "      <td>012c9d02 d22526d1 3ae7ece3 eb293dfc</td>\n",
       "    </tr>\n",
       "  </tbody>\n",
       "</table>\n",
       "</div>"
      ],
      "text/plain": [
       "               id                                         cell_order\n",
       "0  0009d135ece78d  ddfd239c c6cd22db 1372ae9b 90ed07ab 7f388a41 2...\n",
       "1  0010483c12ba9b  54c7cab3 fe66203e 7844d5f8 5ce8863c 4a0777c4 4...\n",
       "2  0010a919d60e4f  aafc3d23 80e077ec b190ebb4 ed415c3c 322850af c...\n",
       "3  0028856e09c5b7                012c9d02 d22526d1 3ae7ece3 eb293dfc"
      ]
     },
     "execution_count": 5,
     "metadata": {},
     "output_type": "execute_result"
    }
   ],
   "source": [
    "sub_df.head()"
   ]
  },
  {
   "cell_type": "code",
   "execution_count": 6,
   "id": "d524d7e9",
   "metadata": {
    "execution": {
     "iopub.execute_input": "2022-05-12T10:17:58.681878Z",
     "iopub.status.busy": "2022-05-12T10:17:58.681396Z",
     "iopub.status.idle": "2022-05-12T10:17:58.689153Z",
     "shell.execute_reply": "2022-05-12T10:17:58.688635Z"
    },
    "papermill": {
     "duration": 0.028677,
     "end_time": "2022-05-12T10:17:58.690897",
     "exception": false,
     "start_time": "2022-05-12T10:17:58.662220",
     "status": "completed"
    },
    "tags": []
   },
   "outputs": [
    {
     "data": {
      "text/html": [
       "<div>\n",
       "<style scoped>\n",
       "    .dataframe tbody tr th:only-of-type {\n",
       "        vertical-align: middle;\n",
       "    }\n",
       "\n",
       "    .dataframe tbody tr th {\n",
       "        vertical-align: top;\n",
       "    }\n",
       "\n",
       "    .dataframe thead th {\n",
       "        text-align: right;\n",
       "    }\n",
       "</style>\n",
       "<table border=\"1\" class=\"dataframe\">\n",
       "  <thead>\n",
       "    <tr style=\"text-align: right;\">\n",
       "      <th></th>\n",
       "      <th>id</th>\n",
       "      <th>cell_order</th>\n",
       "    </tr>\n",
       "  </thead>\n",
       "  <tbody>\n",
       "    <tr>\n",
       "      <th>0</th>\n",
       "      <td>00001756c60be8</td>\n",
       "      <td>1862f0a6 448eb224 2a9e43d6 7e2f170a 038b763d 7...</td>\n",
       "    </tr>\n",
       "    <tr>\n",
       "      <th>1</th>\n",
       "      <td>00015c83e2717b</td>\n",
       "      <td>2e94bd7a 3e99dee9 b5e286ea da4f7550 c417225b 5...</td>\n",
       "    </tr>\n",
       "    <tr>\n",
       "      <th>2</th>\n",
       "      <td>0001bdd4021779</td>\n",
       "      <td>3fdc37be 073782ca 8ea7263c 80543cd8 38310c80 0...</td>\n",
       "    </tr>\n",
       "    <tr>\n",
       "      <th>3</th>\n",
       "      <td>0001daf4c2c76d</td>\n",
       "      <td>97266564 a898e555 86605076 76cc2642 ef279279 d...</td>\n",
       "    </tr>\n",
       "    <tr>\n",
       "      <th>4</th>\n",
       "      <td>0002115f48f982</td>\n",
       "      <td>9ec225f0 18281c6c e3b6b115 4a044c54 365fe576 a...</td>\n",
       "    </tr>\n",
       "  </tbody>\n",
       "</table>\n",
       "</div>"
      ],
      "text/plain": [
       "               id                                         cell_order\n",
       "0  00001756c60be8  1862f0a6 448eb224 2a9e43d6 7e2f170a 038b763d 7...\n",
       "1  00015c83e2717b  2e94bd7a 3e99dee9 b5e286ea da4f7550 c417225b 5...\n",
       "2  0001bdd4021779  3fdc37be 073782ca 8ea7263c 80543cd8 38310c80 0...\n",
       "3  0001daf4c2c76d  97266564 a898e555 86605076 76cc2642 ef279279 d...\n",
       "4  0002115f48f982  9ec225f0 18281c6c e3b6b115 4a044c54 365fe576 a..."
      ]
     },
     "execution_count": 6,
     "metadata": {},
     "output_type": "execute_result"
    }
   ],
   "source": [
    "order_df.head()"
   ]
  },
  {
   "cell_type": "code",
   "execution_count": 7,
   "id": "2559c21a",
   "metadata": {
    "execution": {
     "iopub.execute_input": "2022-05-12T10:17:58.727642Z",
     "iopub.status.busy": "2022-05-12T10:17:58.727042Z",
     "iopub.status.idle": "2022-05-12T10:17:58.887474Z",
     "shell.execute_reply": "2022-05-12T10:17:58.886404Z"
    },
    "papermill": {
     "duration": 0.181576,
     "end_time": "2022-05-12T10:17:58.889889",
     "exception": false,
     "start_time": "2022-05-12T10:17:58.708313",
     "status": "completed"
    },
    "tags": []
   },
   "outputs": [],
   "source": [
    "merged_df = order_df.merge( ancestor_df , on='id' )"
   ]
  },
  {
   "cell_type": "code",
   "execution_count": 8,
   "id": "3f3a8868",
   "metadata": {
    "execution": {
     "iopub.execute_input": "2022-05-12T10:17:58.927359Z",
     "iopub.status.busy": "2022-05-12T10:17:58.926842Z",
     "iopub.status.idle": "2022-05-12T10:17:58.936440Z",
     "shell.execute_reply": "2022-05-12T10:17:58.935881Z"
    },
    "papermill": {
     "duration": 0.030672,
     "end_time": "2022-05-12T10:17:58.938219",
     "exception": false,
     "start_time": "2022-05-12T10:17:58.907547",
     "status": "completed"
    },
    "tags": []
   },
   "outputs": [
    {
     "data": {
      "text/html": [
       "<div>\n",
       "<style scoped>\n",
       "    .dataframe tbody tr th:only-of-type {\n",
       "        vertical-align: middle;\n",
       "    }\n",
       "\n",
       "    .dataframe tbody tr th {\n",
       "        vertical-align: top;\n",
       "    }\n",
       "\n",
       "    .dataframe thead th {\n",
       "        text-align: right;\n",
       "    }\n",
       "</style>\n",
       "<table border=\"1\" class=\"dataframe\">\n",
       "  <thead>\n",
       "    <tr style=\"text-align: right;\">\n",
       "      <th></th>\n",
       "      <th>id</th>\n",
       "      <th>cell_order</th>\n",
       "      <th>ancestor_id</th>\n",
       "      <th>parent_id</th>\n",
       "    </tr>\n",
       "  </thead>\n",
       "  <tbody>\n",
       "    <tr>\n",
       "      <th>0</th>\n",
       "      <td>00001756c60be8</td>\n",
       "      <td>1862f0a6 448eb224 2a9e43d6 7e2f170a 038b763d 7...</td>\n",
       "      <td>945aea18</td>\n",
       "      <td>NaN</td>\n",
       "    </tr>\n",
       "    <tr>\n",
       "      <th>1</th>\n",
       "      <td>00015c83e2717b</td>\n",
       "      <td>2e94bd7a 3e99dee9 b5e286ea da4f7550 c417225b 5...</td>\n",
       "      <td>aa2da37e</td>\n",
       "      <td>317b65d12af9df</td>\n",
       "    </tr>\n",
       "    <tr>\n",
       "      <th>2</th>\n",
       "      <td>0001bdd4021779</td>\n",
       "      <td>3fdc37be 073782ca 8ea7263c 80543cd8 38310c80 0...</td>\n",
       "      <td>a7711fde</td>\n",
       "      <td>NaN</td>\n",
       "    </tr>\n",
       "    <tr>\n",
       "      <th>3</th>\n",
       "      <td>0001daf4c2c76d</td>\n",
       "      <td>97266564 a898e555 86605076 76cc2642 ef279279 d...</td>\n",
       "      <td>090152ca</td>\n",
       "      <td>NaN</td>\n",
       "    </tr>\n",
       "    <tr>\n",
       "      <th>4</th>\n",
       "      <td>0002115f48f982</td>\n",
       "      <td>9ec225f0 18281c6c e3b6b115 4a044c54 365fe576 a...</td>\n",
       "      <td>272b483a</td>\n",
       "      <td>NaN</td>\n",
       "    </tr>\n",
       "  </tbody>\n",
       "</table>\n",
       "</div>"
      ],
      "text/plain": [
       "               id                                         cell_order  \\\n",
       "0  00001756c60be8  1862f0a6 448eb224 2a9e43d6 7e2f170a 038b763d 7...   \n",
       "1  00015c83e2717b  2e94bd7a 3e99dee9 b5e286ea da4f7550 c417225b 5...   \n",
       "2  0001bdd4021779  3fdc37be 073782ca 8ea7263c 80543cd8 38310c80 0...   \n",
       "3  0001daf4c2c76d  97266564 a898e555 86605076 76cc2642 ef279279 d...   \n",
       "4  0002115f48f982  9ec225f0 18281c6c e3b6b115 4a044c54 365fe576 a...   \n",
       "\n",
       "  ancestor_id       parent_id  \n",
       "0    945aea18             NaN  \n",
       "1    aa2da37e  317b65d12af9df  \n",
       "2    a7711fde             NaN  \n",
       "3    090152ca             NaN  \n",
       "4    272b483a             NaN  "
      ]
     },
     "execution_count": 8,
     "metadata": {},
     "output_type": "execute_result"
    }
   ],
   "source": [
    "merged_df.head()"
   ]
  },
  {
   "cell_type": "code",
   "execution_count": 9,
   "id": "0bef3959",
   "metadata": {
    "execution": {
     "iopub.execute_input": "2022-05-12T10:17:58.976091Z",
     "iopub.status.busy": "2022-05-12T10:17:58.975594Z",
     "iopub.status.idle": "2022-05-12T10:17:59.021214Z",
     "shell.execute_reply": "2022-05-12T10:17:59.020324Z"
    },
    "papermill": {
     "duration": 0.067182,
     "end_time": "2022-05-12T10:17:59.023420",
     "exception": false,
     "start_time": "2022-05-12T10:17:58.956238",
     "status": "completed"
    },
    "tags": []
   },
   "outputs": [
    {
     "name": "stdout",
     "output_type": "stream",
     "text": [
      "unique ids:  139256\n"
     ]
    }
   ],
   "source": [
    "print( 'unique ids: ', merged_df.id.nunique())"
   ]
  },
  {
   "cell_type": "code",
   "execution_count": 10,
   "id": "f4a23f31",
   "metadata": {
    "execution": {
     "iopub.execute_input": "2022-05-12T10:17:59.062350Z",
     "iopub.status.busy": "2022-05-12T10:17:59.061841Z",
     "iopub.status.idle": "2022-05-12T10:25:57.600875Z",
     "shell.execute_reply": "2022-05-12T10:25:57.600060Z"
    },
    "papermill": {
     "duration": 478.562112,
     "end_time": "2022-05-12T10:25:57.604251",
     "exception": false,
     "start_time": "2022-05-12T10:17:59.042139",
     "status": "completed"
    },
    "tags": []
   },
   "outputs": [
    {
     "data": {
      "application/vnd.jupyter.widget-view+json": {
       "model_id": "a24959e6d04b49049d5abd166da5549d",
       "version_major": 2,
       "version_minor": 0
      },
      "text/plain": [
       "0it [00:00, ?it/s]"
      ]
     },
     "metadata": {},
     "output_type": "display_data"
    }
   ],
   "source": [
    "df_list =[]\n",
    "def read_json( file ):\n",
    "    file_name =  file.name.split('.')[0]\n",
    "    try:\n",
    "        df_ = pd.read_json( str( file )).reset_index().rename( {'index': 'cell_id'}, axis=1)\n",
    "        df_['id'] = file_name\n",
    "        df_list.append(df_)\n",
    "    except:\n",
    "        pass\n",
    "    return df_list\n",
    "files = Path( Config.train_dir ).glob('*.json')\n",
    "results = Parallel(n_jobs=8)(delayed(read_json)(i) for i in tqdm(files))"
   ]
  },
  {
   "cell_type": "code",
   "execution_count": 11,
   "id": "92bca967",
   "metadata": {
    "execution": {
     "iopub.execute_input": "2022-05-12T10:25:57.646288Z",
     "iopub.status.busy": "2022-05-12T10:25:57.645740Z",
     "iopub.status.idle": "2022-05-12T10:26:22.794561Z",
     "shell.execute_reply": "2022-05-12T10:26:22.793808Z"
    },
    "papermill": {
     "duration": 25.172412,
     "end_time": "2022-05-12T10:26:22.796853",
     "exception": false,
     "start_time": "2022-05-12T10:25:57.624441",
     "status": "completed"
    },
    "tags": []
   },
   "outputs": [],
   "source": [
    "df_list = []\n",
    "for i in range(len(results)):\n",
    "    df_ = results[i][0]\n",
    "    df_list.append(df_)\n",
    "df_raw = pd.concat( df_list, ignore_index=True)"
   ]
  },
  {
   "cell_type": "code",
   "execution_count": 12,
   "id": "19d6af3b",
   "metadata": {
    "execution": {
     "iopub.execute_input": "2022-05-12T10:26:22.837177Z",
     "iopub.status.busy": "2022-05-12T10:26:22.836507Z",
     "iopub.status.idle": "2022-05-12T10:26:26.383568Z",
     "shell.execute_reply": "2022-05-12T10:26:26.382920Z"
    },
    "papermill": {
     "duration": 3.56947,
     "end_time": "2022-05-12T10:26:26.385745",
     "exception": false,
     "start_time": "2022-05-12T10:26:22.816275",
     "status": "completed"
    },
    "tags": []
   },
   "outputs": [],
   "source": [
    "df = merged_df.merge( df_raw , on='id')"
   ]
  },
  {
   "cell_type": "code",
   "execution_count": 13,
   "id": "3efaafd5",
   "metadata": {
    "execution": {
     "iopub.execute_input": "2022-05-12T10:26:26.425396Z",
     "iopub.status.busy": "2022-05-12T10:26:26.424875Z",
     "iopub.status.idle": "2022-05-12T10:26:26.437807Z",
     "shell.execute_reply": "2022-05-12T10:26:26.436928Z"
    },
    "papermill": {
     "duration": 0.03527,
     "end_time": "2022-05-12T10:26:26.439974",
     "exception": false,
     "start_time": "2022-05-12T10:26:26.404704",
     "status": "completed"
    },
    "tags": []
   },
   "outputs": [
    {
     "data": {
      "text/html": [
       "<div>\n",
       "<style scoped>\n",
       "    .dataframe tbody tr th:only-of-type {\n",
       "        vertical-align: middle;\n",
       "    }\n",
       "\n",
       "    .dataframe tbody tr th {\n",
       "        vertical-align: top;\n",
       "    }\n",
       "\n",
       "    .dataframe thead th {\n",
       "        text-align: right;\n",
       "    }\n",
       "</style>\n",
       "<table border=\"1\" class=\"dataframe\">\n",
       "  <thead>\n",
       "    <tr style=\"text-align: right;\">\n",
       "      <th></th>\n",
       "      <th>id</th>\n",
       "      <th>cell_order</th>\n",
       "      <th>ancestor_id</th>\n",
       "      <th>parent_id</th>\n",
       "      <th>cell_id</th>\n",
       "      <th>cell_type</th>\n",
       "      <th>source</th>\n",
       "    </tr>\n",
       "  </thead>\n",
       "  <tbody>\n",
       "    <tr>\n",
       "      <th>0</th>\n",
       "      <td>00015c83e2717b</td>\n",
       "      <td>2e94bd7a 3e99dee9 b5e286ea da4f7550 c417225b 5...</td>\n",
       "      <td>aa2da37e</td>\n",
       "      <td>317b65d12af9df</td>\n",
       "      <td>c417225b</td>\n",
       "      <td>code</td>\n",
       "      <td>import numpy as np # linear algebra\\nimport pa...</td>\n",
       "    </tr>\n",
       "    <tr>\n",
       "      <th>1</th>\n",
       "      <td>00015c83e2717b</td>\n",
       "      <td>2e94bd7a 3e99dee9 b5e286ea da4f7550 c417225b 5...</td>\n",
       "      <td>aa2da37e</td>\n",
       "      <td>317b65d12af9df</td>\n",
       "      <td>51e3cd89</td>\n",
       "      <td>code</td>\n",
       "      <td>input_dir = \"../input/\"</td>\n",
       "    </tr>\n",
       "    <tr>\n",
       "      <th>2</th>\n",
       "      <td>00015c83e2717b</td>\n",
       "      <td>2e94bd7a 3e99dee9 b5e286ea da4f7550 c417225b 5...</td>\n",
       "      <td>aa2da37e</td>\n",
       "      <td>317b65d12af9df</td>\n",
       "      <td>2600b4eb</td>\n",
       "      <td>code</td>\n",
       "      <td>train_df = pd.read_csv(\"../input/train.csv\")\\n...</td>\n",
       "    </tr>\n",
       "    <tr>\n",
       "      <th>3</th>\n",
       "      <td>00015c83e2717b</td>\n",
       "      <td>2e94bd7a 3e99dee9 b5e286ea da4f7550 c417225b 5...</td>\n",
       "      <td>aa2da37e</td>\n",
       "      <td>317b65d12af9df</td>\n",
       "      <td>75b65993</td>\n",
       "      <td>code</td>\n",
       "      <td>class_dict = defaultdict(int)\\n\\nkind_class_di...</td>\n",
       "    </tr>\n",
       "    <tr>\n",
       "      <th>4</th>\n",
       "      <td>00015c83e2717b</td>\n",
       "      <td>2e94bd7a 3e99dee9 b5e286ea da4f7550 c417225b 5...</td>\n",
       "      <td>aa2da37e</td>\n",
       "      <td>317b65d12af9df</td>\n",
       "      <td>cf195f8b</td>\n",
       "      <td>code</td>\n",
       "      <td>print(\"the number of images with no defects: {...</td>\n",
       "    </tr>\n",
       "  </tbody>\n",
       "</table>\n",
       "</div>"
      ],
      "text/plain": [
       "               id                                         cell_order  \\\n",
       "0  00015c83e2717b  2e94bd7a 3e99dee9 b5e286ea da4f7550 c417225b 5...   \n",
       "1  00015c83e2717b  2e94bd7a 3e99dee9 b5e286ea da4f7550 c417225b 5...   \n",
       "2  00015c83e2717b  2e94bd7a 3e99dee9 b5e286ea da4f7550 c417225b 5...   \n",
       "3  00015c83e2717b  2e94bd7a 3e99dee9 b5e286ea da4f7550 c417225b 5...   \n",
       "4  00015c83e2717b  2e94bd7a 3e99dee9 b5e286ea da4f7550 c417225b 5...   \n",
       "\n",
       "  ancestor_id       parent_id   cell_id cell_type  \\\n",
       "0    aa2da37e  317b65d12af9df  c417225b      code   \n",
       "1    aa2da37e  317b65d12af9df  51e3cd89      code   \n",
       "2    aa2da37e  317b65d12af9df  2600b4eb      code   \n",
       "3    aa2da37e  317b65d12af9df  75b65993      code   \n",
       "4    aa2da37e  317b65d12af9df  cf195f8b      code   \n",
       "\n",
       "                                              source  \n",
       "0  import numpy as np # linear algebra\\nimport pa...  \n",
       "1                            input_dir = \"../input/\"  \n",
       "2  train_df = pd.read_csv(\"../input/train.csv\")\\n...  \n",
       "3  class_dict = defaultdict(int)\\n\\nkind_class_di...  \n",
       "4  print(\"the number of images with no defects: {...  "
      ]
     },
     "execution_count": 13,
     "metadata": {},
     "output_type": "execute_result"
    }
   ],
   "source": [
    "df.head()"
   ]
  },
  {
   "cell_type": "code",
   "execution_count": 14,
   "id": "2ff2a965",
   "metadata": {
    "execution": {
     "iopub.execute_input": "2022-05-12T10:26:26.481288Z",
     "iopub.status.busy": "2022-05-12T10:26:26.480719Z",
     "iopub.status.idle": "2022-05-12T10:31:11.851467Z",
     "shell.execute_reply": "2022-05-12T10:31:11.850691Z"
    },
    "papermill": {
     "duration": 285.423646,
     "end_time": "2022-05-12T10:31:11.883272",
     "exception": false,
     "start_time": "2022-05-12T10:26:26.459626",
     "status": "completed"
    },
    "tags": []
   },
   "outputs": [
    {
     "name": "stdout",
     "output_type": "stream",
     "text": [
      "CPU times: user 4min 36s, sys: 9.18 s, total: 4min 45s\n",
      "Wall time: 4min 45s\n"
     ]
    }
   ],
   "source": [
    "%%time\n",
    "df.to_csv( \"AI4code_alldata_merged_raw.csv\", index=False)"
   ]
  },
  {
   "cell_type": "code",
   "execution_count": null,
   "id": "f88f4f85",
   "metadata": {
    "papermill": {
     "duration": 0.020565,
     "end_time": "2022-05-12T10:31:11.924657",
     "exception": false,
     "start_time": "2022-05-12T10:31:11.904092",
     "status": "completed"
    },
    "tags": []
   },
   "outputs": [],
   "source": []
  }
 ],
 "metadata": {
  "kernelspec": {
   "display_name": "Python 3",
   "language": "python",
   "name": "python3"
  },
  "language_info": {
   "codemirror_mode": {
    "name": "ipython",
    "version": 3
   },
   "file_extension": ".py",
   "mimetype": "text/x-python",
   "name": "python",
   "nbconvert_exporter": "python",
   "pygments_lexer": "ipython3",
   "version": "3.7.12"
  },
  "papermill": {
   "default_parameters": {},
   "duration": 808.805746,
   "end_time": "2022-05-12T10:31:14.771743",
   "environment_variables": {},
   "exception": null,
   "input_path": "__notebook__.ipynb",
   "output_path": "__notebook__.ipynb",
   "parameters": {},
   "start_time": "2022-05-12T10:17:45.965997",
   "version": "2.3.4"
  },
  "widgets": {
   "application/vnd.jupyter.widget-state+json": {
    "state": {
     "03c708ca74bd4c4faeec4d184448643a": {
      "model_module": "@jupyter-widgets/base",
      "model_module_version": "1.2.0",
      "model_name": "LayoutModel",
      "state": {
       "_model_module": "@jupyter-widgets/base",
       "_model_module_version": "1.2.0",
       "_model_name": "LayoutModel",
       "_view_count": null,
       "_view_module": "@jupyter-widgets/base",
       "_view_module_version": "1.2.0",
       "_view_name": "LayoutView",
       "align_content": null,
       "align_items": null,
       "align_self": null,
       "border": null,
       "bottom": null,
       "display": null,
       "flex": null,
       "flex_flow": null,
       "grid_area": null,
       "grid_auto_columns": null,
       "grid_auto_flow": null,
       "grid_auto_rows": null,
       "grid_column": null,
       "grid_gap": null,
       "grid_row": null,
       "grid_template_areas": null,
       "grid_template_columns": null,
       "grid_template_rows": null,
       "height": null,
       "justify_content": null,
       "justify_items": null,
       "left": null,
       "margin": null,
       "max_height": null,
       "max_width": null,
       "min_height": null,
       "min_width": null,
       "object_fit": null,
       "object_position": null,
       "order": null,
       "overflow": null,
       "overflow_x": null,
       "overflow_y": null,
       "padding": null,
       "right": null,
       "top": null,
       "visibility": null,
       "width": null
      }
     },
     "0b3f899bbb8446ca9491d35affdb2bef": {
      "model_module": "@jupyter-widgets/controls",
      "model_module_version": "1.5.0",
      "model_name": "ProgressStyleModel",
      "state": {
       "_model_module": "@jupyter-widgets/controls",
       "_model_module_version": "1.5.0",
       "_model_name": "ProgressStyleModel",
       "_view_count": null,
       "_view_module": "@jupyter-widgets/base",
       "_view_module_version": "1.2.0",
       "_view_name": "StyleView",
       "bar_color": null,
       "description_width": ""
      }
     },
     "49347fe15080446090b6fe037edb96b3": {
      "model_module": "@jupyter-widgets/base",
      "model_module_version": "1.2.0",
      "model_name": "LayoutModel",
      "state": {
       "_model_module": "@jupyter-widgets/base",
       "_model_module_version": "1.2.0",
       "_model_name": "LayoutModel",
       "_view_count": null,
       "_view_module": "@jupyter-widgets/base",
       "_view_module_version": "1.2.0",
       "_view_name": "LayoutView",
       "align_content": null,
       "align_items": null,
       "align_self": null,
       "border": null,
       "bottom": null,
       "display": null,
       "flex": null,
       "flex_flow": null,
       "grid_area": null,
       "grid_auto_columns": null,
       "grid_auto_flow": null,
       "grid_auto_rows": null,
       "grid_column": null,
       "grid_gap": null,
       "grid_row": null,
       "grid_template_areas": null,
       "grid_template_columns": null,
       "grid_template_rows": null,
       "height": null,
       "justify_content": null,
       "justify_items": null,
       "left": null,
       "margin": null,
       "max_height": null,
       "max_width": null,
       "min_height": null,
       "min_width": null,
       "object_fit": null,
       "object_position": null,
       "order": null,
       "overflow": null,
       "overflow_x": null,
       "overflow_y": null,
       "padding": null,
       "right": null,
       "top": null,
       "visibility": null,
       "width": null
      }
     },
     "844c46e25df94748931a22652e4f2983": {
      "model_module": "@jupyter-widgets/base",
      "model_module_version": "1.2.0",
      "model_name": "LayoutModel",
      "state": {
       "_model_module": "@jupyter-widgets/base",
       "_model_module_version": "1.2.0",
       "_model_name": "LayoutModel",
       "_view_count": null,
       "_view_module": "@jupyter-widgets/base",
       "_view_module_version": "1.2.0",
       "_view_name": "LayoutView",
       "align_content": null,
       "align_items": null,
       "align_self": null,
       "border": null,
       "bottom": null,
       "display": null,
       "flex": null,
       "flex_flow": null,
       "grid_area": null,
       "grid_auto_columns": null,
       "grid_auto_flow": null,
       "grid_auto_rows": null,
       "grid_column": null,
       "grid_gap": null,
       "grid_row": null,
       "grid_template_areas": null,
       "grid_template_columns": null,
       "grid_template_rows": null,
       "height": null,
       "justify_content": null,
       "justify_items": null,
       "left": null,
       "margin": null,
       "max_height": null,
       "max_width": null,
       "min_height": null,
       "min_width": null,
       "object_fit": null,
       "object_position": null,
       "order": null,
       "overflow": null,
       "overflow_x": null,
       "overflow_y": null,
       "padding": null,
       "right": null,
       "top": null,
       "visibility": null,
       "width": "20px"
      }
     },
     "8dec163e4dea4955b8257d5c6058d58a": {
      "model_module": "@jupyter-widgets/controls",
      "model_module_version": "1.5.0",
      "model_name": "DescriptionStyleModel",
      "state": {
       "_model_module": "@jupyter-widgets/controls",
       "_model_module_version": "1.5.0",
       "_model_name": "DescriptionStyleModel",
       "_view_count": null,
       "_view_module": "@jupyter-widgets/base",
       "_view_module_version": "1.2.0",
       "_view_name": "StyleView",
       "description_width": ""
      }
     },
     "a24959e6d04b49049d5abd166da5549d": {
      "model_module": "@jupyter-widgets/controls",
      "model_module_version": "1.5.0",
      "model_name": "HBoxModel",
      "state": {
       "_dom_classes": [],
       "_model_module": "@jupyter-widgets/controls",
       "_model_module_version": "1.5.0",
       "_model_name": "HBoxModel",
       "_view_count": null,
       "_view_module": "@jupyter-widgets/controls",
       "_view_module_version": "1.5.0",
       "_view_name": "HBoxView",
       "box_style": "",
       "children": [
        "IPY_MODEL_f1d929b0883d4809969bfab9502696a1",
        "IPY_MODEL_d0a41f3a3bc14950a0da98cca7c25d29",
        "IPY_MODEL_dbec64323de3493eab7dc6b8b099aae7"
       ],
       "layout": "IPY_MODEL_49347fe15080446090b6fe037edb96b3"
      }
     },
     "a7ff9b0e941840b1a15de5627256a93e": {
      "model_module": "@jupyter-widgets/base",
      "model_module_version": "1.2.0",
      "model_name": "LayoutModel",
      "state": {
       "_model_module": "@jupyter-widgets/base",
       "_model_module_version": "1.2.0",
       "_model_name": "LayoutModel",
       "_view_count": null,
       "_view_module": "@jupyter-widgets/base",
       "_view_module_version": "1.2.0",
       "_view_name": "LayoutView",
       "align_content": null,
       "align_items": null,
       "align_self": null,
       "border": null,
       "bottom": null,
       "display": null,
       "flex": null,
       "flex_flow": null,
       "grid_area": null,
       "grid_auto_columns": null,
       "grid_auto_flow": null,
       "grid_auto_rows": null,
       "grid_column": null,
       "grid_gap": null,
       "grid_row": null,
       "grid_template_areas": null,
       "grid_template_columns": null,
       "grid_template_rows": null,
       "height": null,
       "justify_content": null,
       "justify_items": null,
       "left": null,
       "margin": null,
       "max_height": null,
       "max_width": null,
       "min_height": null,
       "min_width": null,
       "object_fit": null,
       "object_position": null,
       "order": null,
       "overflow": null,
       "overflow_x": null,
       "overflow_y": null,
       "padding": null,
       "right": null,
       "top": null,
       "visibility": null,
       "width": null
      }
     },
     "d0a41f3a3bc14950a0da98cca7c25d29": {
      "model_module": "@jupyter-widgets/controls",
      "model_module_version": "1.5.0",
      "model_name": "FloatProgressModel",
      "state": {
       "_dom_classes": [],
       "_model_module": "@jupyter-widgets/controls",
       "_model_module_version": "1.5.0",
       "_model_name": "FloatProgressModel",
       "_view_count": null,
       "_view_module": "@jupyter-widgets/controls",
       "_view_module_version": "1.5.0",
       "_view_name": "ProgressView",
       "bar_style": "success",
       "description": "",
       "description_tooltip": null,
       "layout": "IPY_MODEL_844c46e25df94748931a22652e4f2983",
       "max": 1.0,
       "min": 0.0,
       "orientation": "horizontal",
       "style": "IPY_MODEL_0b3f899bbb8446ca9491d35affdb2bef",
       "value": 1.0
      }
     },
     "dbec64323de3493eab7dc6b8b099aae7": {
      "model_module": "@jupyter-widgets/controls",
      "model_module_version": "1.5.0",
      "model_name": "HTMLModel",
      "state": {
       "_dom_classes": [],
       "_model_module": "@jupyter-widgets/controls",
       "_model_module_version": "1.5.0",
       "_model_name": "HTMLModel",
       "_view_count": null,
       "_view_module": "@jupyter-widgets/controls",
       "_view_module_version": "1.5.0",
       "_view_name": "HTMLView",
       "description": "",
       "description_tooltip": null,
       "layout": "IPY_MODEL_03c708ca74bd4c4faeec4d184448643a",
       "placeholder": "​",
       "style": "IPY_MODEL_e289028cb1a7483a89ffacb9b868a156",
       "value": " 139256/? [07:58&lt;00:00, 292.90it/s]"
      }
     },
     "e289028cb1a7483a89ffacb9b868a156": {
      "model_module": "@jupyter-widgets/controls",
      "model_module_version": "1.5.0",
      "model_name": "DescriptionStyleModel",
      "state": {
       "_model_module": "@jupyter-widgets/controls",
       "_model_module_version": "1.5.0",
       "_model_name": "DescriptionStyleModel",
       "_view_count": null,
       "_view_module": "@jupyter-widgets/base",
       "_view_module_version": "1.2.0",
       "_view_name": "StyleView",
       "description_width": ""
      }
     },
     "f1d929b0883d4809969bfab9502696a1": {
      "model_module": "@jupyter-widgets/controls",
      "model_module_version": "1.5.0",
      "model_name": "HTMLModel",
      "state": {
       "_dom_classes": [],
       "_model_module": "@jupyter-widgets/controls",
       "_model_module_version": "1.5.0",
       "_model_name": "HTMLModel",
       "_view_count": null,
       "_view_module": "@jupyter-widgets/controls",
       "_view_module_version": "1.5.0",
       "_view_name": "HTMLView",
       "description": "",
       "description_tooltip": null,
       "layout": "IPY_MODEL_a7ff9b0e941840b1a15de5627256a93e",
       "placeholder": "​",
       "style": "IPY_MODEL_8dec163e4dea4955b8257d5c6058d58a",
       "value": ""
      }
     }
    },
    "version_major": 2,
    "version_minor": 0
   }
  }
 },
 "nbformat": 4,
 "nbformat_minor": 5
}
